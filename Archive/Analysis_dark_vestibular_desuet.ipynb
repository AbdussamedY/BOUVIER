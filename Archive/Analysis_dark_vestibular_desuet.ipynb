{
 "cells": [
  {
   "cell_type": "markdown",
   "metadata": {},
   "source": [
    "# <span style=\"border: 2px solid #1c75c8; padding: 3px; background-color: #c5ddf6; color: black;\"><strong>Module importations</strong></span>"
   ]
  },
  {
   "cell_type": "code",
   "execution_count": 1,
   "metadata": {},
   "outputs": [],
   "source": [
    "from MyModule import *"
   ]
  },
  {
   "cell_type": "code",
   "execution_count": 2,
   "metadata": {},
   "outputs": [
    {
     "name": "stdout",
     "output_type": "stream",
     "text": [
      "P:\\SharedFiles\\Abdussamed\\Pulvinar_rec_dark_80degs\\to_analyze\\animal21_a53d1s1_ephys\\21a53d1s1_210604_150840\n"
     ]
    }
   ],
   "source": [
    "Saving_boolean = True\n",
    "\n",
    "\n",
    "foo = os.path.join(r'C:\\Users\\ayazici\\Documents\\Analyses\\Vestibular_experiments', \"path.json\")\n",
    "\n",
    "if os.path.exists(foo):\n",
    "    selected_path = jd.load(foo)\n",
    "else:\n",
    "    def selection_change():\n",
    "        global selected_path\n",
    "        selected_path = selected_option.get()\n",
    "        print(selected_path)\n",
    "\n",
    "    root = tk.Tk()\n",
    "    root.title(\"Select one animal\")\n",
    "\n",
    "    selected_option = tk.StringVar()\n",
    "\n",
    "    animal_list = [\n",
    "        r'P:\\SharedFiles\\Abdussamed\\Pulvinar_rec_dark_80degs\\to_analyze\\animal20_a40d1s1_ephys\\20a40d1s1_200426_142125',\n",
    "        r'P:\\SharedFiles\\Abdussamed\\Pulvinar_rec_dark_80degs\\to_analyze\\animal20_a41d1s1_ephys_BAD\\20a41d1s1_200426_171205',\n",
    "        r'P:\\SharedFiles\\Abdussamed\\Pulvinar_rec_dark_80degs\\to_analyze\\animal20_a49d1s1_ephys\\20a49d1s1_200528_093956',\n",
    "        r'P:\\SharedFiles\\Abdussamed\\Pulvinar_rec_dark_80degs\\to_analyze\\animal20_a50d1s1_ephys\\20a50d1s1_200530_095333',\n",
    "        r'P:\\SharedFiles\\Abdussamed\\Pulvinar_rec_dark_80degs\\to_analyze\\animal21_a15d1s1_ephys\\21a15d1s1_210326_163524',\n",
    "        r'P:\\SharedFiles\\Abdussamed\\Pulvinar_rec_dark_80degs\\to_analyze\\animal21_a17d1s1_ephys\\21a17d1s1_210330_130118',\n",
    "        r'P:\\SharedFiles\\Abdussamed\\Pulvinar_rec_dark_80degs\\to_analyze\\animal21_a18d1s1_ephys\\21a18d1s1_210401_111241',\n",
    "        r'P:\\SharedFiles\\Abdussamed\\Pulvinar_rec_dark_80degs\\to_analyze\\animal21_a19d1s1_ephys\\21a19d1s1_210403_130057',\n",
    "        r'P:\\SharedFiles\\Abdussamed\\Pulvinar_rec_dark_80degs\\to_analyze\\animal21_a21d1s1_ephys\\21a21d1s1_210408_155731',\n",
    "        r'P:\\SharedFiles\\Abdussamed\\Pulvinar_rec_dark_80degs\\to_analyze\\animal21_a45d1s2_ephys_BAD\\21a45d1s2_210526_120819',\n",
    "        r'P:\\SharedFiles\\Abdussamed\\Pulvinar_rec_dark_80degs\\to_analyze\\animal21_a51d1s1_ephys\\21a51d1s1_210602_110516',\n",
    "        r'P:\\SharedFiles\\Abdussamed\\Pulvinar_rec_dark_80degs\\to_analyze\\animal21_a53d1s1_ephys\\21a53d1s1_210604_150840'\n",
    "        ]\n",
    "\n",
    "    for i, animal in enumerate(animal_list):\n",
    "        radio_button = tk.Radiobutton(root, text=animal, variable=selected_option, value=animal, command=selection_change)\n",
    "        radio_button.pack(anchor='w')\n",
    "\n",
    "    root.mainloop()"
   ]
  },
  {
   "cell_type": "code",
   "execution_count": 3,
   "metadata": {},
   "outputs": [
    {
     "data": {
      "text/plain": [
       "<contextlib.ExitStack at 0x2008e9bffb0>"
      ]
     },
     "execution_count": 3,
     "metadata": {},
     "output_type": "execute_result"
    }
   ],
   "source": [
    "# qt for popup window (savable as pdf, svg...), inline for inline plot, notebook for interactive plot, widget for interactive plot\n",
    "%matplotlib widget \n",
    "plt.ioff()\n",
    "# plt.rcdefaults()"
   ]
  },
  {
   "cell_type": "markdown",
   "metadata": {},
   "source": [
    "# <span style=\"border: 2px solid #1c75c8; padding: 3px; background-color: #c5ddf6; color: black\"><strong>FUNCTIONS</strong></span>"
   ]
  },
  {
   "cell_type": "markdown",
   "metadata": {},
   "source": [
    "## <span style=\"border: 2px solid #1c75c8; padding: 3px; background-color: #c5ddf6; color: black\"><strong>plots(row_number, col_number, width, height, *args, suptitle=None,**kwargs)</strong></span>"
   ]
  },
  {
   "cell_type": "code",
   "execution_count": 5,
   "metadata": {},
   "outputs": [],
   "source": [
    "def plots(*plot_commands, ncols=None, suptitle=None, supxlabel=None, supylabel=None, size=(9, 5), show=True, save=False, filename=None):\n",
    "    num_plots = len(plot_commands)\n",
    "    if ncols is None:\n",
    "        ncols = int(num_plots ** 0.5) + 1  # Calcul automatique du nombre de colonnes\n",
    "\n",
    "    nrows = (num_plots + ncols - 1) // ncols\n",
    "\n",
    "    fig = plt.figure(figsize=size)\n",
    "    # Création des sous-figures\n",
    "    for i, command in enumerate(plot_commands, start=1):\n",
    "        plt.subplot(nrows, ncols, i)\n",
    "        exec(command)\n",
    "\n",
    "    \n",
    "    if supxlabel:\n",
    "        fig.supxlabel(supxlabel)\n",
    "    if supylabel:\n",
    "        fig.supylabel(supylabel)\n",
    "    if suptitle:\n",
    "        plt.suptitle(suptitle)\n",
    "    plt.tight_layout()\n",
    "    if save:\n",
    "        os.makedirs(os.path.dirname(filename), exist_ok=True)\n",
    "        plt.savefig(filename)\n",
    "    if show:\n",
    "        plt.show()\n",
    "    else:\n",
    "        plt.close()"
   ]
  },
  {
   "cell_type": "markdown",
   "metadata": {},
   "source": [
    "## <span style=\"border: 2px solid #1c75c8; padding: 3px; background-color: #c5ddf6; color: black\"><strong>plotVelocity(velocity)</strong></span>"
   ]
  },
  {
   "cell_type": "code",
   "execution_count": 6,
   "metadata": {},
   "outputs": [],
   "source": [
    "def plotVelocity(velocityObject, direction, duration, rotationSpeed, xlim=None, color='c', xlabel=True, ylabel=True, save=False, filename='velocity.png', show=True):\n",
    "    velocity = velocityObject[direction]\n",
    "    durationFoo = duration['rotation']\n",
    "    xmin, xmax = durationFoo[0], durationFoo[-1]\n",
    "    \n",
    "    plt.plot(durationFoo, velocity, color=color, linewidth='1')\n",
    "    plt.ylim(-rotationSpeed, rotationSpeed)\n",
    "    if xlim:\n",
    "        plt.xlim(xlim)\n",
    "    else:\n",
    "        plt.xlim(xmin, xmax)\n",
    "    if ylabel:\n",
    "        plt.ylabel(r'Mean Velocity $(^\\circ/s)$')\n",
    "    if xlabel:\n",
    "        plt.xlabel(r'Time $(s)$')\n",
    "    plt.yticks([-rotationSpeed, 0, rotationSpeed])\n",
    "\n",
    "    if save:\n",
    "        plt.savefig(filename, bbox_inches='tight')\n",
    "        plt.close()\n",
    "    if show:\n",
    "        plt.show()"
   ]
  },
  {
   "cell_type": "markdown",
   "metadata": {},
   "source": [
    "## <span style=\"border: 2px solid #1c75c8; padding: 3px; background-color: #c5ddf6; color: black\"><strong>plotPSTH(StudiedSpikeTimes)</strong></span>"
   ]
  },
  {
   "cell_type": "code",
   "execution_count": 7,
   "metadata": {},
   "outputs": [],
   "source": [
    "def getPSTHparameters(StudiedSpikeTimes, timeObject, binResolution):\n",
    "    local_trial_number = len(StudiedSpikeTimes)\n",
    "\n",
    "    spike_number_per_trial = [[] for _ in range(local_trial_number)]\n",
    "    edges = []\n",
    "\n",
    "    for trial in range(local_trial_number):\n",
    "        spike_number_per_trial[trial], edges = np.histogram(StudiedSpikeTimes[trial], bins=np.arange(timeObject[0], round(timeObject[-1])+binResolution, binResolution))\n",
    "\n",
    "\n",
    "    frequency_per_trial = [[spike_number_per_trial[trial][bin]/binResolution for bin in range(len(edges)-1)] for trial in range(local_trial_number)]\n",
    "    mean_frequency = [np.mean([frequency_per_trial[trial][bin] for trial in range(local_trial_number)]) for bin in range(len(edges)-1)]\n",
    "\n",
    "    Zscore = (mean_frequency - np.mean(mean_frequency)) / np.std(mean_frequency) if np.std(mean_frequency) != 0 else np.zeros(len(mean_frequency))\n",
    "    Zscore[-1]=Zscore[-2]\n",
    "    Zunitary = (frequency_per_trial - np.mean(mean_frequency)) / np.std(mean_frequency) if np.std(mean_frequency) != 0 else np.zeros(len(frequency_per_trial))\n",
    "    SEM = np.std(Zunitary)/np.sqrt(len(Zunitary)) if np.std(mean_frequency) != 0 else np.zeros(len(mean_frequency))\n",
    "\n",
    "    return edges, Zscore, SEM"
   ]
  },
  {
   "cell_type": "code",
   "execution_count": 8,
   "metadata": {},
   "outputs": [],
   "source": [
    "def plotPSTH(SpikeTimesObject, condition, unit,color='k',shadedcolor='c',binResolution = 0.03,xlabel=True,ylabel=True, title='', xlim=None, save=False, filename='PSTH.png', show=True, smooth=True):\n",
    "    if type(unit)==list:\n",
    "        if type(condition)==list:\n",
    "            StudiedSpikeTimes =  np.concatenate([np.concatenate([SpikeTimesObject[y][i] for i in unit]) for y in condition])\n",
    "        else:\n",
    "            StudiedSpikeTimes = np.concatenate([SpikeTimesObject[condition][i] for i in unit])\n",
    "    else:\n",
    "        if type(condition)==list:\n",
    "            StudiedSpikeTimes = np.concatenate([SpikeTimesObject[y][unit] for y in condition])\n",
    "        else:\n",
    "            StudiedSpikeTimes = SpikeTimesObject[condition][unit]\n",
    "    \n",
    "    if condition == 'phototagging':\n",
    "        timeDuration = duration['phototagging']\n",
    "    else:\n",
    "        timeDuration = duration['rotation']\n",
    "\n",
    "    edges, Zscore, SEM = getPSTHparameters(StudiedSpikeTimes, timeDuration, binResolution)\n",
    "\n",
    "    if smooth:\n",
    "        Zscore = savgol_filter(Zscore, 9, 3)\n",
    "\n",
    "    # plt.figure(figsize=(15,6))\n",
    "    plt.plot(edges[:-1], Zscore, color=color)\n",
    "    plt.fill_between(edges[:-1], Zscore-SEM, Zscore+SEM, alpha=0.1, color=shadedcolor)\n",
    "    if xlim:\n",
    "        plt.xlim(xlim)\n",
    "    else:\n",
    "        plt.margins(x=0)\n",
    "    if ylabel:\n",
    "        plt.ylabel('Z-Score FR')\n",
    "    if xlabel:\n",
    "        plt.xlabel('Time (s)')\n",
    "\n",
    "    plt.title(title)\n",
    "\n",
    "    if save:\n",
    "        plt.savefig(filename, bbox_inches='tight')\n",
    "        plt.close()\n",
    "    if show:\n",
    "        plt.show()"
   ]
  },
  {
   "cell_type": "markdown",
   "metadata": {},
   "source": [
    "## <span style=\"border: 2px solid #1c75c8; padding: 3px; background-color: #c5ddf6; color: black\"><strong>plotRaster(spikeTimesObject)</strong></span>"
   ]
  },
  {
   "cell_type": "code",
   "execution_count": 9,
   "metadata": {},
   "outputs": [],
   "source": [
    "def plotRaster(SpikeTimesObject, condition, unit, color='black', xlabel='Time (s)', ylabel='# Trial', extra=None, title='', xlim=None, plotvelocity=False, velocitycolor='k', velocityalpha=0.13, save=False, filename='Raster.png', show=True, psth=False, binResolution=0.03, shadedcolor='red', psthcolor='red', smooth=True):\n",
    "    if type(unit)==list:\n",
    "        if type(condition)==list:\n",
    "            StudiedSpikeTimes =  np.concatenate([np.concatenate([SpikeTimesObject[y][i] for i in unit]) for y in condition])\n",
    "        else:\n",
    "            StudiedSpikeTimes = np.concatenate([SpikeTimesObject[condition][i] for i in unit])\n",
    "    else:\n",
    "        if type(condition)==list:\n",
    "            StudiedSpikeTimes = np.concatenate([SpikeTimesObject[directiony][unit] for directiony in condition])\n",
    "        else:\n",
    "            StudiedSpikeTimes = SpikeTimesObject[condition][unit]\n",
    "\n",
    "    if condition == 'phototagging':\n",
    "        timeDuration = duration['phototagging']\n",
    "    else:\n",
    "        timeDuration = duration['rotation']\n",
    "\n",
    "    \n",
    "    \n",
    "\n",
    "    linelengths = 1\n",
    "\n",
    "    plt.eventplot(StudiedSpikeTimes, linelengths=linelengths, colors=color)\n",
    "\n",
    "    if extra is not None:\n",
    "        extra()\n",
    "    \n",
    "    ### annulate the offset due to python indexation\n",
    "    def custom_formatter(x, pos):\n",
    "        return f\"{int(x) + 1}\"\n",
    "    plt.gca().yaxis.set_major_formatter(plt.FuncFormatter(custom_formatter))\n",
    "\n",
    "    if plotvelocity and condition!='phototagging':\n",
    "        normalization = len(StudiedSpikeTimes)/rotationSpeed\n",
    "        rotation = MeanRotation[condition]\n",
    "        \n",
    "        if condition == 'CCW':\n",
    "            rotation = rotation * normalization - min(rotation * normalization) - linelengths/2\n",
    "            haxis = len(StudiedSpikeTimes)*np.ones(len(duration['rotation']))\n",
    "        elif condition == 'CW':\n",
    "            rotation = rotation * normalization - linelengths/2\n",
    "            haxis = np.zeros(len(duration['rotation'])) - linelengths/2\n",
    "        else:\n",
    "            rotation = rotation\n",
    "            haxis = np.zeros(len(duration['rotation']))\n",
    "        plt.plot(duration['rotation'], rotation, color=velocitycolor, alpha=velocityalpha)\n",
    "        plt.fill_between(duration['rotation'], rotation, haxis, color=velocitycolor, alpha=velocityalpha*0.8)\n",
    "    \n",
    "\n",
    "    if xlim:\n",
    "        plt.xlim(xlim)\n",
    "    else:\n",
    "        plt.margins(x=0)\n",
    "    plt.ylim(0-linelengths/2,len(StudiedSpikeTimes)-1+linelengths/2)\n",
    "\n",
    "    if ylabel:\n",
    "        plt.ylabel(ylabel)\n",
    "    if xlabel:\n",
    "        plt.xlabel(xlabel)\n",
    "    plt.title(title)\n",
    "\n",
    "    if psth:\n",
    "        edges, Zscore, SEM = getPSTHparameters(StudiedSpikeTimes, timeDuration, binResolution)\n",
    "        if smooth:\n",
    "            Zscore = savgol_filter(Zscore, 9, 3)\n",
    "        plt.twinx()\n",
    "        plt.plot(edges[:-1], Zscore, color=psthcolor)\n",
    "        plt.fill_between(edges[:-1], Zscore-SEM, Zscore+SEM, alpha=0.1, color=shadedcolor)\n",
    "        if ylabel:\n",
    "            plt.ylabel('Z-Score FR')\n",
    "        if xlabel:\n",
    "            plt.xlabel('Time (s)')\n",
    "\n",
    "    if save:\n",
    "        plt.savefig(filename, bbox_inches='tight')\n",
    "        plt.close()\n",
    "    if show:\n",
    "        plt.show()"
   ]
  },
  {
   "cell_type": "markdown",
   "metadata": {},
   "source": [
    "## <span style=\"border: 2px solid #1c75c8; padding: 3px; background-color: #c5ddf6; color: black\"><strong>figure1(unit)</strong></span>"
   ]
  },
  {
   "cell_type": "code",
   "execution_count": null,
   "metadata": {},
   "outputs": [],
   "source": [
    "def figure1(unit,duration, rotationSpeed, timeBef, timeAft, firstcolor='red',secondcolor='blue', save=False, filename='figure 1.png'):\n",
    "      plots(\n",
    "            f\"plotVelocity(MeanRotation, 'second', 'CW',duration, rotationSpeed,color='{firstcolor}', xlabel=False, show=False)\",\n",
    "            f\"plotVelocity(MeanRotation, 'second', 'CCW',duration, rotationSpeed,color='{secondcolor}',ylabel=False,xlabel=False, show=False)\",\n",
    "            f\"plotRaster(SpikeTimes, 'second', 'CW', {unit}, color='{firstcolor}', xlabel=False, show=False)\",\n",
    "            f\"plotRaster(SpikeTimes, 'second', 'CCW', {unit}, color='{secondcolor}',xlabel=False,ylabel=False, show=False)\",\n",
    "            f\"plotPSTH(SpikeTimes, 'second', 'CW', {unit}, color='{firstcolor}', shadedcolor='{firstcolor}', show=False)\",\n",
    "            f\"plotPSTH(SpikeTimes, 'second', 'CCW', {unit},color='{secondcolor}', shadedcolor='{secondcolor}',ylabel=False, show=False)\",\n",
    "            suptitle=f\"Figure 1: Unit {unit}\",\n",
    "            save=save,\n",
    "            filename=filename,\n",
    "            ncols=2\n",
    "      )"
   ]
  },
  {
   "cell_type": "markdown",
   "metadata": {},
   "source": [
    "## <span style=\"border: 2px solid #1c75c8; padding: 3px; background-color: #c5ddf6; color: black\"><strong>seeModulation(condition, modulated)</strong></span>"
   ]
  },
  {
   "cell_type": "code",
   "execution_count": null,
   "metadata": {},
   "outputs": [],
   "source": [
    "def seeModulation(condition,modulated, color='k', velocitycolor='k', velocityalpha=0.13, save=False, filename='Modulation', show = True):\n",
    "      if condition == 'first':\n",
    "            position = np.where(modulation[condition]==modulated)[0]\n",
    "            print(f'The {modulated} modulated neurons are {position}')\n",
    "\n",
    "            for unit in position:\n",
    "                  foo = np.concatenate((SpikeTimes[condition]['CW'][unit], SpikeTimes[condition]['CCW'][unit], SpikeTimes[condition]['NotResponding'][unit]))\n",
    "                  plt.eventplot(foo, linelengths=1)\n",
    "                  plt.margins(0)\n",
    "                  plt.xlabel('Time (s)')\n",
    "                  plt.ylabel('# trial')\n",
    "                  plt.title(f'Photo-tagged unit#{unit}')\n",
    "                  # plt.rcParams['axes.spines.right'] = True\n",
    "                  # plt.rcParams['axes.spines.top'] = True\n",
    "                  # plt.rcParams['axes.spines.bottom'] = True\n",
    "                  # plt.rcParams['axes.spines.left'] = True\n",
    "                  plt.xlim(-0.5,1)\n",
    "                  if save:\n",
    "                        plt.savefig(filename, bbox_inches='tight')\n",
    "                  if show:\n",
    "                        plt.show()\n",
    "                  else:\n",
    "                        plt.close()\n",
    "                  print('\\n')\n",
    "      elif condition == 'second':\n",
    "            position = np.where([(modulation[condition][neuron]['selectivity']==modulated.split()[0]) and (modulation[condition][neuron]['type']==modulated.split()[1]) for neuron in range(Nclust)])[0]\n",
    "            print(f'The {modulated} modulated neurons are {position}')\n",
    "\n",
    "            by = modulated.split()[0]\n",
    "            how = modulated.split()[1]\n",
    "\n",
    "            for unit in np.where([modulation[condition][neuron]['selectivity']==by and modulation[condition][neuron]['type']==how for neuron in range(Nclust)])[0]:\n",
    "                  plots(\n",
    "                        f\"plotRaster(SpikeTimes, condition, 'CW', {unit}, color='{color}', xlabel=False, ylabel=False, plotvelocity=True, velocitycolor='{velocitycolor}', velocityalpha={velocityalpha}, show=False)\",\n",
    "                        f\"plotRaster(SpikeTimes, condition, 'CCW', {unit}, color='{color}', xlabel=False, ylabel=False, plotvelocity=True, velocitycolor='{velocitycolor}', velocityalpha={velocityalpha}, show=False)\",\n",
    "                        suptitle=f'Unit {unit} {modulated} modulated',\n",
    "                        supxlabel='Time (s)',\n",
    "                        supylabel='# Trial',\n",
    "                        save=save,\n",
    "                        filename=filename,\n",
    "                        show=show,\n",
    "                        ncols=2\n",
    "                  )\n",
    "                  print('\\n') if show else None"
   ]
  },
  {
   "cell_type": "markdown",
   "metadata": {},
   "source": [
    "## <span style=\"border: 2px solid #1c75c8; padding: 3px; background-color: #c5ddf6; color: black\"><strong>split_path(path)</strong></span>"
   ]
  },
  {
   "cell_type": "code",
   "execution_count": null,
   "metadata": {},
   "outputs": [],
   "source": [
    "def split_path(path):\n",
    "    drive, path_without_drive = os.path.splitdrive(path)\n",
    "    path_segments = []\n",
    "    while True:\n",
    "        head, tail = os.path.split(path_without_drive)\n",
    "        if tail:\n",
    "            path_segments.insert(0, tail)\n",
    "            path_without_drive = head\n",
    "        else:\n",
    "            if head:\n",
    "                path_segments.insert(0, head)\n",
    "            break\n",
    "    path_segments.insert(0, drive)\n",
    "    return path_segments"
   ]
  },
  {
   "cell_type": "markdown",
   "metadata": {},
   "source": [
    "## <span style=\"border: 2px solid #1c75c8; padding: 3px; background-color: #c5ddf6; color: black\"><strong>Find Peaks</strong></span>"
   ]
  },
  {
   "cell_type": "code",
   "execution_count": null,
   "metadata": {},
   "outputs": [],
   "source": [
    "def find_peaks(studiedRef, studiedTime, f):\n",
    "    centered_peaks, _ = scipy.signal.find_peaks(studiedRef, plateau_size=(0.3*f,5*f))\n",
    "\n",
    "    AllPeaks, _ = scipy.signal.find_peaks(np.diff(studiedRef))\n",
    "\n",
    "    peaks = []\n",
    "    for i, center_pic in enumerate(centered_peaks):\n",
    "        peaks.append(AllPeaks[(AllPeaks > center_pic - 3 * f) & (AllPeaks < center_pic)][0])\n",
    "\n",
    "    return peaks"
   ]
  },
  {
   "cell_type": "markdown",
   "metadata": {},
   "source": [
    "# <span style=\"border: 2px solid #1c75c8; padding: 3px; background-color: #c5ddf6; color: black\"><strong>Initiation</strong></span>"
   ]
  },
  {
   "cell_type": "markdown",
   "metadata": {},
   "source": [
    "## <span style=\"border: 2px solid #1c75c8; padding: 3px; background-color: #c5ddf6; color: black\"><strong>Paths</strong></span>"
   ]
  },
  {
   "cell_type": "code",
   "execution_count": null,
   "metadata": {},
   "outputs": [],
   "source": [
    "parent_folder = os.path.dirname(selected_path)\n",
    "saving_folder = r'C:\\Users\\ayazici\\Documents\\Analyses\\Vestibular_experiments'\n",
    "\n",
    "exp_id = \"_\".join([element for element in split_path(selected_path) if 'animal' in element][0].split('_')[0:2])\n",
    "\n",
    "# cleaned_path = os.path.normpath(selected_path)"
   ]
  },
  {
   "cell_type": "markdown",
   "metadata": {},
   "source": [
    "## <span style=\"border: 2px solid #1c75c8; padding: 3px; background-color: #c5ddf6; color: black\"><strong>Determination of Parameters</strong></span>"
   ]
  },
  {
   "cell_type": "code",
   "execution_count": null,
   "metadata": {},
   "outputs": [],
   "source": [
    "timeBefRotation           = 2\n",
    "timeAftRotation           = 8\n",
    "timeBefPhototagging = 1\n",
    "timeAftPhototagging = 3\n",
    "\n",
    "refValue          = 'din04'\n",
    "chanSpace         = 20                 #um\n",
    "rotationSpeed     = 80                 #deg/s\n",
    "ProbeType         = '32_optoElectrode'"
   ]
  },
  {
   "cell_type": "markdown",
   "metadata": {},
   "source": [
    "## <span style=\"border: 2px solid #1c75c8; padding: 3px; background-color: #c5ddf6; color: black\"><strong>Data Importation</strong></span>"
   ]
  },
  {
   "cell_type": "markdown",
   "metadata": {},
   "source": [
    "### For MUA"
   ]
  },
  {
   "cell_type": "code",
   "execution_count": null,
   "metadata": {},
   "outputs": [],
   "source": [
    "times_polytrodeAll = scipy.io.loadmat(os.path.join(selected_path, 'times_polytrodeAll.mat'))\n",
    "m_class = times_polytrodeAll['mua_class']\n",
    "'''\n",
    "m_class[:,0] : indice of the cluster for each index\n",
    "m_class[:,1] : time of the spike in ms\n",
    "m_class[:,1]/1000 : time of the spike in s\n",
    "'''\n",
    "\n",
    "muaWf = times_polytrodeAll['clusWFmua']"
   ]
  },
  {
   "cell_type": "markdown",
   "metadata": {},
   "source": [
    "### For SUA"
   ]
  },
  {
   "cell_type": "code",
   "execution_count": null,
   "metadata": {},
   "outputs": [],
   "source": [
    "c_class = times_polytrodeAll['cluster_class']  # units and associated time spiking\n",
    "\n",
    "temp_idx = c_class[:,0]    # units\n",
    "\n",
    "# find the units and remove the MUA\n",
    "units = temp_idx!=0\n",
    "temp_clus = c_class[units,0]\n",
    "\n",
    "Nclust = len(np.unique(temp_clus))\n",
    "\n",
    "# if not studied_unit:\n",
    "#     studied_unit = list(range(1,Nclust+1))\n",
    "\n",
    "temp_time = c_class[units,1]/1000  # temps de spike en seconde\n",
    "\n",
    "temp_time_clust = []\n",
    "\n",
    "for unit in range(Nclust):\n",
    "    temps_spikes_sec = c_class[np.where(c_class[:,0]==unit)][:,1] / 1000\n",
    "    temp_time_clust.append(temps_spikes_sec)"
   ]
  },
  {
   "cell_type": "markdown",
   "metadata": {},
   "source": [
    "### General"
   ]
  },
  {
   "cell_type": "code",
   "execution_count": null,
   "metadata": {},
   "outputs": [],
   "source": [
    "clusterParam = h5py.File(os.path.join(selected_path,'rez.mat'),'r')['rez']\n",
    "infos = clusterParam['ops']\n",
    "f = int(infos['fs'][0][0])\n",
    "\n",
    "os.chdir(parent_folder)\n",
    "\n",
    "table_velocity = np.squeeze(h5py.File(os.path.join(parent_folder, f\"{exp_id}_ADC00.mat\"), 'r')['data'])\n",
    "\n",
    "try:\n",
    "    stereotaxic = h5py.File(os.path.join(parent_folder, f\"VelocityData_{exp_id}.mat\"), 'r')\n",
    "except:\n",
    "    stereotaxic = scipy.io.loadmat(os.path.join(parent_folder, f\"VelocityData_{exp_id}.mat\"))\n",
    "ML_pos = np.squeeze(stereotaxic['All_ML'])[0]\n",
    "AP_pos = np.squeeze(stereotaxic['All_AP'])[0]"
   ]
  },
  {
   "cell_type": "code",
   "execution_count": null,
   "metadata": {},
   "outputs": [],
   "source": [
    "#Load all the digital Input on the workspace\n",
    "\n",
    "#DIN01 => photodiiode 1 is trig CAM\n",
    "#DIN02 => LED\n",
    "#DIN03 => trig ttl frame camera\n",
    "#DIN04 => photodiiode 2 is the VS and start turntable\n",
    "\n",
    "din = {\n",
    "    '01':[],\n",
    "    '02':[],\n",
    "    '03':[],\n",
    "    '04':[]\n",
    "}\n",
    "\n",
    "for dinkey in din.keys():\n",
    "    filename = exp_id + '_DIN'+ str(dinkey) + '.mat'\n",
    "    #with h5py.File(filename, 'r') as file:\n",
    "    #    din[str(dinkey)] = file['data'][:]\n",
    "    din[str(dinkey)] = np.squeeze(h5py.File(filename, 'r')['data'])\n",
    "\n",
    "\n",
    "if refValue == 'din01':\n",
    "    ref = din['01']\n",
    "elif refValue == 'din02':\n",
    "    ref = din['02']\n",
    "elif refValue == 'din03':\n",
    "    ref = din['03']\n",
    "elif refValue == 'din04':\n",
    "    ref = din['04']\n",
    "else:\n",
    "    print('Take a look to the indicated ref din')\n",
    "\n",
    "\n",
    "time = np.arange(len(din['01'])) / f"
   ]
  },
  {
   "cell_type": "markdown",
   "metadata": {},
   "source": [
    "## <span style=\"border: 2px solid #1c75c8; padding: 3px; background-color: #c5ddf6; color: black\"><strong>Trials beginning</strong></span>"
   ]
  },
  {
   "cell_type": "code",
   "execution_count": null,
   "metadata": {},
   "outputs": [],
   "source": [
    "def enregistrer_position(event):\n",
    "    global protocolSeparationTime\n",
    "    protocolSeparationTime = event.xdata\n",
    "    print(\"Position x enregistrée:\", protocolSeparationTime)\n",
    "    # Actualiser la ligne rouge\n",
    "    ligne_rouge.set_xdata([protocolSeparationTime, protocolSeparationTime])\n",
    "    fig.canvas.draw()\n",
    "\n",
    "# Initialiser la position x\n",
    "protocolSeparationTime = None\n",
    "\n",
    "# Créer la fenêtre principale\n",
    "root = tk.Tk()\n",
    "root.title(\"Enregistrement de position\")\n",
    "\n",
    "# Créer une figure pour afficher la courbe\n",
    "fig, ax = plt.subplots()\n",
    "x = time\n",
    "y = table_velocity\n",
    "ax.plot(x, y)\n",
    "ax.set_xlabel('X')\n",
    "ax.set_ylabel('Y')\n",
    "\n",
    "# Connecter l'événement de clic de souris à la fonction enregistrer_position\n",
    "fig.canvas.mpl_connect('button_press_event', enregistrer_position)\n",
    "\n",
    "# Ajouter une ligne rouge verticale pour suivre la position du clic\n",
    "ligne_rouge, = ax.plot([5.0, 5.0], ax.get_ylim(), color='red')  # Position initiale de la ligne rouge\n",
    "\n",
    "# Afficher la figure dans la fenêtre Tkinter\n",
    "canvas = FigureCanvasTkAgg(fig, master=root)\n",
    "canvas.draw()\n",
    "canvas.get_tk_widget().pack(side=tk.TOP, fill=tk.BOTH, expand=1)\n",
    "\n",
    "# Lancer la boucle principale de la fenêtre\n",
    "root.mainloop()\n"
   ]
  },
  {
   "cell_type": "code",
   "execution_count": null,
   "metadata": {},
   "outputs": [],
   "source": [
    "protocolSeparationIndex = int(protocolSeparationTime * f)"
   ]
  },
  {
   "cell_type": "code",
   "execution_count": null,
   "metadata": {},
   "outputs": [],
   "source": [
    "studiedRef = ref[:protocolSeparationIndex]\n",
    "studiedTime = time[:protocolSeparationIndex]\n",
    "\n",
    "peaksFirst = find_peaks(studiedRef, studiedTime, f)"
   ]
  },
  {
   "cell_type": "code",
   "execution_count": null,
   "metadata": {},
   "outputs": [],
   "source": [
    "studiedRef = ref[protocolSeparationIndex:]\n",
    "studiedTime = time[protocolSeparationIndex:]\n",
    "\n",
    "peaksSecond = find_peaks(studiedRef, studiedTime, f)"
   ]
  },
  {
   "cell_type": "code",
   "execution_count": null,
   "metadata": {},
   "outputs": [],
   "source": [
    "protocolSeparationTrial = len(peaksFirst)\n",
    "\n",
    "peaks = peaksFirst + peaksSecond"
   ]
  },
  {
   "cell_type": "code",
   "execution_count": null,
   "metadata": {},
   "outputs": [],
   "source": [
    "Ntrial = len(peaks)\n",
    "\n",
    "print(\"Number of trials :\", Ntrial)"
   ]
  },
  {
   "cell_type": "markdown",
   "metadata": {},
   "source": [
    "## <span style=\"border: 2px solid #1c75c8; padding: 3px; background-color: #c5ddf6; color: black\"><strong>Protocol Separation</strong></span>"
   ]
  },
  {
   "cell_type": "code",
   "execution_count": null,
   "metadata": {},
   "outputs": [],
   "source": [
    "# # Find protocol separation index\n",
    "# mediane_NindexBetweenTrials = np.median(np.diff(pic_position))  # en # indices\n",
    "# thresholdProtocol = 5 * mediane_NindexBetweenTrials  # seuil en indice\n",
    "# thresholdIndex = pic_position[np.ravel(np.where(np.diff(pic_position) > thresholdProtocol))[0]]  # indice d'exclusion\n",
    "# thresholdTrial = np.where(pic_position > thresholdIndex)[0][0]  # trial d'exclusion"
   ]
  },
  {
   "cell_type": "markdown",
   "metadata": {},
   "source": [
    "# <span style=\"border: 2px solid #1c75c8; padding: 3px; background-color: #c5ddf6; color: black\"><strong>Rotation Objects</strong></span>"
   ]
  },
  {
   "cell_type": "code",
   "execution_count": null,
   "metadata": {},
   "outputs": [],
   "source": [
    "duration = {'phototagging':[], 'rotation':[]}\n",
    "RotationWise = []\n",
    "MeanRotation = {'CW':[], 'CCW':[], 'NotResponding':[]}\n",
    "\n",
    "def center_reduce(data):\n",
    "    foo = savgol_filter(np.mean(data, axis=0), 50, 1)\n",
    "    return foo/max(abs(foo))*rotationSpeed if max(abs(foo))>rotationSpeed/2 else foo/max(abs(foo))\n",
    "\n",
    "def find_starting(data, direction):\n",
    "    if direction == 'CW':\n",
    "        seuil = np.mean(data[:2*f])+6*np.std(data[:baselineLenght*f])\n",
    "        shiftIndex = np.where(data > seuil)[0][0]\n",
    "    else:\n",
    "        seuil = np.mean(data[:2*f])-6*np.std(data[:baselineLenght*f])\n",
    "        shiftIndex = np.where(data < seuil)[0][0]\n",
    "    return shiftIndex\n",
    "\n",
    "for pics, table_turn, condition in zip([peaksFirst, peaksSecond], [table_velocity[:protocolSeparationIndex], table_velocity[protocolSeparationIndex:]], ['phototagging', 'rotation']):\n",
    "    rotationfooCW, rotationfooCCW, rotationfooNone = ([] for _ in range(3))\n",
    "    if condition == 'phototagging':\n",
    "        duration[condition] = np.arange(-timeBefPhototagging, timeAftPhototagging, 1/f)\n",
    "    elif condition == 'rotation':\n",
    "        for peak in pics:\n",
    "            extra = 3\n",
    "            baselineLenght = 3\n",
    "            timeBef = timeBefRotation + extra ; timeAft = timeAftRotation + extra\n",
    "\n",
    "            table_turn_trial = table_turn[peak - timeBef*f: peak + timeAft*f]\n",
    "            baseline = np.mean(table_turn_trial[:baselineLenght*f])\n",
    "            table_turn_trial = table_turn_trial - baseline\n",
    "            std = np.std(table_turn_trial[:baselineLenght*f]) ; baseline = np.mean(table_turn_trial[:baselineLenght*f])\n",
    "\n",
    "            if np.mean(table_turn_trial[timeBef*f:(timeBef+4)*f])>baseline+4*std:\n",
    "                RotationWise.append('CW') \n",
    "                rotationfooCW.append(table_turn_trial)\n",
    "            elif np.mean(table_turn_trial[timeBef*f:(timeBef+4)*f])<-baseline-4*std:\n",
    "                RotationWise.append('CCW')\n",
    "                rotationfooCCW.append(table_turn_trial)\n",
    "            else:\n",
    "                RotationWise.append('NotResponding')\n",
    "                rotationfooNone.append(table_turn_trial)\n",
    "    \n",
    "        MeanRotation['CW'], MeanRotation['CCW'], MeanRotation['NotResponding'] = center_reduce(rotationfooCW), center_reduce(rotationfooCCW), center_reduce(rotationfooNone)\n",
    "\n",
    "        startCW = find_starting(MeanRotation['CW'], 'CW')\n",
    "        startCCW = find_starting(MeanRotation['CCW'], 'CCW')\n",
    "        start = int(np.mean([startCW, startCCW]))\n",
    "        shiftIndex = start - timeBefRotation*f - extra*f\n",
    "        duration[condition] = np.arange(-timeBefRotation, timeAftRotation, 1/f)\n",
    "    \n",
    "\n",
    "for direction in ['CW', 'CCW', 'NotResponding']:\n",
    "    MeanRotation[direction] = MeanRotation[direction][extra*f+shiftIndex:-extra*f+shiftIndex]"
   ]
  },
  {
   "cell_type": "markdown",
   "metadata": {},
   "source": [
    "## <span style=\"border: 2px solid #1c75c8; padding: 3px; background-color: #c5ddf6; color: black\"><strong>Velocity plots</strong></span>"
   ]
  },
  {
   "cell_type": "code",
   "execution_count": null,
   "metadata": {},
   "outputs": [],
   "source": [
    "plt.plot(duration['rotation'], MeanRotation['CW'], label='CW')\n",
    "\n",
    "plt.show()\n",
    "# print(max(MeanRotation['CW']))"
   ]
  },
  {
   "cell_type": "markdown",
   "metadata": {},
   "source": [
    "## <span style=\"border: 2px solid #1c75c8; padding: 3px; background-color: #c5ddf6; color: black\"><strong>Shift between 0 and rotation</strong></span>"
   ]
  },
  {
   "cell_type": "code",
   "execution_count": null,
   "metadata": {},
   "outputs": [],
   "source": [
    "print(f\"{shiftIndex}, {time[shiftIndex]}\")"
   ]
  },
  {
   "cell_type": "markdown",
   "metadata": {},
   "source": [
    "## <span style=\"border: 2px solid #1c75c8; padding: 3px; background-color: #c5ddf6; color: black\"><strong>Plots Mean Rotations</strong></span>"
   ]
  },
  {
   "cell_type": "code",
   "execution_count": null,
   "metadata": {},
   "outputs": [],
   "source": [
    "plots(\n",
    "    \"plotVelocity(MeanRotation, 'CW', duration, rotationSpeed, color='orange', xlabel=False, ylabel=False, show=False)\",\n",
    "    \"plotVelocity(MeanRotation, 'CCW', duration, rotationSpeed, color='purple', xlabel=False, ylabel=False, show=False)\",\n",
    "    \"plotVelocity(MeanRotation, 'NotResponding', duration, rotationSpeed, color='yellow', xlabel=False, ylabel=False, show=False)\",\n",
    "    supxlabel='Time (s)',\n",
    "    supylabel='Mean Velocity (°/s)',\n",
    "    ncols=1\n",
    ")"
   ]
  },
  {
   "cell_type": "markdown",
   "metadata": {},
   "source": [
    "# <span style=\"border: 2px solid #1c75c8; padding: 3px; background-color: #c5ddf6; color: black\"><strong>MUA Analysis</strong></span>"
   ]
  },
  {
   "cell_type": "markdown",
   "metadata": {},
   "source": [
    "## <span style=\"border: 2px solid #1c75c8; padding: 3px; background-color: #c5ddf6; color: black\"><strong>Depths determination</strong></span>"
   ]
  },
  {
   "cell_type": "code",
   "execution_count": null,
   "metadata": {},
   "outputs": [],
   "source": [
    "# get the number of units\n",
    "Nclust_mua = len(np.unique(m_class[:,0]))\n",
    "ind_mua = m_class[:,0]\n",
    "\n",
    "\n",
    "# find the peak wf to find the depth\n",
    "szm = muaWf.shape\n",
    "# DEPTH of the unit\n",
    "# Get the mua activity that is in index 0 of the clusWF\n",
    "\n",
    "allBasem = np.zeros((szm[1],szm[2]))\n",
    "PkDepthUnit = np.zeros((szm[0], 1))\n",
    "minMatrixm = np.zeros((szm[0], 1))\n",
    "\n",
    "for spm in range(szm[0]):\n",
    "    baselinem = np.mean(muaWf[spm][0:5],axis=0)-500 # offset -500 for potential positive baseline\n",
    "\n",
    "    for bm in range(szm[2]):\n",
    "        allBasem[:,bm] = baselinem[bm]*np.ones((szm[1]))\n",
    "\n",
    "    spikeWavm = muaWf[spm,:,:]-500\n",
    "    wfm = spikeWavm - allBasem\n",
    "\n",
    "    minMatrixm[spm] = np.min(wfm)\n",
    "\n",
    "    argMm = np.where(wfm==minMatrixm[spm])\n",
    "    # get the depth of the unit\n",
    "    uout = np.unique(argMm[1])\n",
    "    argMm = []\n",
    "    argMm = uout[0]\n",
    "    PkDepthUnit[spm] = (argMm+1)*chanSpace # +1 because of Python indexation"
   ]
  },
  {
   "cell_type": "code",
   "execution_count": null,
   "metadata": {},
   "outputs": [],
   "source": [
    "x = 0 # depth of the tetrode\n",
    "\n",
    "mapp = np.squeeze(infos['chanMap'])\n",
    "\n",
    "if len(mapp)==32:\n",
    "    Ntet = 16\n",
    "elif len(mapp)==64:\n",
    "    Ntet = 32\n",
    "    chanSpace = chanSpace/2\n",
    "else:\n",
    "    print('WEIRD NUMBER OF TETRODES')\n",
    "\n",
    "ArgallLayers = {i: [] for i in range(Ntet)}\n",
    "\n",
    "factorTet = chanSpace * len(mapp)/Ntet\n",
    "\n",
    "for lay in range(Ntet):\n",
    "    # H5 electrode\n",
    "    if np.sum(mapp[0:4]==[33, 38, 44, 40])==4:\n",
    "        ArgallLayers[lay] = np.where((PkDepthUnit <= x+factorTet) & (PkDepthUnit > x))[0]\n",
    "    else:\n",
    "        ArgallLayers[lay] = np.where((PkDepthUnit <= x+factorTet) & (PkDepthUnit > x))[0]\n",
    "    x += factorTet"
   ]
  },
  {
   "cell_type": "markdown",
   "metadata": {},
   "source": [
    "## <span style=\"border: 2px solid #1c75c8; padding: 3px; background-color: #c5ddf6; color: black\"><strong>Associating tetrodes with depth</strong></span>"
   ]
  },
  {
   "cell_type": "code",
   "execution_count": null,
   "metadata": {},
   "outputs": [],
   "source": [
    "m_class_tet = np.zeros((len(m_class),2))\n",
    "\n",
    "\n",
    "# First column\n",
    "for tet in ArgallLayers:\n",
    "    for unit in ArgallLayers[tet]:\n",
    "        pos = np.where(m_class[:,0]-1 == unit)[0]\n",
    "        m_class_tet[pos,0] = tet\n",
    "        \n",
    "# Second column \n",
    "m_class_tet[:,1] = m_class[:,1]"
   ]
  },
  {
   "cell_type": "markdown",
   "metadata": {},
   "source": [
    "## <span style=\"border: 2px solid #1c75c8; padding: 3px; background-color: #c5ddf6; color: black\"><strong>Spiking times of tetrodes</strong></span>"
   ]
  },
  {
   "cell_type": "code",
   "execution_count": null,
   "metadata": {},
   "outputs": [],
   "source": [
    "AllSpikeTimesMUA = np.empty((Ntet,Ntrial),dtype=object)\n",
    "\n",
    "\n",
    "for tet in range(Ntet):\n",
    "    spikingTimeTet = m_class_tet[np.where(m_class_tet[:,0] == tet)[0],1]/1000\n",
    "\n",
    "    \n",
    "    \n",
    "\n",
    "    for trial in range(Ntrial):\n",
    "        if trial <= protocolSeparationTrial:\n",
    "            upperTime = peaks[trial]/f + timeAftPhototagging\n",
    "            lowerTime = peaks[trial]/f - timeBefPhototagging\n",
    "            rectifierTime = - lowerTime - timeBefPhototagging\n",
    "        else:\n",
    "            timeBef = timeBefRotation\n",
    "            timeAft = timeAftRotation\n",
    "            upperTime = (peaks[trial]+shiftIndex)/f + timeAftRotation + protocolSeparationTime\n",
    "            lowerTime = (peaks[trial]+shiftIndex)/f - timeBefRotation + protocolSeparationTime\n",
    "            rectifierTime = - lowerTime - timeBefRotation\n",
    "        \n",
    "        boolean = (spikingTimeTet > lowerTime) & (spikingTimeTet < upperTime)\n",
    "        AllSpikeTimesMUA[tet][trial] = spikingTimeTet[boolean] + rectifierTime"
   ]
  },
  {
   "cell_type": "code",
   "execution_count": null,
   "metadata": {},
   "outputs": [],
   "source": [
    "SpikeTimesMUA = {\n",
    "    'phototagging': [[] for _ in range(Ntet)],\n",
    "    'CW': [[] for _ in range(Ntet)],\n",
    "    'CCW': [[] for _ in range(Ntet)],\n",
    "    'NotResponding': [[] for _ in range(Ntet)]\n",
    "}\n",
    "\n",
    "\n",
    "for tet in range(len(AllSpikeTimesMUA)):\n",
    "    for trial in range(Ntrial):\n",
    "        if trial < protocolSeparationTrial:\n",
    "            direction = 'phototagging'\n",
    "        else:\n",
    "            trialIndex = trial - protocolSeparationTrial\n",
    "            if RotationWise[trialIndex] == 'CW':\n",
    "                direction = 'CW'\n",
    "            elif RotationWise[trialIndex] == 'CCW':\n",
    "                direction = 'CCW'\n",
    "            else:\n",
    "                direction = 'NotResponding'\n",
    "        \n",
    "        SpikeTimesMUA[direction][tet].append([AllSpikeTimesMUA[tet][trial]])\n",
    "\n",
    "        \n",
    "for condition in SpikeTimesMUA:\n",
    "    for tet in range(len(SpikeTimesMUA[condition])):\n",
    "        SpikeTimesMUA[condition][tet] = np.array([SpikeTimesMUA[condition][tet][trial][0] for trial in range(len(SpikeTimesMUA[condition][tet]))], dtype=object)"
   ]
  },
  {
   "cell_type": "markdown",
   "metadata": {},
   "source": [
    "## <span style=\"border: 2px solid #1c75c8; padding: 3px; background-color: #c5ddf6; color: black\"><strong>Automatic detection of 0</strong></span>"
   ]
  },
  {
   "cell_type": "code",
   "execution_count": null,
   "metadata": {},
   "outputs": [],
   "source": [
    "for tet in range(Ntet):\n",
    "    if (SpikeTimesMUA['CW'][tet].size == 0) and (SpikeTimesMUA['CW'][tet+1].size != 0):\n",
    "        LP_ref = tet+1\n",
    "        break\n",
    "\n",
    "for tet in range(Ntet):\n",
    "    if (SpikeTimesMUA['CCW'][tet].size == 0) and (SpikeTimesMUA['CCW'][tet+1].size != 0):\n",
    "        if LP_ref != tet+1:\n",
    "            raise Exception(\"Do detection manually bro.\")\n",
    "        break\n",
    "\n",
    "print(f\"Automatic detection of the LP is the tetrode #{LP_ref} (Python indexation)\")"
   ]
  },
  {
   "cell_type": "code",
   "execution_count": null,
   "metadata": {},
   "outputs": [],
   "source": [
    "DepthTetrode = np.zeros(Ntet)\n",
    "AllDepth = np.zeros(Nclust)\n",
    "\n",
    "for tet in range(Ntet):\n",
    "    DepthTetrode[tet] = (tet-LP_ref)*factorTet\n",
    "\n",
    "for unit in range(Nclust):\n",
    "    AllDepth[unit] = PkDepthUnit[unit][0] - LP_ref*factorTet"
   ]
  },
  {
   "cell_type": "markdown",
   "metadata": {},
   "source": [
    "## <span style=\"border: 2px solid #1c75c8; padding: 3px; background-color: #c5ddf6; color: black\"><strong>Saving Figures</strong></span>"
   ]
  },
  {
   "cell_type": "code",
   "execution_count": 10,
   "metadata": {},
   "outputs": [
    {
     "ename": "NameError",
     "evalue": "name 'saving_folder' is not defined",
     "output_type": "error",
     "traceback": [
      "\u001b[1;31m---------------------------------------------------------------------------\u001b[0m",
      "\u001b[1;31mNameError\u001b[0m                                 Traceback (most recent call last)",
      "Cell \u001b[1;32mIn[10], line 1\u001b[0m\n\u001b[1;32m----> 1\u001b[0m MUA_saving_folder \u001b[38;5;241m=\u001b[39m os\u001b[38;5;241m.\u001b[39mpath\u001b[38;5;241m.\u001b[39mjoin(\u001b[43msaving_folder\u001b[49m, \u001b[38;5;124m'\u001b[39m\u001b[38;5;124mMUA\u001b[39m\u001b[38;5;124m'\u001b[39m, exp_id)\n\u001b[0;32m      2\u001b[0m os\u001b[38;5;241m.\u001b[39mmakedirs(MUA_saving_folder, exist_ok\u001b[38;5;241m=\u001b[39m\u001b[38;5;28;01mTrue\u001b[39;00m)\n\u001b[0;32m      5\u001b[0m \u001b[38;5;28;01mfor\u001b[39;00m tet \u001b[38;5;129;01min\u001b[39;00m \u001b[38;5;28mrange\u001b[39m(Ntet):\n",
      "\u001b[1;31mNameError\u001b[0m: name 'saving_folder' is not defined"
     ]
    }
   ],
   "source": [
    "MUA_saving_folder = os.path.join(saving_folder, 'MUA', exp_id)\n",
    "os.makedirs(MUA_saving_folder, exist_ok=True)\n",
    "\n",
    "\n",
    "for tet in range(Ntet):\n",
    "        plots(\n",
    "                \"plotRaster(SpikeTimesMUA, 'phototagging', tet, color='c', xlabel=False, show=False, psth=True, psthcolor='blue', shadedcolor='blue', smooth=False)\",\n",
    "                suptitle=f\"MUA Phototagging tetrode#{tet} {exp_id}\\n(Automatic detection of 0 for tet#{LP_ref})\",\n",
    "                save = Saving_boolean,\n",
    "                filename = os.path.join(MUA_saving_folder,f\"MUA_phototagging_{exp_id}_tet#{tet}.png\"),\n",
    "                ncols=1,\n",
    "                show=False\n",
    "        )\n",
    "\n",
    "\n",
    "for tet in range(Ntet):\n",
    "        plots(\n",
    "                \"plotRaster(SpikeTimesMUA, 'CW', tet, color='c', xlabel=False, plotvelocity=True, velocitycolor='red', velocityalpha=0.1, show=False, psth=True, psthcolor='blue', shadedcolor='blue', smooth=False, title='CW')\",\n",
    "                \"plotRaster(SpikeTimesMUA, 'CCW', tet, color='c', xlabel=False, plotvelocity=True, velocitycolor='red', velocityalpha=0.1, show=False, ylabel=False, psth=True, psthcolor='blue', shadedcolor='blue', smooth=False, title='CCW')\",\n",
    "                suptitle=f\"MUA Rotation tetrode#{tet} {exp_id}\\n(Automatic detection of 0 for tet#{LP_ref})\",\n",
    "                save = Saving_boolean,\n",
    "                filename = os.path.join(MUA_saving_folder,f\"MUA_rotation_{exp_id}_tet#{tet}.png\"),\n",
    "                ncols=2,\n",
    "                size=(15,5),\n",
    "                show=False\n",
    "        )"
   ]
  },
  {
   "cell_type": "markdown",
   "metadata": {},
   "source": [
    "# <span style=\"border: 2px solid #1c75c8; padding: 3px; background-color: #c5ddf6; color: black\"><strong>SUA Analysis</strong></span>"
   ]
  },
  {
   "cell_type": "markdown",
   "metadata": {},
   "source": [
    "## <span style=\"border: 2px solid #1c75c8; padding: 3px; background-color: #c5ddf6; color: black\"><strong>All Spiking Times</strong></span>"
   ]
  },
  {
   "cell_type": "code",
   "execution_count": null,
   "metadata": {},
   "outputs": [],
   "source": [
    "## Spike times organized by cluster\n",
    "AllSpikeTimes = np.empty((Nclust, Ntrial), dtype=object)\n",
    "\n",
    "\n",
    "for unit in range(Nclust):\n",
    "    spikingTimeClus = temp_time_clust[unit]\n",
    "\n",
    "    for trial in range(Ntrial):\n",
    "        if trial < protocolSeparationTrial:\n",
    "            upperTime = peaks[trial] / f + timeAftPhototagging\n",
    "            lowerTime = peaks[trial] / f - timeBefPhototagging\n",
    "            rectifierTime = - lowerTime - timeBefPhototagging\n",
    "        else:\n",
    "            upperTime = (peaks[trial] + shiftIndex) / f + timeAftRotation + protocolSeparationTime\n",
    "            lowerTime = (peaks[trial] + shiftIndex) / f - timeBefRotation + protocolSeparationTime\n",
    "            rectifierTime = - lowerTime - timeBefRotation\n",
    "\n",
    "        bornes = np.logical_and(lowerTime < spikingTimeClus, spikingTimeClus < upperTime)\n",
    "\n",
    "        AllSpikeTimes[unit][trial] = spikingTimeClus[bornes] + rectifierTime"
   ]
  },
  {
   "cell_type": "markdown",
   "metadata": {},
   "source": [
    "## <span style=\"border: 2px solid #1c75c8; padding: 3px; background-color: #c5ddf6; color: black\"><strong>Spiking times according to condition</strong></span>"
   ]
  },
  {
   "cell_type": "code",
   "execution_count": null,
   "metadata": {},
   "outputs": [],
   "source": [
    "SpikeTimes = {\n",
    "    'phototagging': [[] for _ in range(Nclust)],\n",
    "    'CW': [[] for _ in range(Nclust)],\n",
    "    'CCW': [[] for _ in range(Nclust)],\n",
    "    'NotResponding': [[] for _ in range(Nclust)]\n",
    "}\n",
    "\n",
    "\n",
    "for neuron in range(len(AllSpikeTimes)):\n",
    "    for trial in range(Ntrial):\n",
    "\n",
    "        if trial < protocolSeparationTrial:\n",
    "            condition = 'phototagging'\n",
    "        else:\n",
    "            if RotationWise[trial-protocolSeparationTrial] == 'CW':\n",
    "                condition = 'CW'\n",
    "            elif RotationWise[trial-protocolSeparationTrial] == 'CCW':\n",
    "                condition = 'CCW'\n",
    "            else:\n",
    "                condition = 'NotResponding'\n",
    "        \n",
    "        SpikeTimes[condition][neuron].append([AllSpikeTimes[neuron][trial]])\n",
    "\n",
    "\n",
    "\n",
    "for condition in SpikeTimes:\n",
    "    for unit in range(len(SpikeTimes[condition])):\n",
    "        SpikeTimes[condition][unit] = np.array([SpikeTimes[condition][unit][trial][0] for trial in range(len(SpikeTimes[condition][unit]))], dtype=object)"
   ]
  },
  {
   "cell_type": "markdown",
   "metadata": {},
   "source": [
    "## <span style=\"border: 2px solid #1c75c8; padding: 3px; background-color: #c5ddf6; color: black\"><strong>Raster plots</strong></span>"
   ]
  },
  {
   "cell_type": "code",
   "execution_count": null,
   "metadata": {},
   "outputs": [],
   "source": [
    "Raster_saving_folder = os.path.join(saving_folder, 'Raster', exp_id)\n",
    "os.makedirs(Raster_saving_folder, exist_ok=True)\n",
    "\n",
    "All_raster_saving_folder = os.path.join(saving_folder, 'Raster', exp_id, 'All')\n",
    "for direction in ['CW', 'CCW', 'NotResponding', 'phototagging']:\n",
    "    os.makedirs(os.path.join(All_raster_saving_folder, direction), exist_ok=True)\n",
    "\n",
    "\n",
    "plots(\n",
    "    *[f\"plotRaster(SpikeTimes, 'phototagging', {unit}, show=False, xlabel=False, ylabel=False, title='{unit}', color='blue', psth=True, psthcolor='red', shadedcolor='red')\" for unit in range(Nclust)],\n",
    "    suptitle=f\"Phototagging {exp_id}\",\n",
    "    save=Saving_boolean,\n",
    "    filename=os.path.join(Raster_saving_folder, f\"Raster_{exp_id}_phototagging.png\"),\n",
    "    size=(15,10)\n",
    ")\n",
    "\n",
    "for condition in ['CW', 'CCW']:\n",
    "    number = len(SpikeTimes[condition])\n",
    "    element = f\"Rotation {condition}\"\n",
    "    plots(\n",
    "        *[f\"plotRaster(SpikeTimes, '{condition}', {unit}, show=False, xlabel=False, ylabel=False, title='{unit}', color='blue', psth=True, psthcolor='red', shadedcolor='red')\" for unit in range(number)],\n",
    "        suptitle=f\"{element} {exp_id}\",\n",
    "        save=Saving_boolean,\n",
    "        filename=os.path.join(Raster_saving_folder, f\"Raster_{exp_id}_{condition}.png\"),\n",
    "        size=(15,10)\n",
    "    )"
   ]
  },
  {
   "cell_type": "code",
   "execution_count": null,
   "metadata": {},
   "outputs": [],
   "source": [
    "ATTENTION IL FAUT TOUS LES RASTER !!!!!!"
   ]
  },
  {
   "cell_type": "markdown",
   "metadata": {},
   "source": [
    "## <span style=\"border: 2px solid #1c75c8; padding: 3px; background-color: #c5ddf6; color: black\"><strong>Figure 1</strong></span>"
   ]
  },
  {
   "cell_type": "code",
   "execution_count": null,
   "metadata": {},
   "outputs": [],
   "source": [
    "# unit = 16\n",
    "\n",
    "# figure1(unit,duration, rotationSpeed, timeBef, timeAft)"
   ]
  },
  {
   "cell_type": "markdown",
   "metadata": {},
   "source": [
    "## <span style=\"border: 2px solid #1c75c8; padding: 3px; background-color: #c5ddf6; color: black\"><strong>PSTH Heatmap</strong></span>"
   ]
  },
  {
   "cell_type": "code",
   "execution_count": null,
   "metadata": {},
   "outputs": [],
   "source": [
    "# Zmaxiscore = [[] for _ in range(len(SpikeTimes['first']['CW']))]\n",
    "\n",
    "# for unit in range(len(SpikeTimes['first']['CW'])):\n",
    "#     StudiedSpikeTimes = SpikeTimes['first']['CW'][unit]\n",
    "\n",
    "#     color='k'\n",
    "#     shadedcolor='k'\n",
    "#     ylabel=True\n",
    "#     xlabel=True\n",
    "\n",
    "#     local_trial_number = len(StudiedSpikeTimes)\n",
    "\n",
    "#     binResolution=0.03\n",
    "\n",
    "#     spike_number_per_trial = [[] for _ in range(local_trial_number)]\n",
    "#     edges = []\n",
    "#     unitary_firing_rate = [[] for _ in range(local_trial_number)]\n",
    "\n",
    "#     for trial in range(local_trial_number):\n",
    "#         spike_number_per_trial[trial], edges = np.histogram(StudiedSpikeTimes[trial], bins=np.arange(-timeBef, timeAft + binResolution, binResolution))\n",
    "\n",
    "#     frequency_per_trial = [[spike_number_per_trial[trial][bin]/binResolution for bin in range(len(edges)-1)] for trial in range(local_trial_number)]\n",
    "#     mean_frequency = [np.mean([frequency_per_trial[trial][bin] for trial in range(local_trial_number)]) for bin in range(len(edges)-1)]\n",
    "\n",
    "#     Zscore = (mean_frequency - np.mean(mean_frequency)) / np.std(mean_frequency)\n",
    "#     Zunitary = (frequency_per_trial - np.mean(mean_frequency)) / np.std(mean_frequency)\n",
    "#     SEM = np.std(Zunitary)/np.sqrt(len(Zunitary))\n",
    "\n",
    "#     # # plt.figure(figsize=(15,6))\n",
    "#     # plt.plot(edges[:-1], Zscore, color=color)\n",
    "#     # plt.fill_between(edges[:-1], Zscore-SEM, Zscore+SEM, alpha=0.1, color=shadedcolor)\n",
    "#     # plt.xlim(-timeBef,timeAft)\n",
    "#     # if ylabel:\n",
    "#     #     plt.ylabel('PSTH')\n",
    "#     # if xlabel:\n",
    "#     #     plt.xlabel('Time (s)')\n",
    "#     # plt.show()\n",
    "\n",
    "#     Zmaxiscore[unit] = Zscore\n",
    "\n",
    "\n",
    "\n",
    "# # del Zmaxiscore[22]\n",
    "\n",
    "\n",
    "# # # Créer des données aléatoires pour le heatmap (une matrice 10x10)\n",
    "# # data = np.random.rand(10, 100)\n",
    "\n",
    "# # Afficher le heatmap\n",
    "# plt.figure(figsize=(15, 5))\n",
    "# plt.imshow(Zmaxiscore, cmap='coolwarm', interpolation='nearest', vmin=-2,vmax=2)\n",
    "# plt.colorbar()  # Ajouter une barre de couleur pour référence\n",
    "# # plt.xticks(duration)\n",
    "# plt.show()"
   ]
  },
  {
   "cell_type": "markdown",
   "metadata": {},
   "source": [
    "## <span style=\"border: 2px solid #1c75c8; padding: 3px; background-color: #c5ddf6; color: black\"><strong>Statistics</strong></span>"
   ]
  },
  {
   "cell_type": "markdown",
   "metadata": {},
   "source": [
    "### <span style=\"border: 2px solid #1c75c8; padding: 3px; background-color: #c5ddf6; color: black\"><strong>Spike counting</strong></span>"
   ]
  },
  {
   "cell_type": "code",
   "execution_count": null,
   "metadata": {},
   "outputs": [],
   "source": [
    "numberBef, numberDur, diffBefDur, sumBefDur = ({\n",
    "    'phototagging': [[] for _ in range(Nclust)],\n",
    "    'CW': [[] for _ in range(Nclust)],\n",
    "    'CCW': [[] for _ in range(Nclust)]\n",
    "} for _ in range(4))\n",
    "\n",
    "vMI = {\n",
    "    'CW': [[] for _ in range(Nclust)],\n",
    "    'CCW': [[] for _ in range(Nclust)]\n",
    "}\n",
    "\n",
    "dirMI = [[] for _ in range(Nclust)]\n",
    "\n",
    "\n",
    "\n",
    "windowDur = [0, 0.003]\n",
    "windowBef = [-0.004, -0.001]\n",
    "\n",
    "condition = 'phototagging'\n",
    "for unit in range(Nclust):\n",
    "    for trial in range(len(SpikeTimes[condition][unit])):\n",
    "        fooSpike = SpikeTimes[condition][unit][trial]\n",
    "        numberBef[condition][unit].append(np.sum((fooSpike < windowBef[1]) & (fooSpike > windowBef[0])))\n",
    "        numberDur[condition][unit].append(np.sum((fooSpike < windowDur[1]) & (fooSpike > windowDur[0])))\n",
    "        diffBefDur[condition][unit].append(numberDur[condition][unit][-1] - np.mean(numberBef[condition][unit][-1]))\n",
    "        sumBefDur[condition][unit].append(numberDur[condition][unit][-1] + np.mean(numberBef[condition][unit][-1]))\n",
    "\n",
    "\n",
    "\n",
    "foo = np.where(MeanRotation['CW'] > rotationSpeed/2)[0]\n",
    "windowDur = [foo[0], foo[-1]]\n",
    "windowBef = [1*f, 1*f+len(foo)]\n",
    "\n",
    "for condition in ['CW', 'CCW']:\n",
    "    for unit in range(Nclust):\n",
    "        for trial in range(len(SpikeTimes[condition][unit])):\n",
    "            fooSpike = SpikeTimes[condition][unit][trial]\n",
    "            numberBef[condition][unit].append(np.sum((fooSpike < duration['rotation'][windowBef[1]]) & (fooSpike > duration['rotation'][windowBef[0]])))\n",
    "            numberDur[condition][unit].append(np.sum((fooSpike < duration['rotation'][windowDur[1]]) & (fooSpike > duration['rotation'][windowDur[0]])))\n",
    "            diffBefDur[condition][unit].append(numberDur[condition][unit][-1] - np.mean(numberBef[condition][unit][-1]))\n",
    "            sumBefDur[condition][unit].append(numberDur[condition][unit][-1] + np.mean(numberBef[condition][unit][-1]))\n",
    "        vMI[condition][unit] = np.mean(diffBefDur[condition][unit]) / np.mean(sumBefDur[condition][unit])\n",
    "\n",
    "meanCW = np.mean(numberDur['CW'], axis=1)\n",
    "meanCCW = np.mean(numberDur['CCW'], axis=1)\n",
    "dirMI = (meanCW - meanCCW) / (meanCW + meanCCW)"
   ]
  },
  {
   "cell_type": "markdown",
   "metadata": {},
   "source": [
    "### <span style=\"border: 2px solid #1c75c8; padding: 3px; background-color: #c5ddf6; color: black\"><strong>Paired Wilcoxon Test</strong></span>"
   ]
  },
  {
   "cell_type": "code",
   "execution_count": null,
   "metadata": {},
   "outputs": [],
   "source": [
    "statistics_vMI, p_values_vMI = ({\n",
    "    'phototagging': [[] for _ in range(Nclust)],\n",
    "    'CW': [[] for _ in range(Nclust)],\n",
    "    'CCW': [[] for _ in range(Nclust)]\n",
    "} for _ in range(2))\n",
    "\n",
    "statistics_dirMI, p_values_dirMI = ([[] for _ in range(Nclust)] for _ in range(2))\n",
    "\n",
    "\n",
    "\n",
    "for condition in ['CW', 'CCW', 'phototagging']:\n",
    "        for unit in range(Nclust):\n",
    "            try:\n",
    "                results_vMI = wilcoxon(numberBef[condition][unit], numberDur[condition][unit])\n",
    "                statistics_vMI[condition][unit].append(results_vMI[0])\n",
    "                p_values_vMI[condition][unit].append(results_vMI[1])\n",
    "            except ValueError:\n",
    "                statistics_vMI[condition][unit].append(0)\n",
    "                p_values_vMI[condition][unit].append(1)\n",
    "\n",
    "\n",
    "for unit in range(Nclust):\n",
    "    try:\n",
    "        results_dirMI = wilcoxon(numberDur['CW'][unit], numberDur['CCW'][unit])\n",
    "        statistics_dirMI[unit].append(results_dirMI[0])\n",
    "        p_values_dirMI[unit].append(results_dirMI[1])\n",
    "    except ValueError:\n",
    "        statistics_dirMI[unit].append(0)\n",
    "        p_values_dirMI[unit].append(1)"
   ]
  },
  {
   "cell_type": "markdown",
   "metadata": {},
   "source": [
    "### <span style=\"border: 2px solid #1c75c8; padding: 3px; background-color: #c5ddf6; color: black\"><strong>Determination of significant units by condition</strong></span>"
   ]
  },
  {
   "cell_type": "code",
   "execution_count": null,
   "metadata": {},
   "outputs": [],
   "source": [
    "p_value_threshold = 0.05\n",
    "\n",
    "significance_vMI = {\n",
    "        'phototagging': [],\n",
    "        'CW': [],\n",
    "        'CCW': []\n",
    "    }\n",
    "\n",
    "significance_dirMI = [[] for _ in range(Nclust)]\n",
    "\n",
    "\n",
    "\n",
    "for condition in ['CW', 'CCW', 'phototagging']:\n",
    "    significance_vMI[condition] = np.where([p_values_vMI[condition][neuron][0]<p_value_threshold for neuron in range(Nclust)])[0]\n",
    "\n",
    "significance_dirMI = np.where([p_values_dirMI[neuron][0]<p_value_threshold for neuron in range(Nclust)])[0]"
   ]
  },
  {
   "cell_type": "markdown",
   "metadata": {},
   "source": [
    "### <span style=\"border: 2px solid #1c75c8; padding: 3px; background-color: #c5ddf6; color: black\"><strong>Visual Overview Of Spike Numbers Before & During</strong></span>"
   ]
  },
  {
   "cell_type": "code",
   "execution_count": null,
   "metadata": {},
   "outputs": [],
   "source": [
    "# condition = 'second'\n",
    "# direction = 'CW'\n",
    "# unit = 5\n",
    "\n",
    "# plotRaster(SpikeTimes, condition, direction, unit, title=f\"{condition} condition {direction} unit {unit}\",plotvelocity=True)\n",
    "\n",
    "# print(f'Number of spikes before rotation : {numberBef[condition][direction][unit]}')\n",
    "# print(f'Number of spikes during rotation : {numberDur[condition][direction][unit]}')\n",
    "# print(len(numberBef[condition][direction][unit])==len(numberDur[condition][direction][unit]))"
   ]
  },
  {
   "cell_type": "code",
   "execution_count": null,
   "metadata": {},
   "outputs": [],
   "source": [
    "# condition = 'second'\n",
    "# direction = 'CW'\n",
    "# unit = 5\n",
    "\n",
    "# plotRaster(SpikeTimes, condition, direction, unit, title=f\"{condition} condition {direction} unit {unit}\",plotvelocity=True,#\n",
    "#            extra=lambda: (#\n",
    "#                plt.axvspan(duration[windowBef[0]], duration[windowBef[1]], color='red', alpha=0.15),#\n",
    "#                plt.axvspan(duration[windowDur[0]], duration[windowDur[1]], color='red', alpha=0.15)#\n",
    "#                )#\n",
    "#                )\n",
    "\n",
    "# print(f'Number of spikes before rotation : {numberBef[condition][direction][unit]}')\n",
    "# print(f'Number of spikes during rotation : {numberDur[condition][direction][unit]}')\n",
    "# print(len(numberBef[condition][direction][unit])==len(numberDur[condition][direction][unit]))"
   ]
  },
  {
   "cell_type": "code",
   "execution_count": null,
   "metadata": {},
   "outputs": [],
   "source": [
    "# condition = 'second'\n",
    "# direction = 'NotResponding'\n",
    "# unit = 5\n",
    "\n",
    "# plotRaster(SpikeTimes, condition, direction, unit,title=f\"{condition} condition {direction} unit {unit}\",\n",
    "#             extra=lambda: (\n",
    "#                 plt.axvspan(duration[windowBef[0]], duration[windowBef[1]], color='lightblue', alpha=0.5),\n",
    "#                 plt.axvspan(duration[windowDur[0]], duration[windowDur[1]], color='lightblue', alpha=0.5)\n",
    "#             ),plotvelocity=True)\n",
    "\n",
    "# print(significance_vMI[condition][direction])\n",
    "\n",
    "# print(numberBef[condition][direction][unit])\n",
    "# print(numberDur[condition][direction][unit])"
   ]
  },
  {
   "cell_type": "markdown",
   "metadata": {},
   "source": [
    "### <span style=\"border: 2px solid #1c75c8; padding: 3px; background-color: #c5ddf6; color: black\"><strong>Resuming Modulations & Preferences</strong></span>"
   ]
  },
  {
   "cell_type": "code",
   "execution_count": null,
   "metadata": {},
   "outputs": [],
   "source": [
    "modulation = {\n",
    "    'phototagging': [[] for _ in range(Nclust)],\n",
    "    'rotation': [\n",
    "        {\n",
    "            'selectivity': [],\n",
    "            'type': []\n",
    "        } for _ in range(Nclust)]\n",
    "}\n",
    "\n",
    "\n",
    "for unit in range(Nclust):\n",
    "    # for condition in significance:\n",
    "    condition = 'phototagging'\n",
    "    modulation[condition][unit] = 1 if unit in significance_vMI[condition] else 0\n",
    "\n",
    "\n",
    "    ##########################################\n",
    "    condition = 'rotation'\n",
    "    both = (unit in significance_vMI['CW']) and (unit in significance_vMI['CCW'])\n",
    "    CW = unit in significance_vMI['CW']\n",
    "    CCW = unit in significance_vMI['CCW']\n",
    "\n",
    "\n",
    "\n",
    "    if not (both or CW or CCW):\n",
    "        modulation[condition][unit]['selectivity'] = 'unmodulated'\n",
    "        modulation[condition][unit]['type'] = '0'\n",
    "    else:\n",
    "        fooCW = np.mean(diffBefDur['CW'][unit])\n",
    "        fooCCW = np.mean(diffBefDur['CCW'][unit])\n",
    "\n",
    "        if both:\n",
    "            modulation[condition][unit]['selectivity'] = 'both'\n",
    "            if (fooCW >= 0) and (fooCCW >= 0):\n",
    "                modulation[condition][unit]['type'] = '+/+'\n",
    "            elif (fooCW < 0) and (fooCCW < 0):\n",
    "                modulation[condition][unit]['type'] = '-/-'\n",
    "            elif (fooCW < 0) and (fooCCW >= 0):\n",
    "                modulation[condition][unit]['type'] = '-/+'\n",
    "            elif (fooCW >= 0) and (fooCCW < 0):\n",
    "                modulation[condition][unit]['type'] = '+/-'\n",
    "        elif CW:\n",
    "            modulation[condition][unit]['selectivity'] = 'CW'\n",
    "            modulation[condition][unit]['type'] = '+' if fooCW >= 0 else '-'\n",
    "        elif CCW:\n",
    "            modulation[condition][unit]['selectivity'] = 'CCW'\n",
    "            modulation[condition][unit]['type'] = '+' if fooCCW >= 0 else '-'\n",
    "\n",
    "\n",
    "# Convert lists -> NumPy\n",
    "for condition in modulation:\n",
    "    modulation[condition] = np.array(modulation[condition])"
   ]
  },
  {
   "cell_type": "code",
   "execution_count": null,
   "metadata": {},
   "outputs": [],
   "source": [
    "preference = [[] for _ in range(Nclust)]\n",
    "\n",
    "\n",
    "for unit in range(Nclust):\n",
    "    if unit in significance_dirMI:\n",
    "        preference[unit] = 'CW' if dirMI[unit]>0 else 'CCW'\n",
    "    else:\n",
    "        preference[unit] = None"
   ]
  },
  {
   "cell_type": "code",
   "execution_count": null,
   "metadata": {},
   "outputs": [],
   "source": [
    "seeModulation('first', 0, velocityalpha=0.3, velocitycolor='c')"
   ]
  },
  {
   "cell_type": "code",
   "execution_count": null,
   "metadata": {},
   "outputs": [],
   "source": [
    "Modulation_saving_folder = os.path.join(saving_folder, 'Modulation', exp_id)\n",
    "os.makedirs(Modulation_saving_folder, exist_ok=True)\n",
    "for modulated in ['CW_+', 'CCW_+', 'CW_-', 'CCW_-', 'both_++', 'both_--', 'both_+-', 'both_-+','phototagging']:\n",
    "    os.makedirs(os.path.join(Modulation_saving_folder, modulated), exist_ok=True)\n",
    "\n",
    "for condition in ['second']:\n",
    "    for modulationWay, modulationPath in zip(['CW +', 'CCW +', 'CW -', 'CCW -', 'both +/+', 'both -/-', 'both +/-', 'both -/+'], ['CW_+', 'CCW_+', 'CW_-', 'CCW_-', 'both_++', 'both_--', 'both_+-', 'both_-+']):\n",
    "        seeModulation(condition, modulationWay, show=False, save=True, filename=os.path.join(Modulation_saving_folder, modulationPath, f\"Modulation_{exp_id}_unit#{unit}.png\"))\n",
    "    plt.close()"
   ]
  },
  {
   "cell_type": "code",
   "execution_count": null,
   "metadata": {},
   "outputs": [],
   "source": [
    "Modulation_saving_folder = os.path.join(saving_folder, 'Modulation')\n",
    "for modulated in ['CW_+', 'CCW_+', 'CW_-', 'CCW_-', 'both_++', 'both_--', 'both_+-', 'both_-+', 'unmodulated', 'phototagging']:\n",
    "    os.makedirs(os.path.join(Modulation_saving_folder, modulated, exp_id), exist_ok=True)\n",
    "os.makedirs(os.path.join(Modulation_saving_folder, 'phototagging', exp_id, 'Not_phototagged'), exist_ok=True)\n",
    "\n",
    "\n",
    "\n",
    "##### PHOTOTAGGING\n",
    "for i in range(Nclust):\n",
    "    plt.eventplot(SpikeTimes['phototagging'][i])\n",
    "    plt.axvspan(-0.004, -0.001, color='red', alpha=0.1)\n",
    "    plt.axvspan(0, 0.003, color='green', alpha=0.1)\n",
    "    plt.xlim(-0.005, 0.005)\n",
    "    text_x = -0.004\n",
    "    text_y = len(SpikeTimes['phototagging'][i]) + 10\n",
    "    text = f'''stats = {statistics_vMI['phototagging'][i][0]:.2f}\n",
    "    p = {p_values_vMI['phototagging'][i][0]:.2f}'''\n",
    "    box_props = dict(boxstyle='round', facecolor='white', edgecolor='black')\n",
    "    plt.text(text_x, text_y, text, bbox=box_props, ha='center', va='center')\n",
    "\n",
    "    if i in significance_vMI['phototagging']:\n",
    "        plt.title(f'Phototagged Unit {i}')\n",
    "        if Saving_boolean:\n",
    "            path = os.path.join(Modulation_saving_folder, 'phototagging', exp_id)\n",
    "            plt.savefig(os.path.join(path, f\"Unit_{i}_phototagging.png\"))\n",
    "        plt.close()\n",
    "    else:\n",
    "        plt.title(f'Not Phototagged Unit {i}')\n",
    "        if Saving_boolean:\n",
    "            path = os.path.join(Modulation_saving_folder, 'phototagging', exp_id, 'Not_phototagged')\n",
    "            plt.savefig(os.path.join(path, f\"Unit_{i}.png\"))\n",
    "        plt.close()\n",
    "\n",
    "\n",
    "\n",
    "\n",
    "    \n",
    "\n",
    "\n",
    "\n",
    "\n",
    "##### ROTATIONS\n",
    "for modulationWay, modulationPath in zip(['CW+', 'CCW+', 'CW-', 'CCW-', 'both+/+', 'both-/-', 'both+/-', 'both-/+', 'unmodulated0'], ['CW_+', 'CCW_+', 'CW_-', 'CCW_-', 'both_++', 'both_--', 'both_+-', 'both_-+', 'unmodulated']):\n",
    "    selectivity_plus_type = [modulation['rotation'][i]['selectivity'] + modulation['rotation'][i]['type'] for i in range(Nclust)]\n",
    "    position = np.where(modulationWay == np.array(selectivity_plus_type))[0]\n",
    "    for i in position:\n",
    "        plots(\n",
    "            f\"plotRaster(SpikeTimes, 'CW', {i}, color='c', show=False, title='CW', plotvelocity=True, velocitycolor='red')\",\n",
    "            f\"plotRaster(SpikeTimes, 'CCW', {i}, color='c', show=False, title='CCW', plotvelocity=True, velocitycolor='red', ylabel=False)\",\n",
    "            suptitle=f\"Unit {i} {modulationWay} {exp_id}\",\n",
    "            show=False,\n",
    "            save=Saving_boolean,\n",
    "            filename=os.path.join(Modulation_saving_folder, modulationPath, exp_id, f\"Unit_{i}_{modulationPath}.png\"),\n",
    "            size=(15,5)\n",
    "        )\n"
   ]
  },
  {
   "cell_type": "markdown",
   "metadata": {},
   "source": [
    "### <span style=\"border: 2px solid #1c75c8; padding: 3px; background-color: #c5ddf6; color: black\"><strong>Showing Numerical Results</strong></span>"
   ]
  },
  {
   "cell_type": "code",
   "execution_count": null,
   "metadata": {},
   "outputs": [],
   "source": [
    "print(f\"Significant phototagged units : {significance_vMI['phototagging']}\\n\")\n",
    "\n",
    "print(f\"Unit significantly CW-modulated : {significance_vMI['CW']}\\n\")\n",
    "\n",
    "print(f\"Unit significantly CCW-modulated : {significance_vMI['CCW']}\")\n"
   ]
  },
  {
   "cell_type": "code",
   "execution_count": null,
   "metadata": {},
   "outputs": [],
   "source": [
    "labels_inner = ['Phototagged', 'Not phototagged']\n",
    "colors_inner = ['#032CA1', '#34A204']\n",
    "sizes_inner = [\n",
    "    np.sum([modulation['phototagging']]),\n",
    "    Nclust - np.sum([modulation['phototagging']])\n",
    "    ]\n",
    "\n",
    "\n",
    "if (np.array(sizes_inner)==0).any():\n",
    "    sizes_inner_copy = sizes_inner.copy()\n",
    "    sizes_inner = [size for size in sizes_inner_copy if size != 0]\n",
    "    labels_inner = [label for i, label in enumerate(labels_inner) if sizes_inner_copy[i] != 0]\n",
    "    colors_inner = [color for i, color in enumerate(colors_inner) if sizes_inner_copy[i] != 0]\n",
    "effectifs_inner = [Nclust for _ in range(len(sizes_inner))]\n",
    "explode_inner = [0.025 for _ in range(len(sizes_inner))]\n",
    "\n",
    "\n",
    "\n",
    "\n",
    "\n",
    "\n",
    "\n",
    "\n",
    "\n",
    "labels_outer = ['CW', 'CCW', 'CW & CCW', 'Not modulated', 'Not modulated', 'CW & CCW', 'CCW', 'CW']\n",
    "colors_outer = ['#4DB0EE', '#0084D7', '#0079C6', '#0069AC', '#3FD000', '#5CE520', '#75F03F', '#D4FFCB']\n",
    "sizes_outer = [\n",
    "    np.sum([modulation['phototagging'][i] == 1 and entry['selectivity'] == 'CW' for i, entry in enumerate(modulation['rotation'])]),\n",
    "    np.sum([modulation['phototagging'][i] == 1 and entry['selectivity'] == 'CCW' for i, entry in enumerate(modulation['rotation'])]),\n",
    "    np.sum([modulation['phototagging'][i] == 1 and entry['selectivity'] == 'both' for i, entry in enumerate(modulation['rotation'])]),\n",
    "    np.sum([modulation['phototagging'][i] == 1 and entry['selectivity'] == 'unmodulated' for i, entry in enumerate(modulation['rotation'])]),\n",
    "    np.sum([modulation['phototagging'][i] == 0 and entry['selectivity'] == 'unmodulated' for i, entry in enumerate(modulation['rotation'])]),\n",
    "    np.sum([modulation['phototagging'][i] == 0 and entry['selectivity'] == 'both' for i, entry in enumerate(modulation['rotation'])]),\n",
    "    np.sum([modulation['phototagging'][i] == 0 and entry['selectivity'] == 'CCW' for i, entry in enumerate(modulation['rotation'])]),\n",
    "    np.sum([modulation['phototagging'][i] == 0 and entry['selectivity'] == 'CW' for i, entry in enumerate(modulation['rotation'])]),\n",
    "    ]\n",
    "\n",
    "\n",
    "if (np.array(sizes_outer)==0).any():\n",
    "    sizes_outer_copy = sizes_outer.copy()\n",
    "    sizes_outer = [size for size in sizes_outer_copy if size != 0]\n",
    "    labels_outer = [label for i, label in enumerate(labels_outer) if sizes_outer_copy[i] != 0]\n",
    "    colors_outer = [color for i, color in enumerate(colors_outer) if sizes_outer_copy[i] != 0]\n",
    "effectifs_outer = [Nclust for _ in range(len(sizes_outer))]\n",
    "explode_outer = [0.15 for _ in range(len(sizes_outer))]\n",
    "\n",
    "\n",
    "\n",
    "\n",
    "\n",
    "\n",
    "\n",
    "\n",
    "\n",
    "\n",
    "\n",
    "\n",
    "\n",
    "labels_outer_outer = ['+', '-', '+', '-', '+/+', '-/-', '+/-', '-/+', '', '', '-/+', '+/-', '-/-', '+/+', '-', '+', '-', '+']\n",
    "colors_outer_outer = ['#4DB0EE80', '#4DB0EE80', '#0084D780', '#0084D780', '#0079C680', '#0079C680', '#0079C680', '#0079C680', '#0069AC80', '#3FD00080', '#5CE52080', '#5CE52080', '#5CE52080', '#5CE52080', '#75F03F80', '#75F03F80', '#D4FFCB80', '#D4FFCB80']\n",
    "sizes_outer_outer = [\n",
    "    np.sum([entry['type'] == '+' and modulation['phototagging'][i] == 1 and entry['selectivity'] == 'CW' for i, entry in enumerate(modulation['rotation'])]),\n",
    "    np.sum([entry['type'] == '-' and modulation['phototagging'][i] == 1 and entry['selectivity'] == 'CW' for i, entry in enumerate(modulation['rotation'])]),\n",
    "    np.sum([entry['type'] == '+' and modulation['phototagging'][i] == 1 and entry['selectivity'] == 'CCW' for i, entry in enumerate(modulation['rotation'])]),\n",
    "    np.sum([entry['type'] == '-' and modulation['phototagging'][i] == 1 and entry['selectivity'] == 'CCW' for i, entry in enumerate(modulation['rotation'])]),\n",
    "    np.sum([entry['type'] == '+/+' and modulation['phototagging'][i] == 1 and entry['selectivity'] == 'both' for i, entry in enumerate(modulation['rotation'])]),\n",
    "    np.sum([entry['type'] == '-/-' and modulation['phototagging'][i] == 1 and entry['selectivity'] == 'both' for i, entry in enumerate(modulation['rotation'])]),\n",
    "    np.sum([entry['type'] == '+/-' and modulation['phototagging'][i] == 1 and entry['selectivity'] == 'both' for i, entry in enumerate(modulation['rotation'])]),\n",
    "    np.sum([entry['type'] == '-/+' and modulation['phototagging'][i] == 1 and entry['selectivity'] == 'both' for i, entry in enumerate(modulation['rotation'])]),\n",
    "    np.sum([modulation['phototagging'][i] == 1 and entry['selectivity'] == 'unmodulated' for i, entry in enumerate(modulation['rotation'])]),\n",
    "    np.sum([modulation['phototagging'][i] == 0 and entry['selectivity'] == 'unmodulated' for i, entry in enumerate(modulation['rotation'])]),\n",
    "    np.sum([entry['type'] == '-/+' and modulation['phototagging'][i] == 0 and entry['selectivity'] == 'both' for i, entry in enumerate(modulation['rotation'])]),\n",
    "    np.sum([entry['type'] == '+/-' and modulation['phototagging'][i] == 0 and entry['selectivity'] == 'both' for i, entry in enumerate(modulation['rotation'])]),\n",
    "    np.sum([entry['type'] == '-/-' and modulation['phototagging'][i] == 0 and entry['selectivity'] == 'both' for i, entry in enumerate(modulation['rotation'])]),\n",
    "    np.sum([entry['type'] == '+/+' and modulation['phototagging'][i] == 0 and entry['selectivity'] == 'both' for i, entry in enumerate(modulation['rotation'])]),\n",
    "    np.sum([entry['type'] == '-' and modulation['phototagging'][i] == 0 and entry['selectivity'] == 'CCW' for i, entry in enumerate(modulation['rotation'])]),\n",
    "    np.sum([entry['type'] == '+' and modulation['phototagging'][i] == 0 and entry['selectivity'] == 'CCW' for i, entry in enumerate(modulation['rotation'])]),\n",
    "    np.sum([entry['type'] == '-' and modulation['phototagging'][i] == 0 and entry['selectivity'] == 'CW' for i, entry in enumerate(modulation['rotation'])]),\n",
    "    np.sum([entry['type'] == '+' and modulation['phototagging'][i] == 0 and entry['selectivity'] == 'CW' for i, entry in enumerate(modulation['rotation'])]),\n",
    "    ]\n",
    "\n",
    "\n",
    "if (np.array(sizes_outer_outer)==0).any():\n",
    "    sizes_outer_outer_copy = sizes_outer_outer.copy()\n",
    "    sizes_outer_outer = [size for size in sizes_outer_outer_copy if size != 0]\n",
    "    labels_outer_outer = [label for i, label in enumerate(labels_outer_outer) if sizes_outer_outer_copy[i] != 0]\n",
    "    colors_outer_outer = [color for i, color in enumerate(colors_outer_outer) if sizes_outer_outer_copy[i] != 0]\n",
    "effectifs_outer_outer = [Nclust for _ in range(len(sizes_outer_outer))]\n",
    "explode_outer_outer = [0.25 for _ in range(len(sizes_outer_outer))]\n",
    "\n",
    "\n",
    "\n",
    "\n",
    "\n",
    "\n",
    "\n",
    "def autopct_format(pct, sizes):\n",
    "    total = sum(sizes)\n",
    "    val = int(round(pct*total/100.0))\n",
    "    return '{p:.1f}%  ({v:d})'.format(p=pct,v=val)\n",
    "\n",
    "\n",
    "\n",
    "fig, ax = plt.subplots(figsize=(10, 10))\n",
    "wedges, _, _ = ax.pie(sizes_outer_outer, labels=labels_outer_outer, textprops={'fontsize': 9}, radius=3, autopct=lambda pct: autopct_format(pct, sizes_outer_outer), startangle=0, colors=colors_outer_outer, pctdistance=0.85, shadow=False, wedgeprops={'edgecolor': 'black', 'linewidth': 0.5})\n",
    "for i, index in enumerate(labels_outer_outer):\n",
    "    if index == '':\n",
    "        wedges[i].set_visible(False)\n",
    "outer = ax.pie(sizes_outer, labels=labels_outer, textprops={'fontsize': 9}, radius=2, autopct='%1.1f%%', startangle=0, colors=colors_outer, labeldistance=0.75, pctdistance=0.6, shadow=True)\n",
    "inner = ax.pie(sizes_inner, labels=None, autopct='%1.1f%%', textprops={'fontsize': 9}, radius=1, startangle=0, colors=colors_inner, pctdistance=0.35)\n",
    "centre_cercle = plt.Circle((0, 0), 0.6, color='white')\n",
    "ax.add_artist(centre_cercle)\n",
    "plt.suptitle(f\"Phototagging and rotation modulation {exp_id}\")\n",
    "\n",
    "legend_labels = labels_inner\n",
    "legend_colors = colors_inner\n",
    "\n",
    "plt.legend(inner[0], legend_labels, loc='center left', bbox_to_anchor=(0.8, 0.05))\n",
    "\n",
    "plt.axis('equal')\n",
    "\n",
    "if Saving_boolean:\n",
    "    path = os.path.join(saving_folder, 'Distribution', exp_id)\n",
    "    os.makedirs(path, exist_ok=True)\n",
    "    plt.savefig(os.path.join(path, f\"Phototagging_Distribution_{exp_id}.png\"))\n",
    "plt.show()"
   ]
  },
  {
   "cell_type": "code",
   "execution_count": null,
   "metadata": {},
   "outputs": [],
   "source": [
    "labels_inner = ['CW', 'CCW', 'CW & CCW', 'Not modulated']\n",
    "colors_inner = ['#4DB0EE', '#0084D7', '#0079C6', 'gainsboro']\n",
    "sizes_inner = [\n",
    "    np.sum([entry['selectivity'] == 'CW' for entry in modulation['rotation']]),\n",
    "    np.sum([entry['selectivity'] == 'CCW' for entry in modulation['rotation']]),\n",
    "    np.sum([entry['selectivity'] == 'both' for entry in modulation['rotation']]),\n",
    "    np.sum([entry['selectivity'] == 'unmodulated' for entry in modulation['rotation']])\n",
    "    ]\n",
    "\n",
    "\n",
    "if (np.array(sizes_inner)==0).any():\n",
    "    sizes_inner_copy = sizes_inner.copy()\n",
    "    sizes_inner = [size for size in sizes_inner_copy if size != 0]\n",
    "    labels_inner = [label for i, label in enumerate(labels_inner) if sizes_inner_copy[i] != 0]\n",
    "    colors_inner = [color for i, color in enumerate(colors_inner) if sizes_inner_copy[i] != 0]\n",
    "effectifs_inner = [Nclust for _ in range(len(sizes_inner))]\n",
    "\n",
    "\n",
    "labels_outer = ['+', '-', '+', '-', '+/+', '-/-', '+/-', '-/+', '']\n",
    "colors_outer = ['#4DB0EE80', '#4DB0EE80', '#0084D780', '#0084D780', '#0079C699', '#0079C699', '#0079C699', '#0079C699', 'gainsboro']\n",
    "sizes_outer = [\n",
    "    np.sum([entry['type'] == '+' and entry['selectivity'] == 'CW' for entry in modulation['rotation']]),\n",
    "    np.sum([entry['type'] == '-' and entry['selectivity'] == 'CW' for entry in modulation['rotation']]),\n",
    "    np.sum([entry['type'] == '+' and entry['selectivity'] == 'CCW' for entry in modulation['rotation']]),\n",
    "    np.sum([entry['type'] == '-' and entry['selectivity'] == 'CCW' for entry in modulation['rotation']]),\n",
    "    np.sum([entry['type'] == '+/+' and entry['selectivity'] == 'both' for entry in modulation['rotation']]),\n",
    "    np.sum([entry['type'] == '-/-' and entry['selectivity'] == 'both' for entry in modulation['rotation']]),\n",
    "    np.sum([entry['type'] == '+/-' and entry['selectivity'] == 'both' for entry in modulation['rotation']]),\n",
    "    np.sum([entry['type'] == '-/+' and entry['selectivity'] == 'both' for entry in modulation['rotation']]),\n",
    "    np.sum([entry['selectivity'] == 'unmodulated' for entry in modulation['rotation']])\n",
    "    ]\n",
    "\n",
    "\n",
    "if (np.array(sizes_outer)==0).any():\n",
    "    sizes_outer_copy = sizes_outer.copy()\n",
    "    sizes_outer = [size for size in sizes_outer_copy if size != 0]\n",
    "    labels_outer = [label for i, label in enumerate(labels_outer) if sizes_outer_copy[i] != 0]\n",
    "    colors_outer = [color for i, color in enumerate(colors_outer) if sizes_outer_copy[i] != 0]\n",
    "effectifs_outer = [Nclust for _ in range(len(sizes_outer))]\n",
    "\n",
    "\n",
    "def autopct_format(pct, sizes):\n",
    "    total = sum(sizes)\n",
    "    val = int(round(pct*total/100.0))\n",
    "    return '{p:.1f}%  ({v:d})'.format(p=pct,v=val)\n",
    "\n",
    "\n",
    "fig, ax = plt.subplots(figsize=(10, 10))\n",
    "wedges, _, _ = ax.pie(sizes_outer, labels=labels_outer, radius=3, autopct=lambda pct: autopct_format(pct, sizes_outer), startangle=0, colors=colors_outer, pctdistance=0.8, wedgeprops={'edgecolor': 'black', 'linewidth': 0.5})\n",
    "wedges[labels_outer.index('')].set_visible(False)\n",
    "ax.pie(sizes_inner, labels=labels_inner, radius=2, autopct='%1.1f%%', startangle=0, colors=colors_inner, shadow=True, labeldistance=0.65, pctdistance=0.45)\n",
    "plt.suptitle(f\"Rotation modulation {exp_id}\")\n",
    "centre_cercle = plt.Circle((0, 0), 0.6, color='white')\n",
    "ax.add_artist(centre_cercle)\n",
    "plt.axis('equal')\n",
    "\n",
    "if Saving_boolean:\n",
    "    path = os.path.join(saving_folder, 'Distribution', exp_id)\n",
    "    os.makedirs(path, exist_ok=True)\n",
    "    plt.savefig(os.path.join(path, f\"Distribution_{exp_id}.png\"))\n",
    "plt.show()"
   ]
  },
  {
   "cell_type": "markdown",
   "metadata": {},
   "source": [
    "# <span style=\"border: 2px solid #1c75c8; padding: 3px; background-color: #c5ddf6; color: black\"><strong>Saving Variables</strong></span>"
   ]
  },
  {
   "cell_type": "code",
   "execution_count": null,
   "metadata": {},
   "outputs": [],
   "source": [
    "if Saving_boolean:\n",
    "    data = {\n",
    "        'informative_data': {\n",
    "            'exp_id': exp_id,\n",
    "            'timeBefPhototagging': timeBefPhototagging,\n",
    "            'timeAftPhototagging': timeAftPhototagging,\n",
    "            'timeBefRotation': timeBefRotation,\n",
    "            'timeAftRotation': timeAftRotation,\n",
    "            'refValue': refValue,\n",
    "            'din': din,\n",
    "            'time': time,\n",
    "            'chanSpace': chanSpace,\n",
    "            'rotationSpeed': rotationSpeed,\n",
    "            'ProbeType': ProbeType,\n",
    "            # 'f': f,\n",
    "            'ML_pos': ML_pos,\n",
    "            'AP_pos': AP_pos\n",
    "            },\n",
    "        'Spiking_times': {\n",
    "            'AllSpikeTimesMUA': AllSpikeTimesMUA,\n",
    "            'SpikeTimesMUA': SpikeTimesMUA,\n",
    "            'Ntrial': Ntrial,\n",
    "            'protocolSeparationIndex': protocolSeparationIndex,\n",
    "            'protocolSeparationTime': protocolSeparationTime,\n",
    "            'SpikeTimes': SpikeTimes,\n",
    "        },\n",
    "        'Rotation_data': {\n",
    "            'ref': ref,\n",
    "            'peaksFirst': peaksFirst,\n",
    "            'peaksSecond': peaksSecond,\n",
    "            'peaks': peaks,\n",
    "            'RotationWise': RotationWise,\n",
    "            'MeanRotation': MeanRotation,\n",
    "            'duration': duration,\n",
    "            'table_velocity': table_velocity,\n",
    "            'shiftIndex': shiftIndex,\n",
    "        },\n",
    "        'SUA_data': {\n",
    "            'c_class': c_class,\n",
    "            'Nclust': Nclust\n",
    "        },\n",
    "        'MUA_data': {\n",
    "            'm_class': m_class,\n",
    "            'm_class_tet': m_class_tet,\n",
    "            'Nclust_mua': Nclust_mua,\n",
    "            'Ntet': Ntet,\n",
    "            'allBasem': allBasem,\n",
    "            'PkDepthUnit': PkDepthUnit,\n",
    "            'mapp': mapp,\n",
    "            'ArgallLayers': ArgallLayers,\n",
    "            'DepthTetrode': DepthTetrode,\n",
    "            'AllDepth': AllDepth\n",
    "        },\n",
    "        'Statistics_data': {\n",
    "            #'windowBef': windowBef,\n",
    "            #'windowDur': windowDur,\n",
    "            #'numberBef': numberBef,\n",
    "            #'numberDur': numberDur,\n",
    "            #'diffBefDur': diffBefDur,\n",
    "            #'sumBefDur': sumBefDur,\n",
    "            'statistics_vMI': statistics_vMI,\n",
    "            'statistics_dirMI': statistics_dirMI,\n",
    "            'p_values_vMI': p_values_vMI,\n",
    "            'p_values_dirMI': p_values_dirMI,\n",
    "            'significance_vMI': significance_vMI,\n",
    "            'significance_dirMI': significance_dirMI,\n",
    "            'modulation': modulation,\n",
    "            'preference': preference,\n",
    "            'vMI':vMI,\n",
    "            'dirMI': dirMI\n",
    "        }\n",
    "    }\n",
    "\n",
    "\n",
    "\n",
    "    data_saving_folder = os.path.join(saving_folder, 'Data')\n",
    "    file = os.path.join(data_saving_folder, exp_id+\"_data.pickle\")\n",
    "\n",
    "    if not os.path.exists(data_saving_folder):\n",
    "        os.makedirs(data_saving_folder)\n",
    "\n",
    "    # from tqdm import tqdm\n",
    "\n",
    "    # with tqdm(total=100) as pbar:\n",
    "    #     jd.save(data, os.path.join(saving_folder, exp_id+\"_data.json\"), progress=lambda *args: pbar.update(100))\n",
    "\n",
    "\n",
    "\n",
    "    # jd.save(data, os.path.join(data_saving_folder, exp_id+\"_data.json\"))\n",
    "        \n",
    "    # Sauvegarde des variables dans un fichier\n",
    "    with open(file, 'wb') as FILE_WRITTER:\n",
    "        pickle.dump(data, FILE_WRITTER)\n",
    "        FILE_WRITTER.close()"
   ]
  }
 ],
 "metadata": {
  "kernelspec": {
   "display_name": "Python 3",
   "language": "python",
   "name": "python3"
  },
  "language_info": {
   "codemirror_mode": {
    "name": "ipython",
    "version": 3
   },
   "file_extension": ".py",
   "mimetype": "text/x-python",
   "name": "python",
   "nbconvert_exporter": "python",
   "pygments_lexer": "ipython3",
   "version": "3.12.2"
  }
 },
 "nbformat": 4,
 "nbformat_minor": 2
}
