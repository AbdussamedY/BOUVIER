{
 "cells": [
  {
   "cell_type": "markdown",
   "metadata": {},
   "source": [
    "Fenetre de dialogue pour placer des curseurs"
   ]
  },
  {
   "cell_type": "code",
   "execution_count": null,
   "metadata": {},
   "outputs": [],
   "source": [
    "class GraphicalInterface:\n",
    "    def __init__(self, master):\n",
    "        self.master = master\n",
    "        self.master.title(\"Graphical Interface\")\n",
    "        self.master.geometry(\"2000x600\")\n",
    "\n",
    "        self.figure, self.ax = plt.subplots()\n",
    "        self.canvas = FigureCanvasTkAgg(self.figure, master=self.master)\n",
    "        self.canvas.draw()\n",
    "        self.canvas.get_tk_widget().pack(side=tk.TOP, fill=tk.BOTH, expand=1)\n",
    "\n",
    "        self.ax.set_xlabel('X')\n",
    "        self.ax.set_ylabel('Y')\n",
    "        self.ax.grid(True)\n",
    "\n",
    "        # Création de données fictives pour la courbe\n",
    "        y = table_velocity\n",
    "        self.ax.plot(y, label='table_velocity')\n",
    "        self.ax.margins(x=0)\n",
    "\n",
    "        self.vertical_lines = []\n",
    "\n",
    "        self.canvas.mpl_connect('button_press_event', self.on_click)\n",
    "\n",
    "        self.close_button = tk.Button(self.master, text=\"Fermer\", command=self.close_window)\n",
    "        self.close_button.pack()\n",
    "\n",
    "    def on_click(self, event):\n",
    "        if event.inaxes == self.ax:\n",
    "            if len(self.vertical_lines) < 2:\n",
    "                x = round(event.xdata)\n",
    "                self.vertical_lines.append(x)\n",
    "                self.ax.axvline(x, color='green')  # Ajouter une ligne verticale\n",
    "                self.canvas.draw()\n",
    "\n",
    "    def close_window(self):\n",
    "        self.master.destroy()\n",
    "\n",
    "if __name__ == \"__main__\":\n",
    "    root = tk.Tk()\n",
    "    app = GraphicalInterface(root)\n",
    "    root.mainloop()"
   ]
  },
  {
   "cell_type": "code",
   "execution_count": null,
   "metadata": {},
   "outputs": [],
   "source": [
    "### GOAL IS TO TRY DIFFERENTS PARAMETERS TO SMOOTH SIGNAL, PSTH IN THIS CASE\n",
    "#SMOOTHING\n",
    "import numpy as np\n",
    "import matplotlib.pyplot as plt\n",
    "from scipy.signal import savgol_filter\n",
    "# Exemple de données\n",
    "x = np.linspace(0, 2 * np.pi, 100)\n",
    "y = np.sin(x) + np.random.normal(0, 0.1, size=len(x))  # Ajouter un peu de bruit\n",
    "# Paramètres du lissage\n",
    "window_size = 11\n",
    "order = 9\n",
    "# Appliquer le lissage avec savgol_filter\n",
    "y_smooth = savgol_filter(y, window_size, order)\n",
    "# Tracer les données brutes et la courbe lissée\n",
    "plt.figure(figsize=(10, 6))\n",
    "plt.plot(x, y, label='Données brutes')\n",
    "plt.plot(x, y_smooth, label=f'Courbe lissée (fenêtre={window_size}, ordre={order})', color='red')\n",
    "plt.legend()\n",
    "plt.title('Lissage de courbe avec savgol_filter')\n",
    "plt.xlabel('X')\n",
    "plt.ylabel('Y')\n",
    "plt.show()"
   ]
  },
  {
   "cell_type": "code",
   "execution_count": null,
   "metadata": {},
   "outputs": [],
   "source": [
    "def smoothing(data,window_size,order):\n",
    "    # window_size = 11\n",
    "    # order = 9\n",
    "    return savgol_filter(data, window_size, order)"
   ]
  },
  {
   "cell_type": "code",
   "execution_count": null,
   "metadata": {},
   "outputs": [],
   "source": [
    "import numpy as np\n",
    "import matplotlib.pyplot as plt\n",
    "\n",
    "def moving_average(x, window_size):\n",
    "    return np.convolve(x, np.ones(window_size)/window_size, mode='same')\n",
    "\n",
    "# Générer des données aléatoires avec du bruit\n",
    "x = duration\n",
    "y = Rotation['first']['CW'][1]\n",
    "\n",
    "# Lissage avec moyenne mobile\n",
    "smoothed_y = moving_average(y, window_size=5)\n",
    "\n",
    "# Tracer les données brutes et lissées\n",
    "plt.plot(x, y, label='Données brutes')\n",
    "plt.plot(x, smoothed_y, label='Données lissées')\n",
    "plt.legend()\n",
    "plt.show()"
   ]
  },
  {
   "cell_type": "code",
   "execution_count": null,
   "metadata": {},
   "outputs": [],
   "source": [
    "# if os.path.exists(os.path.join(parent_folder, exp_id+'_time.mat')):\n",
    "#     time_m = h5py.File(os.path.join(parent_folder,exp_id+'_time.mat'),'r')\n",
    "#     time = time_m['data']\n",
    "# else:\n",
    "#     print('time.dat file does not exist')\n",
    "#     time = np.arange(len(ref)) / f_sampling"
   ]
  },
  {
   "cell_type": "code",
   "execution_count": null,
   "metadata": {},
   "outputs": [],
   "source": [
    "dref = np.diff(ref)\n",
    "dref = np.insert(dref, 0, 0)\n",
    "\n",
    "position_max = np.where(ref==1)[0]\n",
    "\n",
    "pic_position = [position_max[i] for i in range(1,len(position_max)) if position_max[i] != position_max[i - 1] + 1]\n",
    "\n",
    "stock = []\n",
    "stock[:] = pic_position[:]\n",
    "\n",
    "for position in range(len(pic_position) - 2, 0, -1):\n",
    "    if pic_position[position] - pic_position[position-1] < 3*f:\n",
    "        del stock[position]\n",
    "\n",
    "pic_position[:] = stock[:]\n",
    "\n",
    "Ntrial = len(pic_position)\n",
    "\n",
    "print('Number of trials :',Ntrial)\n",
    "pic_position"
   ]
  },
  {
   "cell_type": "code",
   "execution_count": null,
   "metadata": {},
   "outputs": [],
   "source": [
    "import sys\n",
    "\n",
    "sys.path.append(r'D:\\Abdussamed workspace\\Python')\n",
    "\n",
    "import testscript"
   ]
  },
  {
   "cell_type": "code",
   "execution_count": null,
   "metadata": {},
   "outputs": [],
   "source": [
    "testscript.plots()"
   ]
  },
  {
   "cell_type": "code",
   "execution_count": null,
   "metadata": {},
   "outputs": [],
   "source": [
    "import matplotlib.pyplot as plt\n",
    "import numpy as np\n",
    "\n",
    "# Créer des données aléatoires pour le heatmap (une matrice 10x10)\n",
    "data = np.random.rand(100, 100)\n",
    "\n",
    "# Afficher le heatmap\n",
    "plt.imshow(data, cmap='Greys', interpolation='nearest')\n",
    "plt.colorbar()  # Ajouter une barre de couleur pour référence\n",
    "plt.show()\n",
    "\n",
    "# viridis ; noir au jaune en passant par le bleu\n",
    "# plasma ; bleu au jaune\n",
    "# inferno ; noir au jaune\n",
    "# magma : noir au jaune\n",
    "# cividis ; pour daltonisme\n",
    "# coolwarm ; pour rouge + et bleu -\n",
    "# jet \n",
    "# Greys"
   ]
  },
  {
   "cell_type": "code",
   "execution_count": null,
   "metadata": {},
   "outputs": [],
   "source": [
    "plt.axvspan(1, 2, color='lightblue', alpha=0.5)"
   ]
  },
  {
   "cell_type": "code",
   "execution_count": null,
   "metadata": {},
   "outputs": [],
   "source": [
    "import os\n",
    "import pickle\n",
    "\n",
    "# Votre objet à sauvegarder\n",
    "f_value = int(infos['fs'][0][0])\n",
    "\n",
    "# Chemin de sauvegarde spécifié\n",
    "saving_path = os.path.join(selected_path, 'TTTTTEEESSSTTTTT.pkl')\n",
    "\n",
    "# Sauvegarde de la variable avec pickle\n",
    "with open(saving_path, 'wb') as f:\n",
    "    pickle.dump(f_value, f)"
   ]
  },
  {
   "cell_type": "code",
   "execution_count": null,
   "metadata": {},
   "outputs": [],
   "source": [
    "import matplotlib.animation as animation\n",
    "from mpl_toolkits.mplot3d import axes3d\n",
    "import matplotlib.pyplot as plt\n",
    "import matplotlib.cm as cm\n",
    "import matplotlib as mpl\n",
    "import numpy as np\n",
    "\n",
    "#Criando uma função periodica\n",
    "def PS(x, y, t):\n",
    "    return np.sin(y**2 + t) + np.cos(x**2 + t)\n",
    "\n",
    "#Dados para aplicar na função \n",
    "x = np.linspace(-np.pi, np.pi, 101)\n",
    "y = np.linspace(-np.pi, np.pi, 101)\n",
    "t = np.linspace(0, 20, 101)\n",
    "\n",
    "#Cria matrizes de coordenadas a partir das coords x e y\n",
    "X, Y = np.meshgrid(x, y)\n",
    "\n",
    "fig = plt.figure(figsize = (12, 6), dpi = 100)     \n",
    "#ax = fig.gca(projection = '3d')\n",
    "ax = fig.add_subplot(111, projection='3d')\n",
    "\n",
    "def update(i):\n",
    "    Z = PS(X, Y, t[i])\n",
    "    ax.clear()\n",
    "    ax.plot_surface(X, Y, Z, cmap = mpl.cm.viridis)\n",
    "    plt.title(str(i))\n",
    "    plt.xlabel('$X$', color = 'g')\n",
    "    plt.ylabel('$Y$', color = 'g')\n",
    "\n",
    "ani = animation.FuncAnimation(fig, update, np.arange(100), interval = 1, repeat = False)\n",
    "\n",
    "ani.save(os.path.join(analyse_path,'test.gif'), writer='pillow')\n",
    "\n",
    "#plt.show()"
   ]
  },
  {
   "cell_type": "markdown",
   "metadata": {},
   "source": [
    "Pour plotter des sous figures etc"
   ]
  },
  {
   "cell_type": "code",
   "execution_count": null,
   "metadata": {},
   "outputs": [],
   "source": [
    "time = np.linspace(0, 10, 1000)\n",
    "height = np.sin(time)\n",
    "weight = time*0.3 + 2\n",
    "score = time**2 + height\n",
    "distribution = np.random.normal(0, 1, len(time))\n",
    "fig = plt.figure(figsize=(10, 5))\n",
    "gs = GridSpec(nrows=2, ncols=3)\n",
    "\n",
    "ax1 = fig.add_subplot(gs[1, 0])\n",
    "ax1.plot(time, weight)\n",
    "ax2 = fig.add_subplot(gs[0, 1])\n",
    "ax2.plot(time, score)\n",
    "ax3 = fig.add_axes([0.6, 0.6, 0.2, 0.2])\n",
    "ax3.hist(distribution)\n",
    "plt.show()"
   ]
  },
  {
   "cell_type": "code",
   "execution_count": null,
   "metadata": {},
   "outputs": [],
   "source": [
    "import matplotlib.patches as patches\n",
    "\n",
    "# Charger l'image du cerveau\n",
    "brain_img = plt.imread(os.path.join(analyse_path, 'gb_power.png'))\n",
    "\n",
    "with load_theme(\"arctic_light\"):\n",
    "    # Créer une figure et un axe\n",
    "    fig, ax = plt.subplots()\n",
    "\n",
    "    # Afficher l'image du cerveau\n",
    "    ax.imshow(brain_img)\n",
    "\n",
    "    # Définir les coordonnées et les dimensions du rectangle\n",
    "    rectangle_position = (100, 100)  # Position du coin supérieur gauche\n",
    "    rectangle_width = 50\n",
    "    rectangle_height = 70\n",
    "\n",
    "    # Ajouter le rectangle à l'image\n",
    "    rect = patches.Rectangle(rectangle_position, rectangle_width, rectangle_height,\n",
    "                            linewidth=1, edgecolor='r', facecolor='none')\n",
    "    ax.add_patch(rect)\n",
    "\n",
    "    # Créer des données pour le scatter plot (simuler le grossissement)\n",
    "    # Par exemple, des données aléatoires\n",
    "    x = np.random.normal(rectangle_position[0] + rectangle_width / 2, 10, 100)\n",
    "    y = np.random.normal(rectangle_position[1] + rectangle_height / 2, 10, 100)\n",
    "\n",
    "    # Afficher le scatter plot avec des données simulées\n",
    "    ax.scatter(x, y, color='b', alpha=0.5)\n",
    "\n",
    "    # Afficher la figure\n",
    "    plt.show()"
   ]
  }
 ],
 "metadata": {
  "kernelspec": {
   "display_name": "Python 3",
   "language": "python",
   "name": "python3"
  },
  "language_info": {
   "codemirror_mode": {
    "name": "ipython",
    "version": 3
   },
   "file_extension": ".py",
   "mimetype": "text/x-python",
   "name": "python",
   "nbconvert_exporter": "python",
   "pygments_lexer": "ipython3",
   "version": "3.12.2"
  }
 },
 "nbformat": 4,
 "nbformat_minor": 2
}
