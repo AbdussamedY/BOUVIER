{
 "cells": [
  {
   "cell_type": "markdown",
   "metadata": {},
   "source": [
    "# <span style=\"border: 2px solid #1c75c8; padding: 3px; background-color: #c5ddf6; color: black;\"><strong>Module importations</strong></span>"
   ]
  },
  {
   "cell_type": "code",
   "execution_count": null,
   "metadata": {},
   "outputs": [],
   "source": [
    "from MyModule import *"
   ]
  },
  {
   "cell_type": "code",
   "execution_count": null,
   "metadata": {},
   "outputs": [],
   "source": [
    "%run GUI_animal_selection.py"
   ]
  },
  {
   "cell_type": "code",
   "execution_count": null,
   "metadata": {},
   "outputs": [],
   "source": [
    "try:\n",
    "    print(\"Saving_boolean: \", Saving_boolean)\n",
    "except NameError:\n",
    "    Saving_boolean = True"
   ]
  },
  {
   "cell_type": "code",
   "execution_count": null,
   "metadata": {},
   "outputs": [],
   "source": [
    "## qt for popup window (savable as pdf, svg...), inline for inline plot, notebook for interactive plot, widget for interactive plot\n",
    "#%matplotlib widget \n",
    "#plt.ioff()\n",
    "## plt.rcdefaults()"
   ]
  },
  {
   "cell_type": "markdown",
   "metadata": {},
   "source": [
    "# <span style=\"border: 2px solid #1c75c8; padding: 3px; background-color: #c5ddf6; color: black\"><strong>FUNCTIONS</strong></span>"
   ]
  },
  {
   "cell_type": "markdown",
   "metadata": {},
   "source": [
    "## <span style=\"border: 2px solid #1c75c8; padding: 3px; background-color: #c5ddf6; color: black\"><strong>plots(row_number, col_number, width, height, *args, suptitle=None,**kwargs)</strong></span>"
   ]
  },
  {
   "cell_type": "code",
   "execution_count": null,
   "metadata": {},
   "outputs": [],
   "source": [
    "def plots(*plot_commands, ncols=None, suptitle=None, supxlabel=None, supylabel=None, size=(9, 5), show=True, save=False, filename=None):\n",
    "    num_plots = len(plot_commands)\n",
    "    if ncols is None:\n",
    "        ncols = int(num_plots ** 0.5) + 1  # Calcul automatique du nombre de colonnes\n",
    "\n",
    "    nrows = (num_plots + ncols - 1) // ncols\n",
    "\n",
    "    fig = plt.figure(figsize=size)\n",
    "    # Création des sous-figures\n",
    "    for i, command in enumerate(plot_commands, start=1):\n",
    "        plt.subplot(nrows, ncols, i)\n",
    "        exec(command)\n",
    "\n",
    "    \n",
    "    if supxlabel:\n",
    "        fig.supxlabel(supxlabel)\n",
    "    if supylabel:\n",
    "        fig.supylabel(supylabel)\n",
    "    if suptitle:\n",
    "        plt.suptitle(suptitle)\n",
    "    plt.tight_layout()\n",
    "    if save:\n",
    "        os.makedirs(os.path.dirname(filename), exist_ok=True)\n",
    "        plt.savefig(filename)\n",
    "\n",
    "    if show:\n",
    "        plt.show()\n",
    "    else:\n",
    "        plt.close(fig)"
   ]
  },
  {
   "cell_type": "markdown",
   "metadata": {},
   "source": [
    "## <span style=\"border: 2px solid #1c75c8; padding: 3px; background-color: #c5ddf6; color: black\"><strong>plotPSTH(StudiedSpikeTimes)</strong></span>"
   ]
  },
  {
   "cell_type": "code",
   "execution_count": null,
   "metadata": {},
   "outputs": [],
   "source": [
    "def getPSTHparameters(StudiedSpikeTimes, timeObject, binResolution):\n",
    "    local_trial_number = len(StudiedSpikeTimes)\n",
    "\n",
    "    spike_number_per_trial = [[] for _ in range(local_trial_number)]\n",
    "    edges = []\n",
    "\n",
    "    for trial in range(local_trial_number):\n",
    "        spike_number_per_trial[trial], edges = np.histogram(StudiedSpikeTimes[trial], bins=np.arange(timeObject[0], round(timeObject[-1])+binResolution, binResolution))\n",
    "\n",
    "\n",
    "    frequency_per_trial = [[spike_number_per_trial[trial][bin]/binResolution for bin in range(len(edges)-1)] for trial in range(local_trial_number)]\n",
    "    mean_frequency = [np.mean([frequency_per_trial[trial][bin] for trial in range(local_trial_number)]) for bin in range(len(edges)-1)]\n",
    "    baseline_mean_frequency = [np.mean([frequency_per_trial[trial][bin] for trial in range(local_trial_number)]) for bin in range(len(edges)-1) if edges[bin] < 0]\n",
    "\n",
    "    Zscore = (mean_frequency - np.mean(baseline_mean_frequency)) / np.std(baseline_mean_frequency) if np.std(mean_frequency) != 0 else np.zeros(len(mean_frequency))\n",
    "    Zscore[-1]=Zscore[-2]\n",
    "    Zunitary = (frequency_per_trial - np.mean(mean_frequency)) / np.std(mean_frequency) if np.std(mean_frequency) != 0 else np.zeros(len(frequency_per_trial))\n",
    "    SEM = np.std(Zunitary)/np.sqrt(len(Zunitary)) if np.std(mean_frequency) != 0 else np.zeros(len(mean_frequency))\n",
    "\n",
    "    return edges, Zscore, SEM"
   ]
  },
  {
   "cell_type": "code",
   "execution_count": null,
   "metadata": {},
   "outputs": [],
   "source": [
    "def plotPSTH(SpikeTimesObject, unit, color='k',shadedcolor='c',binResolution = 0.03,xlabel=True,ylabel=True, title='', xlim=None, save=False, filename='PSTH.png', show=True, smooth=True, Plots=False):\n",
    "    if type(unit)==list:\n",
    "        StudiedSpikeTimes = np.concatenate([SpikeTimesObject[i] for i in unit])\n",
    "    else:\n",
    "        StudiedSpikeTimes = SpikeTimesObject[unit]\n",
    "    \n",
    "    timeDuration = duration\n",
    "    \n",
    "    edges, Zscore, SEM = getPSTHparameters(StudiedSpikeTimes, timeDuration, binResolution)\n",
    "\n",
    "    if smooth:\n",
    "        Zscore = savgol_filter(Zscore, 9, 3)\n",
    "\n",
    "    if not Plots:\n",
    "        plt.figure()\n",
    "\n",
    "    plt.plot(edges[:-1], Zscore, color=color)\n",
    "    plt.fill_between(edges[:-1], Zscore-SEM, Zscore+SEM, alpha=0.1, color=shadedcolor)\n",
    "    if xlim:\n",
    "        plt.xlim(xlim)\n",
    "    else:\n",
    "        plt.margins(x=0)\n",
    "    if ylabel:\n",
    "        plt.ylabel('Z-Score FR')\n",
    "    if xlabel:\n",
    "        plt.xlabel('Time (s)')\n",
    "\n",
    "    plt.title(title)\n",
    "\n",
    "    if save:\n",
    "        plt.savefig(filename, bbox_inches='tight')\n",
    "\n",
    "    if not Plots:\n",
    "        if show:\n",
    "            plt.show()\n",
    "        else:\n",
    "            plt.close()"
   ]
  },
  {
   "cell_type": "markdown",
   "metadata": {},
   "source": [
    "## <span style=\"border: 2px solid #1c75c8; padding: 3px; background-color: #c5ddf6; color: black\"><strong>plotRaster(spikeTimesObject)</strong></span>"
   ]
  },
  {
   "cell_type": "code",
   "execution_count": null,
   "metadata": {},
   "outputs": [],
   "source": [
    "def plotRaster(SpikeTimesObject, unit, color='black', xlabel='Time (s)', ylabel='# Trial', title='', xlim=None, save=False, filename='Raster.png', show=True, psth=False, binResolution=0.03, shadedcolor='red', psthcolor='red', smooth=True, Plots=False):\n",
    "    if type(unit)==list:\n",
    "        StudiedSpikeTimes = np.concatenate([SpikeTimesObject[i] for i in unit])\n",
    "    else:\n",
    "        StudiedSpikeTimes = SpikeTimesObject[unit]\n",
    "\n",
    "    linelengths = 1\n",
    "\n",
    "\n",
    "    if not Plots:\n",
    "        plt.figure()\n",
    "        \n",
    "    plt.eventplot(StudiedSpikeTimes, linelengths=linelengths, colors=color)\n",
    "\n",
    "    \n",
    "    ### annulate the offset due to python indexation\n",
    "    def custom_formatter(x, pos):\n",
    "        return f\"{int(x) + 1}\"\n",
    "    plt.gca().yaxis.set_major_formatter(plt.FuncFormatter(custom_formatter))\n",
    "\n",
    "\n",
    "    if xlim:\n",
    "        plt.xlim(xlim)\n",
    "    else:\n",
    "        plt.margins(x=0)\n",
    "    plt.ylim(0-linelengths/2,len(StudiedSpikeTimes)-1+linelengths/2)\n",
    "\n",
    "    if ylabel:\n",
    "        plt.ylabel(ylabel)\n",
    "    if xlabel:\n",
    "        plt.xlabel(xlabel)\n",
    "    plt.title(title)\n",
    "\n",
    "    if psth:\n",
    "        edges, Zscore, SEM = getPSTHparameters(StudiedSpikeTimes, duration, binResolution)\n",
    "        if smooth:\n",
    "            Zscore = savgol_filter(Zscore, 9, 3)\n",
    "        plt.twinx()\n",
    "        plt.plot(edges[:-1], Zscore, color=psthcolor)\n",
    "        plt.fill_between(edges[:-1], Zscore-SEM, Zscore+SEM, alpha=0.1, color=shadedcolor)\n",
    "        if ylabel:\n",
    "            plt.ylabel('Z-Score FR')\n",
    "        if xlabel:\n",
    "            plt.xlabel('Time (s)')\n",
    "\n",
    "    if save:\n",
    "        plt.savefig(filename, bbox_inches='tight')\n",
    "        \n",
    "    if not Plots:\n",
    "        if show:\n",
    "            plt.show()\n",
    "        else:\n",
    "            plt.close()"
   ]
  },
  {
   "cell_type": "markdown",
   "metadata": {},
   "source": [
    "## <span style=\"border: 2px solid #1c75c8; padding: 3px; background-color: #c5ddf6; color: black\"><strong>split_path(path)</strong></span>"
   ]
  },
  {
   "cell_type": "code",
   "execution_count": null,
   "metadata": {},
   "outputs": [],
   "source": [
    "def split_path(path):\n",
    "    drive, path_without_drive = os.path.splitdrive(path)\n",
    "    path_segments = []\n",
    "    while True:\n",
    "        head, tail = os.path.split(path_without_drive)\n",
    "        if tail:\n",
    "            path_segments.insert(0, tail)\n",
    "            path_without_drive = head\n",
    "        else:\n",
    "            if head:\n",
    "                path_segments.insert(0, head)\n",
    "            break\n",
    "    path_segments.insert(0, drive)\n",
    "    return path_segments"
   ]
  },
  {
   "cell_type": "markdown",
   "metadata": {},
   "source": [
    "## <span style=\"border: 2px solid #1c75c8; padding: 3px; background-color: #c5ddf6; color: black\"><strong>Find Peaks</strong></span>"
   ]
  },
  {
   "cell_type": "code",
   "execution_count": null,
   "metadata": {},
   "outputs": [],
   "source": [
    "def find_peaks(studiedRef, f):\n",
    "    centered_peaks, _ = scipy.signal.find_peaks(studiedRef, plateau_size=(0.3*f,5*f))\n",
    "\n",
    "    AllPeaks, _ = scipy.signal.find_peaks(np.diff(studiedRef))\n",
    "\n",
    "    peaks = []\n",
    "    for center_pic in centered_peaks:\n",
    "        peaks.append(AllPeaks[(AllPeaks > center_pic - 3 * f) & (AllPeaks < center_pic)][0])\n",
    "\n",
    "    return peaks"
   ]
  },
  {
   "cell_type": "markdown",
   "metadata": {},
   "source": [
    "# <span style=\"border: 2px solid #1c75c8; padding: 3px; background-color: #c5ddf6; color: black\"><strong>Initiation</strong></span>"
   ]
  },
  {
   "cell_type": "markdown",
   "metadata": {},
   "source": [
    "## <span style=\"border: 2px solid #1c75c8; padding: 3px; background-color: #c5ddf6; color: black\"><strong>Paths</strong></span>"
   ]
  },
  {
   "cell_type": "code",
   "execution_count": null,
   "metadata": {},
   "outputs": [],
   "source": [
    "current_dir = os.getcwd()\n",
    "\n",
    "parent_folder = os.path.dirname(raw_data_path)\n",
    "\n",
    "exp_id = raw_data_path[raw_data_path.find('animal'):raw_data_path.find('animal')+len('animal')+10]\n",
    "\n",
    "saving_folder = os.path.join(os.path.dirname(current_dir), fr'Analyses/{exp_id}/phototagging')\n",
    "# saving_folder = fr'C:\\Users\\gbouvier\\Documents\\Analyses\\{exp_id}\\phototagging'\n",
    "os.makedirs(saving_folder, exist_ok=True)\n",
    "\n",
    "print(exp_id.upper(), '-- Phototagging analysis')"
   ]
  },
  {
   "cell_type": "markdown",
   "metadata": {},
   "source": [
    "## <span style=\"border: 2px solid #1c75c8; padding: 3px; background-color: #c5ddf6; color: black\"><strong>Determination of Parameters</strong></span>"
   ]
  },
  {
   "cell_type": "code",
   "execution_count": null,
   "metadata": {},
   "outputs": [],
   "source": [
    "census_path = os.path.join(os.path.dirname(current_dir), 'census.xlsx')\n",
    "census_data = pd.read_excel(census_path, sheet_name=None)"
   ]
  },
  {
   "cell_type": "code",
   "execution_count": null,
   "metadata": {},
   "outputs": [],
   "source": [
    "timeBef = 1\n",
    "timeAft = 3\n",
    "\n",
    "\n",
    "ProbeType         = census_data['Study']['ElectrodeType'][census_data['Study']['exp_id']==exp_id].iloc[0]\n",
    "chanSpace         = census_data['Electrodes']['Channel_z_distance'][census_data['Electrodes']['Name']==ProbeType].iloc[0]   # um\n",
    "\n",
    "refValue          = 'din04'\n",
    "rotationSpeed     = 80                 #deg/s\n"
   ]
  },
  {
   "cell_type": "markdown",
   "metadata": {},
   "source": [
    "## <span style=\"border: 2px solid #1c75c8; padding: 3px; background-color: #c5ddf6; color: black\"><strong>Data Importation</strong></span>"
   ]
  },
  {
   "cell_type": "markdown",
   "metadata": {},
   "source": [
    "### For MUA"
   ]
  },
  {
   "cell_type": "code",
   "execution_count": null,
   "metadata": {},
   "outputs": [],
   "source": [
    "times_polytrodeAll = scipy.io.loadmat(os.path.join(raw_data_path, 'times_polytrodeAll.mat'))\n",
    "m_class = times_polytrodeAll['mua_class']\n",
    "'''\n",
    "m_class[:,0] : indice of the cluster for each index\n",
    "m_class[:,1] : time of the spike in ms\n",
    "m_class[:,1]/1000 : time of the spike in s\n",
    "'''\n",
    "\n",
    "muaWf = times_polytrodeAll['clusWFmua']"
   ]
  },
  {
   "cell_type": "code",
   "execution_count": null,
   "metadata": {},
   "outputs": [],
   "source": [
    "fig = go.Figure()\n",
    "\n",
    "for unit in range(len(muaWf)):\n",
    "    x = np.arange(0 + 70 * unit, 54 + 70 * unit)\n",
    "    for i in range(muaWf[unit].shape[1]):\n",
    "        y = muaWf[unit][:, i]\n",
    "        fig.add_trace(go.Scatter(x=x, y=y, mode='lines', name=f'Unit {unit}'))\n",
    "        if unit == 0 and i == 0:\n",
    "            fig.update_layout(title=exp_id)\n",
    "\n",
    "fig.write_html(os.path.join(saving_folder, 'spike_waveform.html'))"
   ]
  },
  {
   "cell_type": "markdown",
   "metadata": {},
   "source": [
    "### For SUA"
   ]
  },
  {
   "cell_type": "code",
   "execution_count": null,
   "metadata": {},
   "outputs": [],
   "source": [
    "c_class = times_polytrodeAll['cluster_class']  # units and associated time spiking\n",
    "\n",
    "temp_idx = c_class[:,0]    # units\n",
    "\n",
    "# find the units and remove the MUA\n",
    "units = temp_idx!=0\n",
    "temp_clus = c_class[units,0]\n",
    "\n",
    "Nclust = len(np.unique(temp_clus))\n",
    "\n",
    "temp_time = c_class[units,1]/1000  # temps de spike en seconde\n",
    "\n",
    "temp_time_clust = []\n",
    "\n",
    "for unit in range(Nclust):\n",
    "    temps_spikes_sec = c_class[np.where(c_class[:,0]==unit+1)][:,1] / 1000\n",
    "    temp_time_clust.append(temps_spikes_sec)"
   ]
  },
  {
   "cell_type": "markdown",
   "metadata": {},
   "source": [
    "### General"
   ]
  },
  {
   "cell_type": "code",
   "execution_count": null,
   "metadata": {},
   "outputs": [],
   "source": [
    "clusterParam = h5py.File(os.path.join(raw_data_path,'rez.mat'),'r')['rez']\n",
    "infos = clusterParam['ops']\n",
    "f = int(infos['fs'][0][0])\n",
    "\n",
    "table_velocity = np.squeeze(h5py.File(os.path.join(parent_folder, f\"{exp_id}_ADC00.mat\"), 'r')['data'])\n",
    "\n",
    "try:\n",
    "    stereotaxic = h5py.File(os.path.join(parent_folder, f\"VelocityData_{exp_id}.mat\"), 'r')\n",
    "except:\n",
    "    stereotaxic = scipy.io.loadmat(os.path.join(parent_folder, f\"VelocityData_{exp_id}.mat\"))\n",
    "ML_pos = np.squeeze(stereotaxic['All_ML'])[0]\n",
    "AP_pos = np.squeeze(stereotaxic['All_AP'])[0]"
   ]
  },
  {
   "cell_type": "code",
   "execution_count": null,
   "metadata": {},
   "outputs": [],
   "source": [
    "#Load all the digital Input on the workspace\n",
    "\n",
    "#DIN01 => photodiiode 1 is trig CAM\n",
    "#DIN02 => LED\n",
    "#DIN03 => trig ttl frame camera\n",
    "#DIN04 => photodiiode 2 is the VS and start turntable\n",
    "\n",
    "din = {\n",
    "    '01':[],\n",
    "    '02':[],\n",
    "    '03':[],\n",
    "    '04':[]\n",
    "}\n",
    "\n",
    "for dinkey in din.keys():\n",
    "    filename = exp_id + '_DIN'+ str(dinkey) + '.mat'\n",
    "    #with h5py.File(filename, 'r') as file:\n",
    "    #    din[str(dinkey)] = file['data'][:]\n",
    "    din[str(dinkey)] = np.squeeze(h5py.File(os.path.join(parent_folder, filename), 'r')['data'])\n",
    "\n",
    "\n",
    "if refValue == 'din01':\n",
    "    ref = din['01']\n",
    "elif refValue == 'din02':\n",
    "    ref = din['02']\n",
    "elif refValue == 'din03':\n",
    "    ref = din['03']\n",
    "elif refValue == 'din04':\n",
    "    ref = din['04']\n",
    "else:\n",
    "    print(f'Take a look to the indicated ref din')\n",
    "\n",
    "\n",
    "time = np.arange(len(din['01'])) / f"
   ]
  },
  {
   "cell_type": "markdown",
   "metadata": {},
   "source": [
    "## <span style=\"border: 2px solid #1c75c8; padding: 3px; background-color: #c5ddf6; color: black\"><strong>Trials beginning</strong></span>"
   ]
  },
  {
   "cell_type": "code",
   "execution_count": null,
   "metadata": {},
   "outputs": [],
   "source": [
    "def find_separation():\n",
    "    largest_interval = 0\n",
    "    foo, _ = scipy.signal.find_peaks(np.diff(ref))\n",
    "    for i in range(1, len(foo)):\n",
    "        interval = foo[i] - foo[i-1]\n",
    "        if interval > largest_interval:\n",
    "            largest_interval = interval\n",
    "            mean_index = (foo[i] + foo[i-1]) // 2\n",
    "    return mean_index\n",
    "\n",
    "limit = find_separation()"
   ]
  },
  {
   "cell_type": "code",
   "execution_count": null,
   "metadata": {},
   "outputs": [],
   "source": [
    "time = time[:limit]\n",
    "table_velocity = table_velocity[:limit]\n",
    "ref = ref[:limit]"
   ]
  },
  {
   "cell_type": "code",
   "execution_count": null,
   "metadata": {},
   "outputs": [],
   "source": [
    "peaks = find_peaks(ref, f)"
   ]
  },
  {
   "cell_type": "code",
   "execution_count": null,
   "metadata": {},
   "outputs": [],
   "source": [
    "Ntrial = len(peaks)\n",
    "\n",
    "print(f\"Number of trials:\", Ntrial)"
   ]
  },
  {
   "cell_type": "code",
   "execution_count": null,
   "metadata": {},
   "outputs": [],
   "source": [
    "duration = np.arange(-timeBef, timeAft, 1/f)"
   ]
  },
  {
   "cell_type": "markdown",
   "metadata": {},
   "source": [
    "# <span style=\"border: 2px solid #1c75c8; padding: 3px; background-color: #c5ddf6; color: black\"><strong>MUA Analysis</strong></span>"
   ]
  },
  {
   "cell_type": "markdown",
   "metadata": {},
   "source": [
    "## <span style=\"border: 2px solid #1c75c8; padding: 3px; background-color: #c5ddf6; color: black\"><strong>Depths determination</strong></span>"
   ]
  },
  {
   "cell_type": "code",
   "execution_count": null,
   "metadata": {},
   "outputs": [],
   "source": [
    "# get the number of units\n",
    "Nclust_mua = len(np.unique(m_class[:,0]))\n",
    "ind_mua = m_class[:,0]\n",
    "\n",
    "\n",
    "# find the peak wf to find the depth\n",
    "szm = muaWf.shape\n",
    "# DEPTH of the unit\n",
    "# Get the mua activity that is in index 0 of the clusWF\n",
    "\n",
    "allBasem = np.zeros((szm[1],szm[2]))\n",
    "PkDepthUnit = np.zeros((szm[0], 1))\n",
    "minMatrixm = np.zeros((szm[0], 1))\n",
    "\n",
    "for spm in range(szm[0]):\n",
    "    baselinem = np.mean(muaWf[spm][0:5],axis=0)-500 # offset -500 for potential positive baseline\n",
    "\n",
    "    for bm in range(szm[2]):\n",
    "        allBasem[:,bm] = baselinem[bm]*np.ones((szm[1]))\n",
    "\n",
    "    spikeWavm = muaWf[spm,:,:]-500\n",
    "    wfm = spikeWavm - allBasem\n",
    "\n",
    "    minMatrixm[spm] = np.min(wfm)\n",
    "\n",
    "    argMm = np.where(wfm==minMatrixm[spm])\n",
    "    # get the depth of the unit\n",
    "    uout = np.unique(argMm[1])\n",
    "    argMm = []\n",
    "    argMm = uout[0]\n",
    "    PkDepthUnit[spm] = (argMm+1)*chanSpace # +1 because of Python indexation"
   ]
  },
  {
   "cell_type": "code",
   "execution_count": null,
   "metadata": {},
   "outputs": [],
   "source": [
    "x = 0 # depth of the tetrode\n",
    "\n",
    "mapp = np.squeeze(infos['chanMap'])\n",
    "\n",
    "if ProbeType == 'A32Edge_1Shank':\n",
    "    Ntet = 16\n",
    "elif ProbeType == 'A64_1Shank':\n",
    "    Ntet = 32\n",
    "else:\n",
    "    messagebox.showinfo(\"Information\", \"You have no indication about the used probe. Please check the census file.\")\n",
    "\n",
    "ArgallLayers = {i: [] for i in range(Ntet)}\n",
    "\n",
    "factorTet = chanSpace * len(mapp)/Ntet\n",
    "\n",
    "for lay in range(Ntet):\n",
    "    # H5 electrode\n",
    "    if np.sum(mapp[0:4]==[33, 38, 44, 40])==4:\n",
    "        ArgallLayers[lay] = np.where((PkDepthUnit <= x+factorTet) & (PkDepthUnit > x))[0]\n",
    "    else:\n",
    "        ArgallLayers[lay] = np.where((PkDepthUnit <= x+factorTet) & (PkDepthUnit > x))[0]\n",
    "    x += factorTet"
   ]
  },
  {
   "cell_type": "markdown",
   "metadata": {},
   "source": [
    "## <span style=\"border: 2px solid #1c75c8; padding: 3px; background-color: #c5ddf6; color: black\"><strong>Associating tetrodes with depth</strong></span>"
   ]
  },
  {
   "cell_type": "code",
   "execution_count": null,
   "metadata": {},
   "outputs": [],
   "source": [
    "m_class_tet = np.zeros((len(m_class),2))\n",
    "\n",
    "\n",
    "# First column\n",
    "for tet in ArgallLayers:\n",
    "    for unit in ArgallLayers[tet]:\n",
    "        pos = np.where(m_class[:,0]-1 == unit)[0]\n",
    "        m_class_tet[pos,0] = tet\n",
    "        \n",
    "# Second column \n",
    "m_class_tet[:,1] = m_class[:,1]"
   ]
  },
  {
   "cell_type": "markdown",
   "metadata": {},
   "source": [
    "## <span style=\"border: 2px solid #1c75c8; padding: 3px; background-color: #c5ddf6; color: black\"><strong>Spiking times of tetrodes</strong></span>"
   ]
  },
  {
   "cell_type": "code",
   "execution_count": null,
   "metadata": {},
   "outputs": [],
   "source": [
    "AllSpikeTimesMUA = np.empty((Ntet,Ntrial),dtype=object)\n",
    "\n",
    "\n",
    "for tet in range(Ntet):\n",
    "    spikingTimeTet = m_class_tet[np.where(m_class_tet[:,0] == tet)[0],1]/1000\n",
    "\n",
    "    for trial in range(Ntrial):\n",
    "        upperTime = peaks[trial]/f + timeAft\n",
    "        lowerTime = peaks[trial]/f - timeBef\n",
    "        rectifierTime = - lowerTime - timeBef\n",
    "        \n",
    "        boolean = (spikingTimeTet > lowerTime) & (spikingTimeTet < upperTime)\n",
    "        AllSpikeTimesMUA[tet][trial] = spikingTimeTet[boolean] + rectifierTime"
   ]
  },
  {
   "cell_type": "code",
   "execution_count": null,
   "metadata": {},
   "outputs": [],
   "source": [
    "SpikeTimesMUA = [[] for _ in range(Ntet)]\n",
    "\n",
    "\n",
    "for tet in range(len(AllSpikeTimesMUA)):\n",
    "    for trial in range(Ntrial):        \n",
    "        SpikeTimesMUA[tet].append([AllSpikeTimesMUA[tet][trial]])\n",
    "\n",
    "        \n",
    "for tet in range(Ntet):\n",
    "    SpikeTimesMUA[tet] = np.array([SpikeTimesMUA[tet][trial][0] for trial in range(len(SpikeTimesMUA[tet]))], dtype=object)"
   ]
  },
  {
   "cell_type": "markdown",
   "metadata": {},
   "source": [
    "## <span style=\"border: 2px solid #1c75c8; padding: 3px; background-color: #c5ddf6; color: black\"><strong>Automatic detection of 0</strong></span>"
   ]
  },
  {
   "cell_type": "code",
   "execution_count": null,
   "metadata": {},
   "outputs": [],
   "source": [
    "if any([data.size==0 for data in SpikeTimesMUA]):\n",
    "    for tet in range(Ntet):\n",
    "        if (SpikeTimesMUA[tet].size == 0) and (SpikeTimesMUA[tet+1].size != 0):\n",
    "            LP_ref = tet+1\n",
    "            break\n",
    "else:\n",
    "    LP_ref = 0\n",
    "\n",
    "print(f\"Automatic detection of the LP is the tetrode #{LP_ref} (Python indexation)\")"
   ]
  },
  {
   "cell_type": "code",
   "execution_count": null,
   "metadata": {},
   "outputs": [],
   "source": [
    "DepthTetrode = np.zeros(Ntet)\n",
    "AllDepth = np.zeros(Nclust)\n",
    "\n",
    "for tet in range(Ntet):\n",
    "    DepthTetrode[tet] = (tet-LP_ref)*factorTet\n",
    "\n",
    "for unit in range(Nclust):\n",
    "    AllDepth[unit] = PkDepthUnit[unit][0] - LP_ref*factorTet"
   ]
  },
  {
   "cell_type": "markdown",
   "metadata": {},
   "source": [
    "## <span style=\"border: 2px solid #1c75c8; padding: 3px; background-color: #c5ddf6; color: black\"><strong>Saving Figures</strong></span>"
   ]
  },
  {
   "cell_type": "code",
   "execution_count": null,
   "metadata": {},
   "outputs": [],
   "source": [
    "MUA_saving_folder = os.path.join(saving_folder, 'MUA')\n",
    "os.makedirs(MUA_saving_folder, exist_ok=True)\n",
    "\n",
    "apercu = []\n",
    "\n",
    "for tet in tqdm(range(Ntet), total=Ntet, desc=f'Raster plots for MUA', leave=False):\n",
    "        # plots(\n",
    "        #         \"plotRaster(SpikeTimesMUA, tet, color='c', xlabel=False, psth=True, psthcolor='blue', shadedcolor='blue', smooth=False, Plots=True)\",\n",
    "        #         suptitle=f\"MUA Phototagging tetrode#{tet} {exp_id}\\n(Automatic detection of 0 for tet#{LP_ref})\",\n",
    "        #         save = Saving_boolean,\n",
    "        #         filename = os.path.join(MUA_saving_folder,f\"MUA_phototagging_{exp_id}_tet#{tet}.png\"),\n",
    "        #         ncols=1,\n",
    "        #         show=False\n",
    "        # )\n",
    "        plotRaster(SpikeTimesMUA, tet, color='c',\n",
    "                        xlabel=False, \n",
    "                        psth=True, psthcolor='blue', shadedcolor='blue', smooth=False,\n",
    "                        title=f\"MUA Phototagging tetrode#{tet} {exp_id}\\n(Automatic detection of 0 for tet#{LP_ref})\",\n",
    "                        save = Saving_boolean,\n",
    "                        filename = os.path.join(MUA_saving_folder,f\"MUA_phototagging_{exp_id}_tet#{tet}.png\"),\n",
    "                        show=False)\n",
    "        apercu.append(os.path.join(MUA_saving_folder,f\"MUA_phototagging_{exp_id}_tet#{tet}.png\"))\n",
    "\n",
    "plt.figure()\n",
    "\n",
    "ncolonne = 5\n",
    "nligne = len(apercu)//ncolonne + 1\n",
    "\n",
    "if Saving_boolean:\n",
    "        for i in range(ncolonne*nligne):\n",
    "                if i < len(apercu):\n",
    "                        img = plt.imread(apercu[i])\n",
    "                        plt.subplot(nligne, ncolonne, i+1)\n",
    "                        plt.imshow(img)\n",
    "                        plt.axis('off')\n",
    "                else:\n",
    "                        plt.subplot(nligne, ncolonne, i+1)\n",
    "                        plt.axis('off')\n",
    "\n",
    "plt.show()"
   ]
  },
  {
   "cell_type": "markdown",
   "metadata": {},
   "source": [
    "# <span style=\"border: 2px solid #1c75c8; padding: 3px; background-color: #c5ddf6; color: black\"><strong>SUA Analysis</strong></span>"
   ]
  },
  {
   "cell_type": "markdown",
   "metadata": {},
   "source": [
    "## <span style=\"border: 2px solid #1c75c8; padding: 3px; background-color: #c5ddf6; color: black\"><strong>All Spiking Times</strong></span>"
   ]
  },
  {
   "cell_type": "code",
   "execution_count": null,
   "metadata": {},
   "outputs": [],
   "source": [
    "AllSpikeTimes = np.empty((Nclust, Ntrial), dtype=object)\n",
    "\n",
    "\n",
    "for unit in range(Nclust):\n",
    "    spikingTimeClus = temp_time_clust[unit]\n",
    "\n",
    "    for trial in range(Ntrial):\n",
    "        upperTime = peaks[trial] / f + timeAft\n",
    "        lowerTime = peaks[trial] / f - timeBef\n",
    "        rectifierTime = - lowerTime - timeBef\n",
    "\n",
    "        bornes = np.logical_and(lowerTime < spikingTimeClus, spikingTimeClus < upperTime)\n",
    "\n",
    "        AllSpikeTimes[unit][trial] = spikingTimeClus[bornes] + rectifierTime"
   ]
  },
  {
   "cell_type": "markdown",
   "metadata": {},
   "source": [
    "## <span style=\"border: 2px solid #1c75c8; padding: 3px; background-color: #c5ddf6; color: black\"><strong>Spiking times according to condition</strong></span>"
   ]
  },
  {
   "cell_type": "code",
   "execution_count": null,
   "metadata": {},
   "outputs": [],
   "source": [
    "SpikeTimes = [[] for _ in range(Nclust)]\n",
    "\n",
    "for neuron in range(len(AllSpikeTimes)):\n",
    "    for trial in range(Ntrial):\n",
    "        SpikeTimes[neuron].append([AllSpikeTimes[neuron][trial]])\n",
    "\n",
    "\n",
    "for unit in range(len(SpikeTimes)):\n",
    "    SpikeTimes[unit] = np.array([SpikeTimes[unit][trial][0] for trial in range(len(SpikeTimes[unit]))], dtype=object)"
   ]
  },
  {
   "cell_type": "markdown",
   "metadata": {},
   "source": [
    "## <span style=\"border: 2px solid #1c75c8; padding: 3px; background-color: #c5ddf6; color: black\"><strong>Raster plots</strong></span>"
   ]
  },
  {
   "cell_type": "code",
   "execution_count": null,
   "metadata": {},
   "outputs": [],
   "source": [
    "Raster_saving_folder = os.path.join(saving_folder, 'Raster')\n",
    "os.makedirs(Raster_saving_folder, exist_ok=True)\n",
    "\n",
    "plots(\n",
    "    *[f\"plotRaster(SpikeTimes, {unit}, Plots=True, xlabel=False, ylabel=False, title='{unit}', color='blue', psth=True, psthcolor='red', shadedcolor='red')\" for unit in range(Nclust)],\n",
    "    suptitle=f\"Phototagging {exp_id}\",\n",
    "    save=Saving_boolean,\n",
    "    filename=os.path.join(Raster_saving_folder, f\"Raster_{exp_id}_phototagging.png\"),\n",
    "    size=(15,10)\n",
    ")"
   ]
  },
  {
   "cell_type": "code",
   "execution_count": null,
   "metadata": {},
   "outputs": [],
   "source": [
    "All_raster_saving_folder = os.path.join(saving_folder, 'Raster', 'All')\n",
    "os.makedirs(All_raster_saving_folder, exist_ok=True)\n",
    "\n",
    "for unit in tqdm(range(Nclust), total=Nclust, desc=f'Raster plots for all units', leave=False):\n",
    "    plotRaster(SpikeTimes, unit,\n",
    "               color='blue',\n",
    "               psth=True, psthcolor='red', shadedcolor='red',\n",
    "               xlabel=True, ylabel=True,\n",
    "               title=f'Unit {unit}, {exp_id}',\n",
    "               show=False,\n",
    "               save=True,\n",
    "               filename=os.path.join(All_raster_saving_folder, f\"Raster_{exp_id}_phototagging_unit{unit}.png\"))"
   ]
  },
  {
   "cell_type": "markdown",
   "metadata": {},
   "source": [
    "## <span style=\"border: 2px solid #1c75c8; padding: 3px; background-color: #c5ddf6; color: black\"><strong>PSTH Heatmap</strong></span>"
   ]
  },
  {
   "cell_type": "code",
   "execution_count": null,
   "metadata": {},
   "outputs": [],
   "source": [
    "# Zmaxiscore = [[] for _ in range(len(SpikeTimes['first']['CW']))]\n",
    "\n",
    "# for unit in range(len(SpikeTimes['first']['CW'])):\n",
    "#     StudiedSpikeTimes = SpikeTimes['first']['CW'][unit]\n",
    "\n",
    "#     color='k'\n",
    "#     shadedcolor='k'\n",
    "#     ylabel=True\n",
    "#     xlabel=True\n",
    "\n",
    "#     local_trial_number = len(StudiedSpikeTimes)\n",
    "\n",
    "#     binResolution=0.03\n",
    "\n",
    "#     spike_number_per_trial = [[] for _ in range(local_trial_number)]\n",
    "#     edges = []\n",
    "#     unitary_firing_rate = [[] for _ in range(local_trial_number)]\n",
    "\n",
    "#     for trial in range(local_trial_number):\n",
    "#         spike_number_per_trial[trial], edges = np.histogram(StudiedSpikeTimes[trial], bins=np.arange(-timeBef, timeAft + binResolution, binResolution))\n",
    "\n",
    "#     frequency_per_trial = [[spike_number_per_trial[trial][bin]/binResolution for bin in range(len(edges)-1)] for trial in range(local_trial_number)]\n",
    "#     mean_frequency = [np.mean([frequency_per_trial[trial][bin] for trial in range(local_trial_number)]) for bin in range(len(edges)-1)]\n",
    "\n",
    "#     Zscore = (mean_frequency - np.mean(mean_frequency)) / np.std(mean_frequency)\n",
    "#     Zunitary = (frequency_per_trial - np.mean(mean_frequency)) / np.std(mean_frequency)\n",
    "#     SEM = np.std(Zunitary)/np.sqrt(len(Zunitary))\n",
    "\n",
    "#     # # plt.figure(figsize=(15,6))\n",
    "#     # plt.plot(edges[:-1], Zscore, color=color)\n",
    "#     # plt.fill_between(edges[:-1], Zscore-SEM, Zscore+SEM, alpha=0.1, color=shadedcolor)\n",
    "#     # plt.xlim(-timeBef,timeAft)\n",
    "#     # if ylabel:\n",
    "#     #     plt.ylabel('PSTH')\n",
    "#     # if xlabel:\n",
    "#     #     plt.xlabel('Time (s)')\n",
    "#     # plt.show()\n",
    "\n",
    "#     Zmaxiscore[unit] = Zscore\n",
    "\n",
    "\n",
    "\n",
    "# # del Zmaxiscore[22]\n",
    "\n",
    "\n",
    "# # # Créer des données aléatoires pour le heatmap (une matrice 10x10)\n",
    "# # data = np.random.rand(10, 100)\n",
    "\n",
    "# # Afficher le heatmap\n",
    "# plt.figure(figsize=(15, 5))\n",
    "# plt.imshow(Zmaxiscore, cmap='coolwarm', interpolation='nearest', vmin=-2,vmax=2)\n",
    "# plt.colorbar()  # Ajouter une barre de couleur pour référence\n",
    "# # plt.xticks(duration)\n",
    "# plt.show()"
   ]
  },
  {
   "cell_type": "markdown",
   "metadata": {},
   "source": [
    "## <span style=\"border: 2px solid #1c75c8; padding: 3px; background-color: #c5ddf6; color: black\"><strong>Statistics</strong></span>"
   ]
  },
  {
   "cell_type": "markdown",
   "metadata": {},
   "source": [
    "### <span style=\"border: 2px solid #1c75c8; padding: 3px; background-color: #c5ddf6; color: black\"><strong>Spike counting</strong></span>"
   ]
  },
  {
   "cell_type": "code",
   "execution_count": null,
   "metadata": {},
   "outputs": [],
   "source": [
    "numberBef, numberDur, diffBefDur, sumBefDur = ([[] for _ in range(Nclust)] for _ in range(4))\n",
    "\n",
    "\n",
    "windowDur = [0, 0.003]\n",
    "windowBef = [-0.003, 0]\n",
    "\n",
    "for unit in range(Nclust):\n",
    "    for trial in range(len(SpikeTimes[unit])):\n",
    "        fooSpike = SpikeTimes[unit][trial]\n",
    "        numberBef[unit].append(np.sum((fooSpike < windowBef[1]) & (fooSpike > windowBef[0])))\n",
    "        numberDur[unit].append(np.sum((fooSpike < windowDur[1]) & (fooSpike > windowDur[0])))\n",
    "        diffBefDur[unit].append(numberDur[unit][-1] - np.mean(numberBef[unit][-1]))\n",
    "        sumBefDur[unit].append(numberDur[unit][-1] + np.mean(numberBef[unit][-1]))"
   ]
  },
  {
   "cell_type": "markdown",
   "metadata": {},
   "source": [
    "### <span style=\"border: 2px solid #1c75c8; padding: 3px; background-color: #c5ddf6; color: black\"><strong>Paired Wilcoxon Test</strong></span>"
   ]
  },
  {
   "cell_type": "code",
   "execution_count": null,
   "metadata": {},
   "outputs": [],
   "source": [
    "statistics, p_values = ([] for _ in range(2))\n",
    "\n",
    "\n",
    "for unit in range(Nclust):\n",
    "    try:\n",
    "        results = wilcoxon(numberBef[unit], numberDur[unit])\n",
    "        statistics.append(results[0])\n",
    "        p_values.append(results[1])\n",
    "    except ValueError:\n",
    "        statistics.append(0)\n",
    "        p_values.append(1)\n",
    "    \n",
    "p_values = np.array(p_values)\n",
    "statistics = np.array(statistics)"
   ]
  },
  {
   "cell_type": "markdown",
   "metadata": {},
   "source": [
    "### <span style=\"border: 2px solid #1c75c8; padding: 3px; background-color: #c5ddf6; color: black\"><strong>Determination of significant units by condition</strong></span>"
   ]
  },
  {
   "cell_type": "code",
   "execution_count": null,
   "metadata": {},
   "outputs": [],
   "source": [
    "p_value_threshold = 0.05\n",
    "\n",
    "significance = []\n",
    "\n",
    "significance = (np.arange(0,Nclust))[p_values<p_value_threshold]"
   ]
  },
  {
   "cell_type": "markdown",
   "metadata": {},
   "source": [
    "### <span style=\"border: 2px solid #1c75c8; padding: 3px; background-color: #c5ddf6; color: black\"><strong>Visual Overview Of Spike Numbers Before & During</strong></span>"
   ]
  },
  {
   "cell_type": "code",
   "execution_count": null,
   "metadata": {},
   "outputs": [],
   "source": [
    "print(f\"Mean number of spikes before phototagging : {np.mean([np.mean(numberBef[unit]) for unit in range(Nclust)])}\")\n",
    "print(f\"Mean number of spikes during phototagging : {np.mean([np.mean(numberDur[unit]) for unit in range(Nclust)])}\")"
   ]
  },
  {
   "cell_type": "markdown",
   "metadata": {},
   "source": [
    "### <span style=\"border: 2px solid #1c75c8; padding: 3px; background-color: #c5ddf6; color: black\"><strong>Resuming Modulations</strong></span>"
   ]
  },
  {
   "cell_type": "code",
   "execution_count": null,
   "metadata": {},
   "outputs": [],
   "source": [
    "modulation = [[] for _ in range(Nclust)]\n",
    "\n",
    "for unit in range(Nclust):\n",
    "    modulation[unit] = 1 if unit in significance else 0\n",
    "\n",
    "# Convert lists -> NumPy\n",
    "modulation = np.array(modulation)"
   ]
  },
  {
   "cell_type": "code",
   "execution_count": null,
   "metadata": {},
   "outputs": [],
   "source": [
    "path_phototagged = os.path.join(saving_folder, 'Modulation')\n",
    "path_nonphototagged = os.path.join(saving_folder, 'Modulation', 'Not_modulated')\n",
    "os.makedirs(path_phototagged, exist_ok=True)\n",
    "os.makedirs(path_nonphototagged, exist_ok=True)\n",
    "\n",
    "\n",
    "for i in range(Nclust):\n",
    "    plt.figure()\n",
    "    plt.eventplot(SpikeTimes[i])\n",
    "    plt.axvspan(-0.004, -0.001, color='gray', alpha=0.2)\n",
    "    plt.axvspan(0, 0.003, color='cyan', alpha=0.2)\n",
    "    plt.xlim(-0.005, 0.005)\n",
    "    plt.margins(y=0)\n",
    "    text_x = -0.004\n",
    "    text_y = len(SpikeTimes[i]) + 5\n",
    "    text = f'''stats = {statistics[i]:.2f}\n",
    "    p = {p_values[i]:.5f}'''\n",
    "    box_props = dict(boxstyle='round', facecolor='white', edgecolor='black')\n",
    "    plt.text(text_x, text_y, text, bbox=box_props, ha='center', va='center')\n",
    "\n",
    "    if i in significance:\n",
    "        plt.title(f'Phototagged Unit {i}')\n",
    "        if Saving_boolean:\n",
    "            plt.savefig(os.path.join(path_phototagged, f\"Unit_{i}_phototagged.png\"))\n",
    "        plt.close()\n",
    "    else:\n",
    "        plt.title(f'Not Phototagged Unit {i}')\n",
    "        if Saving_boolean:\n",
    "            plt.savefig(os.path.join(path_nonphototagged, f\"Unit_{i}_not_phototagged.png\"))\n",
    "        plt.close()"
   ]
  },
  {
   "cell_type": "markdown",
   "metadata": {},
   "source": [
    "### <span style=\"border: 2px solid #1c75c8; padding: 3px; background-color: #c5ddf6; color: black\"><strong>Showing Numerical Results</strong></span>"
   ]
  },
  {
   "cell_type": "code",
   "execution_count": null,
   "metadata": {},
   "outputs": [],
   "source": [
    "print(f\"Phototagged units : {significance}\")"
   ]
  },
  {
   "cell_type": "markdown",
   "metadata": {},
   "source": [
    "# <span style=\"border: 2px solid #1c75c8; padding: 3px; background-color: #c5ddf6; color: black\"><strong>Saving Variables</strong></span>"
   ]
  },
  {
   "cell_type": "code",
   "execution_count": null,
   "metadata": {},
   "outputs": [],
   "source": [
    "# if Saving_boolean:\n",
    "#     phototagging_data = {\n",
    "#         'exp_id': exp_id,\n",
    "#         'timeBef': timeBef,\n",
    "#         'timeAft': timeAft,\n",
    "#         # 'refVa!lue': refValue,\n",
    "#         'din': din,\n",
    "#         # 'time': time,\n",
    "#         'chanSpace': chanSpace,\n",
    "#         'rotationSpeed': rotationSpeed,\n",
    "#         'ProbeType': ProbeType,\n",
    "#         # 'f': f,\n",
    "#         'ML_pos': ML_pos,\n",
    "#         'AP_pos': AP_pos,\n",
    "#         # 'SpikeTimesMUA': SpikeTimesMUA,\n",
    "#         'Ntrial': Ntrial,\n",
    "#         # 'protocolSeparationIndex': limit,\n",
    "#         'SpikeTimes': SpikeTimes,\n",
    "#         # 'ref': ref,\n",
    "#         'peaks': peaks,\n",
    "#         'duration': duration,\n",
    "#         'table_velocity': table_velocity,\n",
    "#         'c_class': c_class,\n",
    "#         'Nclust': Nclust,\n",
    "#         'm_class': m_class,\n",
    "#         # 'm_class_tet': m_class_tet,\n",
    "#         'Nclust_mua': Nclust_mua,\n",
    "#         'Ntet': Ntet,\n",
    "#         'allBasem': allBasem,\n",
    "#         'PkDepthUnit': PkDepthUnit,\n",
    "#         'mapp': mapp,\n",
    "#         'ArgallLayers': ArgallLayers,\n",
    "#         'DepthTetrode': DepthTetrode,\n",
    "#         'AllDepth': AllDepth,\n",
    "#         'windowBef': windowBef,\n",
    "#         'windowDur': windowDur,\n",
    "#         'numberBef': numberBef,\n",
    "#         'numberDur': numberDur,\n",
    "#         'diffBefDur': diffBefDur,\n",
    "#         'sumBefDur': sumBefDur,\n",
    "#         'statistics': statistics,\n",
    "#         'p_values': p_values,\n",
    "#         'significance': significance,\n",
    "#         'modulation': modulation\n",
    "#     }\n",
    "\n",
    "\n",
    "\n",
    "\n",
    "#     file = os.path.join(os.path.dirname(saving_folder), exp_id+\"_phototagging_variables.pickle\")\n",
    "    \n",
    "#     # from tqdm import tqdm\n",
    "#     # with tqdm(total=100) as pbar:\n",
    "#     #     jd.save(data, os.path.join(saving_folder, exp_id+\"_data.json\"), progress=lambda *args: pbar.update(100))\n",
    "#     # jd.save(data, os.path.join(data_saving_folder, exp_id+\"_data.json\"))\n",
    "        \n",
    "#     # Sauvegarde des variables dans un fichier\n",
    "#     with open(file, 'wb') as FILE_WRITTER:\n",
    "#         pickle.dump(phototagging_data, FILE_WRITTER)\n",
    "#         FILE_WRITTER.close()"
   ]
  },
  {
   "cell_type": "code",
   "execution_count": null,
   "metadata": {},
   "outputs": [],
   "source": [
    "if Saving_boolean:\n",
    "    file = os.path.join(os.path.dirname(saving_folder), exp_id+\"_phototagging_variables.npz\")\n",
    "    np.savez(file,\n",
    "            exp_id = exp_id,\n",
    "            timeBef = timeBef,\n",
    "            timeAft = timeAft,\n",
    "            # refValue = refValue,\n",
    "            din = din,\n",
    "            # time = time,\n",
    "            chanSpace = chanSpace,\n",
    "            rotationSpeed = rotationSpeed,\n",
    "            ProbeType = ProbeType,\n",
    "            f = f,\n",
    "            ML_pos = ML_pos,\n",
    "            AP_pos = AP_pos,\n",
    "            # SpikeTimesMUA = SpikeTimesMUA,\n",
    "            Ntrial = Ntrial,\n",
    "            # protocolSeparationIndex = limit,\n",
    "            SpikeTimes = SpikeTimes,\n",
    "            # ref = ref,\n",
    "            peaks = peaks,\n",
    "            duration = duration,\n",
    "            table_velocity = table_velocity,\n",
    "            c_class = c_class,\n",
    "            Nclust = Nclust,\n",
    "            m_class = m_class,\n",
    "            # m_class_tet = m_class_tet,\n",
    "            Nclust_mua = Nclust_mua,\n",
    "            Ntet = Ntet,\n",
    "            allBasem = allBasem,\n",
    "            PkDepthUnit = PkDepthUnit,\n",
    "            mapp = mapp,\n",
    "            ArgallLayers = ArgallLayers,\n",
    "            DepthTetrode = DepthTetrode,\n",
    "            AllDepth = AllDepth,\n",
    "            windowBef = windowBef,\n",
    "            windowDur = windowDur,\n",
    "            numberBef = numberBef,\n",
    "            numberDur = numberDur,\n",
    "            diffBefDur = diffBefDur,\n",
    "            sumBefDur = sumBefDur,\n",
    "            statistics = statistics,\n",
    "            p_values = p_values,\n",
    "            significance = significance,\n",
    "            modulation = modulation\n",
    "            )\n"
   ]
  }
 ],
 "metadata": {
  "kernelspec": {
   "display_name": "Python 3",
   "language": "python",
   "name": "python3"
  },
  "language_info": {
   "codemirror_mode": {
    "name": "ipython",
    "version": 3
   },
   "file_extension": ".py",
   "mimetype": "text/x-python",
   "name": "python",
   "nbconvert_exporter": "python",
   "pygments_lexer": "ipython3",
   "version": "3.11.4"
  }
 },
 "nbformat": 4,
 "nbformat_minor": 2
}
