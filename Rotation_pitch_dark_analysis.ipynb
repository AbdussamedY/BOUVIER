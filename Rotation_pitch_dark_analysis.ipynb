{
 "cells": [
  {
   "cell_type": "markdown",
   "metadata": {},
   "source": [
    "# <span style=\"border: 2px solid #1c75c8; padding: 3px; background-color: #c5ddf6; color: black;\"><strong>Module importations</strong></span>"
   ]
  },
  {
   "cell_type": "code",
   "execution_count": 1,
   "metadata": {},
   "outputs": [],
   "source": [
    "from MyModule import *"
   ]
  },
  {
   "cell_type": "code",
   "execution_count": 2,
   "metadata": {},
   "outputs": [
    {
     "name": "stdout",
     "output_type": "stream",
     "text": [
      "DATA/Pulvinar_rec_dark_80degs/phototagging_rotation_pitch_dark/animal21_a15d1s1_ephys/21a15d1s1_210326_163524\n"
     ]
    }
   ],
   "source": [
    "%run GUI_animal_selection.py"
   ]
  },
  {
   "cell_type": "code",
   "execution_count": 3,
   "metadata": {},
   "outputs": [
    {
     "name": "stdout",
     "output_type": "stream",
     "text": [
      "Saving_boolean :  True\n"
     ]
    }
   ],
   "source": [
    "try:\n",
    "    print(\"Saving_boolean : \", Saving_boolean)\n",
    "except NameError:\n",
    "    Saving_boolean = True"
   ]
  },
  {
   "cell_type": "code",
   "execution_count": 4,
   "metadata": {},
   "outputs": [],
   "source": [
    "## qt for popup window (savable as pdf, svg...), inline for inline plot, notebook for interactive plot, widget for interactive plot\n",
    "#%matplotlib widget \n",
    "#plt.ioff()\n",
    "## plt.rcdefaults()"
   ]
  },
  {
   "cell_type": "markdown",
   "metadata": {},
   "source": [
    "# <span style=\"border: 2px solid #1c75c8; padding: 3px; background-color: #c5ddf6; color: black\"><strong>FUNCTIONS</strong></span>"
   ]
  },
  {
   "cell_type": "markdown",
   "metadata": {},
   "source": [
    "## <span style=\"border: 2px solid #1c75c8; padding: 3px; background-color: #c5ddf6; color: black\"><strong>plots(row_number, col_number, width, height, *args, suptitle=None,**kwargs)</strong></span>"
   ]
  },
  {
   "cell_type": "code",
   "execution_count": 5,
   "metadata": {},
   "outputs": [],
   "source": [
    "def plots(*plot_commands, ncols=None, suptitle=None, supxlabel=None, supylabel=None, size=(9, 5), show=True, save=False, filename=None):\n",
    "    num_plots = len(plot_commands)\n",
    "    if ncols is None:\n",
    "        ncols = int(num_plots ** 0.5) + 1  # Calcul automatique du nombre de colonnes\n",
    "\n",
    "    nrows = (num_plots + ncols - 1) // ncols\n",
    "\n",
    "\n",
    "    fig = plt.figure(figsize=size)\n",
    "    # Création des sous-figures\n",
    "    for i, command in enumerate(plot_commands, start=1):\n",
    "        plt.subplot(nrows, ncols, i)\n",
    "        exec(command)\n",
    "\n",
    "    \n",
    "    if supxlabel:\n",
    "        fig.supxlabel(supxlabel)\n",
    "    if supylabel:\n",
    "        fig.supylabel(supylabel)\n",
    "    if suptitle:\n",
    "        plt.suptitle(suptitle)\n",
    "    plt.tight_layout()\n",
    "    if save:\n",
    "        os.makedirs(os.path.dirname(filename), exist_ok=True)\n",
    "        plt.savefig(filename)\n",
    "    \n",
    "    if show:\n",
    "        plt.show()\n",
    "    else:\n",
    "        plt.close(fig)"
   ]
  },
  {
   "cell_type": "markdown",
   "metadata": {},
   "source": [
    "## <span style=\"border: 2px solid #1c75c8; padding: 3px; background-color: #c5ddf6; color: black\"><strong>plotVelocity(velocity)</strong></span>"
   ]
  },
  {
   "cell_type": "code",
   "execution_count": 6,
   "metadata": {},
   "outputs": [],
   "source": [
    "def plotVelocity(velocityObject, direction, duration, rotationSpeed, xlim=None, color='c', xlabel=True, ylabel=True, save=False, filename='velocity.png', show=True, Plots=False):\n",
    "    velocity = velocityObject[direction]\n",
    "    durationFoo = duration\n",
    "    xmin, xmax = durationFoo[0], durationFoo[-1]\n",
    "    \n",
    "    if not Plots:\n",
    "        plt.figure()\n",
    "\n",
    "    plt.plot(durationFoo, velocity, color=color, linewidth='1')\n",
    "    plt.ylim(-rotationSpeed, rotationSpeed)\n",
    "    if xlim:\n",
    "        plt.xlim(xlim)\n",
    "    else:\n",
    "        plt.xlim(xmin, xmax)\n",
    "    if ylabel:\n",
    "        plt.ylabel(r'Mean Velocity $(^\\circ/s)$')\n",
    "    if xlabel:\n",
    "        plt.xlabel(r'Time $(s)$')\n",
    "    plt.yticks([-rotationSpeed, 0, rotationSpeed])\n",
    "\n",
    "    if save:\n",
    "        plt.savefig(filename, bbox_inches='tight')\n",
    "\n",
    "\n",
    "    if not Plots:\n",
    "        if show:\n",
    "            plt.show()\n",
    "        else:\n",
    "            plt.close()"
   ]
  },
  {
   "cell_type": "markdown",
   "metadata": {},
   "source": [
    "## <span style=\"border: 2px solid #1c75c8; padding: 3px; background-color: #c5ddf6; color: black\"><strong>plotPSTH(StudiedSpikeTimes)</strong></span>"
   ]
  },
  {
   "cell_type": "code",
   "execution_count": 7,
   "metadata": {},
   "outputs": [],
   "source": [
    "def getPSTHparameters(StudiedSpikeTimes, timeObject, binResolution):\n",
    "    local_trial_number = len(StudiedSpikeTimes)\n",
    "\n",
    "    spike_number_per_trial = [[] for _ in range(local_trial_number)]\n",
    "    edges = []\n",
    "\n",
    "    for trial in range(local_trial_number):\n",
    "        spike_number_per_trial[trial], edges = np.histogram(StudiedSpikeTimes[trial], bins=np.arange(timeObject[0], round(timeObject[-1])+binResolution, binResolution))\n",
    "\n",
    "\n",
    "    frequency_per_trial = [[spike_number_per_trial[trial][bin]/binResolution for bin in range(len(edges)-1)] for trial in range(local_trial_number)]\n",
    "    mean_frequency = [np.mean([frequency_per_trial[trial][bin] for trial in range(local_trial_number)]) for bin in range(len(edges)-1)]\n",
    "    baseline_mean_frequency = [np.mean([frequency_per_trial[trial][bin] for trial in range(local_trial_number)]) for bin in range(len(edges)-1) if edges[bin] < 0]\n",
    "\n",
    "    Zscore = (mean_frequency - np.mean(baseline_mean_frequency)) / np.std(baseline_mean_frequency) if np.std(mean_frequency) != 0 else np.zeros(len(mean_frequency))\n",
    "    Zscore[-1]=Zscore[-2]\n",
    "    Zunitary = (frequency_per_trial - np.mean(mean_frequency)) / np.std(mean_frequency) if np.std(mean_frequency) != 0 else np.zeros(len(frequency_per_trial))\n",
    "    SEM = np.std(Zunitary)/np.sqrt(len(Zunitary)) if np.std(mean_frequency) != 0 else np.zeros(len(mean_frequency))\n",
    "\n",
    "    return edges, Zscore, SEM"
   ]
  },
  {
   "cell_type": "code",
   "execution_count": 8,
   "metadata": {},
   "outputs": [],
   "source": [
    "def plotPSTH(SpikeTimesObject, condition, unit,color='k',shadedcolor='c',binResolution = 0.03,xlabel=True,ylabel=True, title='', plotvelocity=False, velocitycolor='c', velocityalpha=0.13, xlim=None, save=False, filename='PSTH.png', show=True, smooth=True, Plots=False):\n",
    "    if type(unit)==list:\n",
    "        if type(condition)==list:\n",
    "            StudiedSpikeTimes =  np.concatenate([np.concatenate([SpikeTimesObject[y][i] for i in unit]) for y in condition])\n",
    "        else:\n",
    "            StudiedSpikeTimes = np.concatenate([SpikeTimesObject[condition][i] for i in unit])\n",
    "    else:\n",
    "        if type(condition)==list:\n",
    "            StudiedSpikeTimes = np.concatenate([SpikeTimesObject[y][unit] for y in condition])\n",
    "        else:\n",
    "            StudiedSpikeTimes = SpikeTimesObject[condition][unit]\n",
    "\n",
    "    edges, Zscore, SEM = getPSTHparameters(StudiedSpikeTimes, duration, binResolution)\n",
    "\n",
    "    if smooth:\n",
    "        Zscore = savgol_filter(Zscore, 9, 3)\n",
    "\n",
    "    if not Plots:\n",
    "        plt.figure()\n",
    "    plt.plot(edges[:-1], Zscore, color=color)\n",
    "    plt.fill_between(edges[:-1], Zscore-SEM, Zscore+SEM, alpha=0.1, color=shadedcolor)\n",
    "\n",
    "\n",
    "\n",
    "    if plotvelocity:\n",
    "        normalization = 1/rotationSpeed*max(abs(Zscore))\n",
    "        rotation = MeanRotation[condition]\n",
    "        \n",
    "        if min(rotation) < -rotationSpeed/2:\n",
    "            rotation = rotation * normalization\n",
    "            haxis = np.zeros(len(duration))\n",
    "        else:\n",
    "            rotation = rotation * normalization\n",
    "            haxis = np.zeros(len(duration))\n",
    "        plt.plot(duration, rotation, color=velocitycolor, alpha=velocityalpha)\n",
    "        plt.fill_between(duration, rotation, haxis, color=velocitycolor, alpha=velocityalpha*0.8)\n",
    "\n",
    "\n",
    "\n",
    "    if xlim:\n",
    "        plt.xlim(xlim)\n",
    "    else:\n",
    "        plt.margins(x=0)\n",
    "    if ylabel:\n",
    "        plt.ylabel('Z-Score FR')\n",
    "    if xlabel:\n",
    "        plt.xlabel('Time (s)')\n",
    "\n",
    "    plt.title(title)\n",
    "\n",
    "    if save:\n",
    "        plt.savefig(filename, bbox_inches='tight')\n",
    "    \n",
    "    \n",
    "    if not Plots:\n",
    "        if show:\n",
    "            plt.show()\n",
    "        else:\n",
    "            plt.close()"
   ]
  },
  {
   "cell_type": "markdown",
   "metadata": {},
   "source": [
    "## <span style=\"border: 2px solid #1c75c8; padding: 3px; background-color: #c5ddf6; color: black\"><strong>plotRaster(spikeTimesObject)</strong></span>"
   ]
  },
  {
   "cell_type": "code",
   "execution_count": 9,
   "metadata": {},
   "outputs": [],
   "source": [
    "def plotRaster(SpikeTimesObject, condition, unit, color='black', xlabel='Time (s)', ylabel='# Trial', extra=None, title='', xlim=None, plotvelocity=False, velocitycolor='k', velocityalpha=0.13, save=False, filename='Raster.png', show=True, psth=False, binResolution=0.03, shadedcolor='red', psthcolor='red', smooth=True, Plots=False):\n",
    "    if type(unit)==list:\n",
    "        if type(condition)==list:\n",
    "            StudiedSpikeTimes =  np.concatenate([np.concatenate([SpikeTimesObject[y][i] for i in unit]) for y in condition])\n",
    "        else:\n",
    "            StudiedSpikeTimes = np.concatenate([SpikeTimesObject[condition][i] for i in unit])\n",
    "    else:\n",
    "        if type(condition)==list:\n",
    "            StudiedSpikeTimes = np.concatenate([SpikeTimesObject[directiony][unit] for directiony in condition])\n",
    "        else:\n",
    "            StudiedSpikeTimes = SpikeTimesObject[condition][unit]\n",
    "   \n",
    "    \n",
    "\n",
    "    linelengths = 1\n",
    "\n",
    "    if not Plots:\n",
    "        plt.figure()\n",
    "\n",
    "    plt.eventplot(StudiedSpikeTimes, linelengths=linelengths, colors=color)\n",
    "\n",
    "    if extra is not None:\n",
    "        extra()\n",
    "    \n",
    "    ### annulate the offset due to python indexation\n",
    "    def custom_formatter(x, pos):\n",
    "        return f\"{int(x) + 1}\"\n",
    "    plt.gca().yaxis.set_major_formatter(plt.FuncFormatter(custom_formatter))\n",
    "\n",
    "    if plotvelocity:\n",
    "        normalization = len(StudiedSpikeTimes)/rotationSpeed\n",
    "        rotation = MeanRotation[condition]\n",
    "        \n",
    "        if condition == 'CCW':\n",
    "            rotation = rotation * normalization - min(rotation * normalization) - linelengths/2\n",
    "            haxis = len(StudiedSpikeTimes)*np.ones(len(duration))\n",
    "        elif condition == 'CW':\n",
    "            rotation = rotation * normalization - linelengths/2\n",
    "            haxis = np.zeros(len(duration)) - linelengths/2\n",
    "        else:\n",
    "            rotation = rotation\n",
    "            haxis = np.zeros(len(duration))\n",
    "        plt.plot(duration, rotation, color=velocitycolor, alpha=velocityalpha)\n",
    "        plt.fill_between(duration, rotation, haxis, color=velocitycolor, alpha=velocityalpha*0.8)\n",
    "    \n",
    "\n",
    "    if xlim:\n",
    "        plt.xlim(xlim)\n",
    "    else:\n",
    "        plt.margins(x=0)\n",
    "    plt.ylim(0-linelengths/2,len(StudiedSpikeTimes)-1+linelengths/2)\n",
    "\n",
    "    if ylabel:\n",
    "        plt.ylabel(ylabel)\n",
    "    if xlabel:\n",
    "        plt.xlabel(xlabel)\n",
    "    plt.title(title)\n",
    "\n",
    "    if psth:\n",
    "        edges, Zscore, SEM = getPSTHparameters(StudiedSpikeTimes, duration, binResolution)\n",
    "        if smooth:\n",
    "            Zscore = savgol_filter(Zscore, 9, 3)\n",
    "        plt.twinx()\n",
    "        plt.plot(edges[:-1], Zscore, color=psthcolor)\n",
    "        plt.fill_between(edges[:-1], Zscore-SEM, Zscore+SEM, alpha=0.1, color=shadedcolor)\n",
    "        if ylabel:\n",
    "            plt.ylabel('Z-Score FR')\n",
    "        if xlabel:\n",
    "            plt.xlabel('Time (s)')\n",
    "\n",
    "    if save:\n",
    "        plt.savefig(filename, bbox_inches='tight')\n",
    "        \n",
    "    if not Plots:\n",
    "        if show:\n",
    "            plt.show()\n",
    "        else:\n",
    "            plt.close()"
   ]
  },
  {
   "cell_type": "markdown",
   "metadata": {},
   "source": [
    "## <span style=\"border: 2px solid #1c75c8; padding: 3px; background-color: #c5ddf6; color: black\"><strong>seeModulation(condition, modulated)</strong></span>"
   ]
  },
  {
   "cell_type": "code",
   "execution_count": 10,
   "metadata": {},
   "outputs": [],
   "source": [
    "def seeModulation(condition,modulated, color='k', velocitycolor='k', velocityalpha=0.13, save=False, filename='Modulation', show = True):\n",
    "      \n",
    "      position = np.where([(modulation['selectivity'][neuron]==modulated.split()[0]) and (modulation['type'][neuron]==modulated.split()[1]) for neuron in range(Nclust)])[0]\n",
    "      print(f'The {modulated} modulated neurons are {position}')\n",
    "\n",
    "      by = modulated.split()[0]\n",
    "      how = modulated.split()[1]\n",
    "\n",
    "      for unit in np.where([modulation['selectivity'][neuron]==by and modulation['type'][neuron]==how for neuron in range(Nclust)])[0]:\n",
    "            plots(\n",
    "                  f\"plotRaster(SpikeTimes, condition, 'CW', {unit}, color='{color}', xlabel=False, ylabel=False, plotvelocity=True, velocitycolor='{velocitycolor}', velocityalpha={velocityalpha}, Plots=True)\",\n",
    "                  f\"plotRaster(SpikeTimes, condition, 'CCW', {unit}, color='{color}', xlabel=False, ylabel=False, plotvelocity=True, velocitycolor='{velocitycolor}', velocityalpha={velocityalpha}, Plots=True)\",\n",
    "                  suptitle=f'Unit {unit} {modulated} modulated',\n",
    "                  supxlabel='Time (s)',\n",
    "                  supylabel='# Trial',\n",
    "                  save=save,\n",
    "                  filename=filename,\n",
    "                  show=show,\n",
    "                  ncols=2\n",
    "            )"
   ]
  },
  {
   "cell_type": "markdown",
   "metadata": {},
   "source": [
    "## <span style=\"border: 2px solid #1c75c8; padding: 3px; background-color: #c5ddf6; color: black\"><strong>split_path(path)</strong></span>"
   ]
  },
  {
   "cell_type": "code",
   "execution_count": 11,
   "metadata": {},
   "outputs": [],
   "source": [
    "def split_path(path):\n",
    "    drive, path_without_drive = os.path.splitdrive(path)\n",
    "    path_segments = []\n",
    "    while True:\n",
    "        head, tail = os.path.split(path_without_drive)\n",
    "        if tail:\n",
    "            path_segments.insert(0, tail)\n",
    "            path_without_drive = head\n",
    "        else:\n",
    "            if head:\n",
    "                path_segments.insert(0, head)\n",
    "            break\n",
    "    path_segments.insert(0, drive)\n",
    "    return path_segments"
   ]
  },
  {
   "cell_type": "markdown",
   "metadata": {},
   "source": [
    "## <span style=\"border: 2px solid #1c75c8; padding: 3px; background-color: #c5ddf6; color: black\"><strong>Find Peaks</strong></span>"
   ]
  },
  {
   "cell_type": "code",
   "execution_count": 12,
   "metadata": {},
   "outputs": [],
   "source": [
    "def find_peaks(studiedRef, f):\n",
    "    centered_peaks, _ = scipy.signal.find_peaks(studiedRef, plateau_size=(0.3*f,5*f))\n",
    "\n",
    "    AllPeaks, _ = scipy.signal.find_peaks(np.diff(studiedRef))\n",
    "\n",
    "    peaks = []\n",
    "    for center_pic in centered_peaks:\n",
    "        peaks.append(AllPeaks[(AllPeaks > center_pic - 3 * f) & (AllPeaks < center_pic)][0])\n",
    "\n",
    "    return peaks"
   ]
  },
  {
   "cell_type": "markdown",
   "metadata": {},
   "source": [
    "# <span style=\"border: 2px solid #1c75c8; padding: 3px; background-color: #c5ddf6; color: black\"><strong>Initiation</strong></span>"
   ]
  },
  {
   "cell_type": "markdown",
   "metadata": {},
   "source": [
    "## <span style=\"border: 2px solid #1c75c8; padding: 3px; background-color: #c5ddf6; color: black\"><strong>Paths</strong></span>"
   ]
  },
  {
   "cell_type": "code",
   "execution_count": 13,
   "metadata": {},
   "outputs": [
    {
     "name": "stdout",
     "output_type": "stream",
     "text": [
      "ANIMAL21_A15D1S1 -- Rotation in pitch dark analysis\n"
     ]
    }
   ],
   "source": [
    "current_dir = os.getcwd()\n",
    "\n",
    "parent_folder = os.path.dirname(raw_data_path)\n",
    "\n",
    "exp_id = raw_data_path[raw_data_path.find('animal'):raw_data_path.find('animal')+len('animal')+10]\n",
    "\n",
    "saving_folder = os.path.join(os.path.dirname(current_dir), fr'Analyses/{exp_id}/phototagging')\n",
    "# saving_folder = fr'C:\\Users\\gbouvier\\Documents\\Analyses\\{exp_id}\\rotation'\n",
    "os.makedirs(saving_folder, exist_ok=True)\n",
    "\n",
    "print(exp_id.upper(), '-- Rotation in pitch dark analysis')"
   ]
  },
  {
   "cell_type": "markdown",
   "metadata": {},
   "source": [
    "## <span style=\"border: 2px solid #1c75c8; padding: 3px; background-color: #c5ddf6; color: black\"><strong>Determination of Parameters</strong></span>"
   ]
  },
  {
   "cell_type": "code",
   "execution_count": 14,
   "metadata": {},
   "outputs": [],
   "source": [
    "census_path = os.path.join(os.path.dirname(current_dir), 'census.xlsx')\n",
    "census_data = pd.read_excel(census_path, sheet_name=None)"
   ]
  },
  {
   "cell_type": "code",
   "execution_count": 15,
   "metadata": {},
   "outputs": [],
   "source": [
    "timeBef   = 2\n",
    "timeAft   = 8\n",
    "\n",
    "\n",
    "ProbeType         = census_data['Study']['ElectrodeType'][census_data['Study']['exp_id']==exp_id].iloc[0]\n",
    "chanSpace         = census_data['Electrodes']['Channel_z_distance'][census_data['Electrodes']['Name']==ProbeType].iloc[0]   # um\n",
    "\n",
    "refValue          = 'din04'\n",
    "rotationSpeed     = 80                 #deg/s\n"
   ]
  },
  {
   "cell_type": "markdown",
   "metadata": {},
   "source": [
    "## <span style=\"border: 2px solid #1c75c8; padding: 3px; background-color: #c5ddf6; color: black\"><strong>Data Importation</strong></span>"
   ]
  },
  {
   "cell_type": "markdown",
   "metadata": {},
   "source": [
    "### For MUA"
   ]
  },
  {
   "cell_type": "code",
   "execution_count": 16,
   "metadata": {},
   "outputs": [
    {
     "ename": "FileNotFoundError",
     "evalue": "[Errno 2] No such file or directory: 'DATA/Pulvinar_rec_dark_80degs/phototagging_rotation_pitch_dark/animal21_a15d1s1_ephys/21a15d1s1_210326_163524\\\\times_polytrodeAll.mat'",
     "output_type": "error",
     "traceback": [
      "\u001b[1;31m---------------------------------------------------------------------------\u001b[0m",
      "\u001b[1;31mFileNotFoundError\u001b[0m                         Traceback (most recent call last)",
      "File \u001b[1;32m~\\AppData\\Local\\Packages\\PythonSoftwareFoundation.Python.3.12_qbz5n2kfra8p0\\LocalCache\\local-packages\\Python312\\site-packages\\scipy\\io\\matlab\\_mio.py:39\u001b[0m, in \u001b[0;36m_open_file\u001b[1;34m(file_like, appendmat, mode)\u001b[0m\n\u001b[0;32m     38\u001b[0m \u001b[38;5;28;01mtry\u001b[39;00m:\n\u001b[1;32m---> 39\u001b[0m     \u001b[38;5;28;01mreturn\u001b[39;00m \u001b[38;5;28;43mopen\u001b[39;49m\u001b[43m(\u001b[49m\u001b[43mfile_like\u001b[49m\u001b[43m,\u001b[49m\u001b[43m \u001b[49m\u001b[43mmode\u001b[49m\u001b[43m)\u001b[49m, \u001b[38;5;28;01mTrue\u001b[39;00m\n\u001b[0;32m     40\u001b[0m \u001b[38;5;28;01mexcept\u001b[39;00m \u001b[38;5;167;01mOSError\u001b[39;00m \u001b[38;5;28;01mas\u001b[39;00m e:\n\u001b[0;32m     41\u001b[0m     \u001b[38;5;66;03m# Probably \"not found\"\u001b[39;00m\n",
      "\u001b[1;31mFileNotFoundError\u001b[0m: [Errno 2] No such file or directory: 'DATA/Pulvinar_rec_dark_80degs/phototagging_rotation_pitch_dark/animal21_a15d1s1_ephys/21a15d1s1_210326_163524\\\\times_polytrodeAll.mat'",
      "\nDuring handling of the above exception, another exception occurred:\n",
      "\u001b[1;31mFileNotFoundError\u001b[0m                         Traceback (most recent call last)",
      "Cell \u001b[1;32mIn[16], line 1\u001b[0m\n\u001b[1;32m----> 1\u001b[0m times_polytrodeAll \u001b[38;5;241m=\u001b[39m \u001b[43mscipy\u001b[49m\u001b[38;5;241;43m.\u001b[39;49m\u001b[43mio\u001b[49m\u001b[38;5;241;43m.\u001b[39;49m\u001b[43mloadmat\u001b[49m\u001b[43m(\u001b[49m\u001b[43mos\u001b[49m\u001b[38;5;241;43m.\u001b[39;49m\u001b[43mpath\u001b[49m\u001b[38;5;241;43m.\u001b[39;49m\u001b[43mjoin\u001b[49m\u001b[43m(\u001b[49m\u001b[43mraw_data_path\u001b[49m\u001b[43m,\u001b[49m\u001b[43m \u001b[49m\u001b[38;5;124;43m'\u001b[39;49m\u001b[38;5;124;43mtimes_polytrodeAll.mat\u001b[39;49m\u001b[38;5;124;43m'\u001b[39;49m\u001b[43m)\u001b[49m\u001b[43m)\u001b[49m\n\u001b[0;32m      2\u001b[0m m_class \u001b[38;5;241m=\u001b[39m times_polytrodeAll[\u001b[38;5;124m'\u001b[39m\u001b[38;5;124mmua_class\u001b[39m\u001b[38;5;124m'\u001b[39m]\n\u001b[0;32m      3\u001b[0m \u001b[38;5;124;03m'''\u001b[39;00m\n\u001b[0;32m      4\u001b[0m \u001b[38;5;124;03mm_class[:,0] : indice of the cluster for each index\u001b[39;00m\n\u001b[0;32m      5\u001b[0m \u001b[38;5;124;03mm_class[:,1] : time of the spike in ms\u001b[39;00m\n\u001b[0;32m      6\u001b[0m \u001b[38;5;124;03mm_class[:,1]/1000 : time of the spike in s\u001b[39;00m\n\u001b[0;32m      7\u001b[0m \u001b[38;5;124;03m'''\u001b[39;00m\n",
      "File \u001b[1;32m~\\AppData\\Local\\Packages\\PythonSoftwareFoundation.Python.3.12_qbz5n2kfra8p0\\LocalCache\\local-packages\\Python312\\site-packages\\scipy\\io\\matlab\\_mio.py:225\u001b[0m, in \u001b[0;36mloadmat\u001b[1;34m(file_name, mdict, appendmat, **kwargs)\u001b[0m\n\u001b[0;32m     88\u001b[0m \u001b[38;5;250m\u001b[39m\u001b[38;5;124;03m\"\"\"\u001b[39;00m\n\u001b[0;32m     89\u001b[0m \u001b[38;5;124;03mLoad MATLAB file.\u001b[39;00m\n\u001b[0;32m     90\u001b[0m \n\u001b[1;32m   (...)\u001b[0m\n\u001b[0;32m    222\u001b[0m \u001b[38;5;124;03m    3.14159265+3.14159265j])\u001b[39;00m\n\u001b[0;32m    223\u001b[0m \u001b[38;5;124;03m\"\"\"\u001b[39;00m\n\u001b[0;32m    224\u001b[0m variable_names \u001b[38;5;241m=\u001b[39m kwargs\u001b[38;5;241m.\u001b[39mpop(\u001b[38;5;124m'\u001b[39m\u001b[38;5;124mvariable_names\u001b[39m\u001b[38;5;124m'\u001b[39m, \u001b[38;5;28;01mNone\u001b[39;00m)\n\u001b[1;32m--> 225\u001b[0m \u001b[43m\u001b[49m\u001b[38;5;28;43;01mwith\u001b[39;49;00m\u001b[43m \u001b[49m\u001b[43m_open_file_context\u001b[49m\u001b[43m(\u001b[49m\u001b[43mfile_name\u001b[49m\u001b[43m,\u001b[49m\u001b[43m \u001b[49m\u001b[43mappendmat\u001b[49m\u001b[43m)\u001b[49m\u001b[43m \u001b[49m\u001b[38;5;28;43;01mas\u001b[39;49;00m\u001b[43m \u001b[49m\u001b[43mf\u001b[49m\u001b[43m:\u001b[49m\n\u001b[0;32m    226\u001b[0m \u001b[43m    \u001b[49m\u001b[43mMR\u001b[49m\u001b[43m,\u001b[49m\u001b[43m \u001b[49m\u001b[43m_\u001b[49m\u001b[43m \u001b[49m\u001b[38;5;241;43m=\u001b[39;49m\u001b[43m \u001b[49m\u001b[43mmat_reader_factory\u001b[49m\u001b[43m(\u001b[49m\u001b[43mf\u001b[49m\u001b[43m,\u001b[49m\u001b[43m \u001b[49m\u001b[38;5;241;43m*\u001b[39;49m\u001b[38;5;241;43m*\u001b[39;49m\u001b[43mkwargs\u001b[49m\u001b[43m)\u001b[49m\n\u001b[0;32m    227\u001b[0m \u001b[43m    \u001b[49m\u001b[43mmatfile_dict\u001b[49m\u001b[43m \u001b[49m\u001b[38;5;241;43m=\u001b[39;49m\u001b[43m \u001b[49m\u001b[43mMR\u001b[49m\u001b[38;5;241;43m.\u001b[39;49m\u001b[43mget_variables\u001b[49m\u001b[43m(\u001b[49m\u001b[43mvariable_names\u001b[49m\u001b[43m)\u001b[49m\n",
      "File \u001b[1;32mC:\\Program Files\\WindowsApps\\PythonSoftwareFoundation.Python.3.12_3.12.1008.0_x64__qbz5n2kfra8p0\\Lib\\contextlib.py:137\u001b[0m, in \u001b[0;36m_GeneratorContextManager.__enter__\u001b[1;34m(self)\u001b[0m\n\u001b[0;32m    135\u001b[0m \u001b[38;5;28;01mdel\u001b[39;00m \u001b[38;5;28mself\u001b[39m\u001b[38;5;241m.\u001b[39margs, \u001b[38;5;28mself\u001b[39m\u001b[38;5;241m.\u001b[39mkwds, \u001b[38;5;28mself\u001b[39m\u001b[38;5;241m.\u001b[39mfunc\n\u001b[0;32m    136\u001b[0m \u001b[38;5;28;01mtry\u001b[39;00m:\n\u001b[1;32m--> 137\u001b[0m     \u001b[38;5;28;01mreturn\u001b[39;00m \u001b[38;5;28;43mnext\u001b[39;49m\u001b[43m(\u001b[49m\u001b[38;5;28;43mself\u001b[39;49m\u001b[38;5;241;43m.\u001b[39;49m\u001b[43mgen\u001b[49m\u001b[43m)\u001b[49m\n\u001b[0;32m    138\u001b[0m \u001b[38;5;28;01mexcept\u001b[39;00m \u001b[38;5;167;01mStopIteration\u001b[39;00m:\n\u001b[0;32m    139\u001b[0m     \u001b[38;5;28;01mraise\u001b[39;00m \u001b[38;5;167;01mRuntimeError\u001b[39;00m(\u001b[38;5;124m\"\u001b[39m\u001b[38;5;124mgenerator didn\u001b[39m\u001b[38;5;124m'\u001b[39m\u001b[38;5;124mt yield\u001b[39m\u001b[38;5;124m\"\u001b[39m) \u001b[38;5;28;01mfrom\u001b[39;00m \u001b[38;5;28;01mNone\u001b[39;00m\n",
      "File \u001b[1;32m~\\AppData\\Local\\Packages\\PythonSoftwareFoundation.Python.3.12_qbz5n2kfra8p0\\LocalCache\\local-packages\\Python312\\site-packages\\scipy\\io\\matlab\\_mio.py:17\u001b[0m, in \u001b[0;36m_open_file_context\u001b[1;34m(file_like, appendmat, mode)\u001b[0m\n\u001b[0;32m     15\u001b[0m \u001b[38;5;129m@contextmanager\u001b[39m\n\u001b[0;32m     16\u001b[0m \u001b[38;5;28;01mdef\u001b[39;00m \u001b[38;5;21m_open_file_context\u001b[39m(file_like, appendmat, mode\u001b[38;5;241m=\u001b[39m\u001b[38;5;124m'\u001b[39m\u001b[38;5;124mrb\u001b[39m\u001b[38;5;124m'\u001b[39m):\n\u001b[1;32m---> 17\u001b[0m     f, opened \u001b[38;5;241m=\u001b[39m \u001b[43m_open_file\u001b[49m\u001b[43m(\u001b[49m\u001b[43mfile_like\u001b[49m\u001b[43m,\u001b[49m\u001b[43m \u001b[49m\u001b[43mappendmat\u001b[49m\u001b[43m,\u001b[49m\u001b[43m \u001b[49m\u001b[43mmode\u001b[49m\u001b[43m)\u001b[49m\n\u001b[0;32m     18\u001b[0m     \u001b[38;5;28;01mtry\u001b[39;00m:\n\u001b[0;32m     19\u001b[0m         \u001b[38;5;28;01myield\u001b[39;00m f\n",
      "File \u001b[1;32m~\\AppData\\Local\\Packages\\PythonSoftwareFoundation.Python.3.12_qbz5n2kfra8p0\\LocalCache\\local-packages\\Python312\\site-packages\\scipy\\io\\matlab\\_mio.py:45\u001b[0m, in \u001b[0;36m_open_file\u001b[1;34m(file_like, appendmat, mode)\u001b[0m\n\u001b[0;32m     43\u001b[0m     \u001b[38;5;28;01mif\u001b[39;00m appendmat \u001b[38;5;129;01mand\u001b[39;00m \u001b[38;5;129;01mnot\u001b[39;00m file_like\u001b[38;5;241m.\u001b[39mendswith(\u001b[38;5;124m'\u001b[39m\u001b[38;5;124m.mat\u001b[39m\u001b[38;5;124m'\u001b[39m):\n\u001b[0;32m     44\u001b[0m         file_like \u001b[38;5;241m+\u001b[39m\u001b[38;5;241m=\u001b[39m \u001b[38;5;124m'\u001b[39m\u001b[38;5;124m.mat\u001b[39m\u001b[38;5;124m'\u001b[39m\n\u001b[1;32m---> 45\u001b[0m     \u001b[38;5;28;01mreturn\u001b[39;00m \u001b[38;5;28;43mopen\u001b[39;49m\u001b[43m(\u001b[49m\u001b[43mfile_like\u001b[49m\u001b[43m,\u001b[49m\u001b[43m \u001b[49m\u001b[43mmode\u001b[49m\u001b[43m)\u001b[49m, \u001b[38;5;28;01mTrue\u001b[39;00m\n\u001b[0;32m     46\u001b[0m \u001b[38;5;28;01melse\u001b[39;00m:\n\u001b[0;32m     47\u001b[0m     \u001b[38;5;28;01mraise\u001b[39;00m \u001b[38;5;167;01mOSError\u001b[39;00m(\n\u001b[0;32m     48\u001b[0m         \u001b[38;5;124m'\u001b[39m\u001b[38;5;124mReader needs file name or open file-like object\u001b[39m\u001b[38;5;124m'\u001b[39m\n\u001b[0;32m     49\u001b[0m     ) \u001b[38;5;28;01mfrom\u001b[39;00m \u001b[38;5;21;01me\u001b[39;00m\n",
      "\u001b[1;31mFileNotFoundError\u001b[0m: [Errno 2] No such file or directory: 'DATA/Pulvinar_rec_dark_80degs/phototagging_rotation_pitch_dark/animal21_a15d1s1_ephys/21a15d1s1_210326_163524\\\\times_polytrodeAll.mat'"
     ]
    }
   ],
   "source": [
    "times_polytrodeAll = scipy.io.loadmat(os.path.join(raw_data_path, 'times_polytrodeAll.mat'))\n",
    "m_class = times_polytrodeAll['mua_class']\n",
    "'''\n",
    "m_class[:,0] : indice of the cluster for each index\n",
    "m_class[:,1] : time of the spike in ms\n",
    "m_class[:,1]/1000 : time of the spike in s\n",
    "'''\n",
    "\n",
    "muaWf = times_polytrodeAll['clusWFmua']"
   ]
  },
  {
   "cell_type": "code",
   "execution_count": null,
   "metadata": {},
   "outputs": [],
   "source": [
    "fig = go.Figure()\n",
    "\n",
    "for unit in range(len(muaWf)):\n",
    "    x = np.arange(0 + 70 * unit, 54 + 70 * unit)\n",
    "    for i in range(muaWf[unit].shape[1]):\n",
    "        y = muaWf[unit][:, i]\n",
    "        fig.add_trace(go.Scatter(x=x, y=y, mode='lines', name=f'Unit {unit}'))\n",
    "        if unit == 0 and i == 0:\n",
    "            fig.update_layout(title=exp_id)\n",
    "\n",
    "fig.write_html(os.path.join(saving_folder, 'spike_waveform.html'))"
   ]
  },
  {
   "cell_type": "markdown",
   "metadata": {},
   "source": [
    "### For SUA"
   ]
  },
  {
   "cell_type": "code",
   "execution_count": null,
   "metadata": {},
   "outputs": [],
   "source": [
    "c_class = times_polytrodeAll['cluster_class']  # units and associated time spiking\n",
    "\n",
    "temp_idx = c_class[:,0]    # units\n",
    "\n",
    "# find the units and remove the MUA\n",
    "units = temp_idx!=0\n",
    "temp_clus = c_class[units,0]\n",
    "\n",
    "Nclust = len(np.unique(temp_clus))\n",
    "\n",
    "# if not studied_unit:\n",
    "#     studied_unit = list(range(1,Nclust+1))\n",
    "\n",
    "temp_time = c_class[units,1]/1000  # temps de spike en seconde\n",
    "\n",
    "temp_time_clust = []\n",
    "\n",
    "for unit in range(Nclust):\n",
    "    temps_spikes_sec = c_class[np.where(c_class[:,0]==unit+1)][:,1] / 1000\n",
    "    temp_time_clust.append(temps_spikes_sec)"
   ]
  },
  {
   "cell_type": "markdown",
   "metadata": {},
   "source": [
    "### General"
   ]
  },
  {
   "cell_type": "code",
   "execution_count": null,
   "metadata": {},
   "outputs": [],
   "source": [
    "clusterParam = h5py.File(os.path.join(raw_data_path,'rez.mat'),'r')['rez']\n",
    "infos = clusterParam['ops']\n",
    "f = int(infos['fs'][0][0])\n",
    "\n",
    "\n",
    "table_velocity = np.squeeze(h5py.File(os.path.join(parent_folder, f\"{exp_id}_ADC00.mat\"), 'r')['data'])\n",
    "\n",
    "try:\n",
    "    stereotaxic = h5py.File(os.path.join(parent_folder, f\"VelocityData_{exp_id}.mat\"), 'r')\n",
    "except:\n",
    "    stereotaxic = scipy.io.loadmat(os.path.join(parent_folder, f\"VelocityData_{exp_id}.mat\"))\n",
    "ML_pos = np.squeeze(stereotaxic['All_ML'])[0]\n",
    "AP_pos = np.squeeze(stereotaxic['All_AP'])[0]"
   ]
  },
  {
   "cell_type": "code",
   "execution_count": null,
   "metadata": {},
   "outputs": [],
   "source": [
    "#Load all the digital Input on the workspace\n",
    "\n",
    "#DIN01 => photodiiode 1 is trig CAM\n",
    "#DIN02 => LED\n",
    "#DIN03 => trig ttl frame camera\n",
    "#DIN04 => photodiiode 2 is the VS and start turntable\n",
    "\n",
    "din = {\n",
    "    '01':[],\n",
    "    '02':[],\n",
    "    '03':[],\n",
    "    '04':[]\n",
    "}\n",
    "\n",
    "for dinkey in din.keys():\n",
    "    filename = exp_id + '_DIN'+ str(dinkey) + '.mat'\n",
    "    #with h5py.File(filename, 'r') as file:\n",
    "    #    din[str(dinkey)] = file['data'][:]\n",
    "    din[str(dinkey)] = np.squeeze(h5py.File(os.path.join(parent_folder, filename), 'r')['data'])\n",
    "\n",
    "\n",
    "if refValue == 'din01':\n",
    "    ref = din['01']\n",
    "elif refValue == 'din02':\n",
    "    ref = din['02']\n",
    "elif refValue == 'din03':\n",
    "    ref = din['03']\n",
    "elif refValue == 'din04':\n",
    "    ref = din['04']\n",
    "else:\n",
    "    print('Take a look to the indicated ref din')\n",
    "\n",
    "\n",
    "time = np.arange(len(din['01'])) / f"
   ]
  },
  {
   "cell_type": "markdown",
   "metadata": {},
   "source": [
    "## <span style=\"border: 2px solid #1c75c8; padding: 3px; background-color: #c5ddf6; color: black\"><strong>Trials beginning</strong></span>"
   ]
  },
  {
   "cell_type": "code",
   "execution_count": null,
   "metadata": {},
   "outputs": [],
   "source": [
    "def find_separation():\n",
    "    largest_interval = 0\n",
    "    foo, _ = scipy.signal.find_peaks(np.diff(ref))\n",
    "    for i in range(1, len(foo)):\n",
    "        interval = foo[i] - foo[i-1]\n",
    "        if interval > largest_interval:\n",
    "            largest_interval = interval\n",
    "            mean_index = int(((foo[i] + foo[i-1]) / 2)/f)*f\n",
    "    return mean_index\n",
    "\n",
    "limit = find_separation()"
   ]
  },
  {
   "cell_type": "code",
   "execution_count": null,
   "metadata": {},
   "outputs": [],
   "source": [
    "time = time[limit:]\n",
    "table_velocity = table_velocity[limit:]\n",
    "ref = ref[limit:]"
   ]
  },
  {
   "cell_type": "code",
   "execution_count": null,
   "metadata": {},
   "outputs": [],
   "source": [
    "peaks = find_peaks(ref, f)"
   ]
  },
  {
   "cell_type": "code",
   "execution_count": null,
   "metadata": {},
   "outputs": [],
   "source": [
    "Ntrial = len(peaks)\n",
    "\n",
    "print(\"Number of trials :\", Ntrial)"
   ]
  },
  {
   "cell_type": "markdown",
   "metadata": {},
   "source": [
    "# <span style=\"border: 2px solid #1c75c8; padding: 3px; background-color: #c5ddf6; color: black\"><strong>Rotation Objects</strong></span>"
   ]
  },
  {
   "cell_type": "code",
   "execution_count": null,
   "metadata": {},
   "outputs": [],
   "source": [
    "duration = []\n",
    "RotationWise = []\n",
    "MeanRotation = {'CW':[], 'CCW':[], 'NotResponding':[]}\n",
    "\n",
    "def center_reduce(data):\n",
    "    foo = savgol_filter(np.mean(data, axis=0), 50, 1)\n",
    "    return foo/max(abs(foo))*rotationSpeed if max(abs(foo))>rotationSpeed/2 else foo/max(abs(foo))\n",
    "\n",
    "def find_starting(data, direction):\n",
    "    if direction == 'CW':\n",
    "        seuil = np.mean(data[:2*f])+6*np.std(data[:baselineLenght*f])\n",
    "        shiftIndex = np.where(data > seuil)[0][0]\n",
    "    else:\n",
    "        seuil = np.mean(data[:2*f])-6*np.std(data[:baselineLenght*f])\n",
    "        shiftIndex = np.where(data < seuil)[0][0]\n",
    "    return shiftIndex\n",
    "\n",
    "\n",
    "rotationfooCW, rotationfooCCW, rotationfooNone = ([] for _ in range(3))\n",
    "\n",
    "for peak in peaks:\n",
    "    extra = 3\n",
    "    baselineLenght = 3\n",
    "    timeBefExtra = timeBef + extra ; timeAftExtra = timeAft + extra\n",
    "\n",
    "    table_turn_trial = table_velocity[peak - timeBefExtra*f: peak + timeAftExtra*f]\n",
    "    baseline = np.mean(table_turn_trial[:baselineLenght*f])\n",
    "    table_turn_trial = table_turn_trial - baseline\n",
    "    std = np.std(table_turn_trial[:baselineLenght*f]) ; baseline = np.mean(table_turn_trial[:baselineLenght*f])\n",
    "\n",
    "    if np.mean(table_turn_trial[timeBefExtra*f:(timeBefExtra+4)*f])>baseline+4*std:\n",
    "        RotationWise.append('CW') \n",
    "        rotationfooCW.append(table_turn_trial)\n",
    "    elif np.mean(table_turn_trial[timeBefExtra*f:(timeBefExtra+4)*f])<-baseline-4*std:\n",
    "        RotationWise.append('CCW')\n",
    "        rotationfooCCW.append(table_turn_trial)\n",
    "    else:\n",
    "        RotationWise.append('NotResponding')\n",
    "        rotationfooNone.append(table_turn_trial)\n",
    "\n",
    "MeanRotation['CW'], MeanRotation['CCW'], MeanRotation['NotResponding'] = center_reduce(rotationfooCW), center_reduce(rotationfooCCW), center_reduce(rotationfooNone)\n",
    "\n",
    "startCW = find_starting(MeanRotation['CW'], 'CW')\n",
    "startCCW = find_starting(MeanRotation['CCW'], 'CCW')\n",
    "start = int(np.mean([startCW, startCCW]))\n",
    "shiftIndex = start - timeBef*f - extra*f\n",
    "duration = np.arange(-timeBef, timeAft, 1/f)\n",
    "    \n",
    "\n",
    "for direction in ['CW', 'CCW', 'NotResponding']:\n",
    "    MeanRotation[direction] = MeanRotation[direction][extra*f+shiftIndex:-extra*f+shiftIndex]"
   ]
  },
  {
   "cell_type": "markdown",
   "metadata": {},
   "source": [
    "## <span style=\"border: 2px solid #1c75c8; padding: 3px; background-color: #c5ddf6; color: black\"><strong>Shift between 0 and rotation</strong></span>"
   ]
  },
  {
   "cell_type": "code",
   "execution_count": null,
   "metadata": {},
   "outputs": [],
   "source": [
    "# print(f\"{shiftIndex}, {time[shiftIndex]}\")"
   ]
  },
  {
   "cell_type": "markdown",
   "metadata": {},
   "source": [
    "## <span style=\"border: 2px solid #1c75c8; padding: 3px; background-color: #c5ddf6; color: black\"><strong>Plots Mean Rotations</strong></span>"
   ]
  },
  {
   "cell_type": "code",
   "execution_count": null,
   "metadata": {},
   "outputs": [],
   "source": [
    "plots(\n",
    "    \"plotVelocity(MeanRotation, 'CW', duration, rotationSpeed, color='orange', xlabel=False, ylabel=False, Plots=True)\",\n",
    "    \"plotVelocity(MeanRotation, 'CCW', duration, rotationSpeed, color='purple', xlabel=False, ylabel=False, Plots=True)\",\n",
    "    \"plotVelocity(MeanRotation, 'NotResponding', duration, rotationSpeed, color='yellow', xlabel=False, ylabel=False, Plots=True)\",\n",
    "    supxlabel='Time (s)',\n",
    "    supylabel='Mean Velocity (°/s)',\n",
    "    ncols=1\n",
    ")"
   ]
  },
  {
   "cell_type": "markdown",
   "metadata": {},
   "source": [
    "# <span style=\"border: 2px solid #1c75c8; padding: 3px; background-color: #c5ddf6; color: black\"><strong>MUA Analysis</strong></span>"
   ]
  },
  {
   "cell_type": "markdown",
   "metadata": {},
   "source": [
    "## <span style=\"border: 2px solid #1c75c8; padding: 3px; background-color: #c5ddf6; color: black\"><strong>Depths determination</strong></span>"
   ]
  },
  {
   "cell_type": "code",
   "execution_count": null,
   "metadata": {},
   "outputs": [],
   "source": [
    "# get the number of units\n",
    "Nclust_mua = len(np.unique(m_class[:,0]))\n",
    "ind_mua = m_class[:,0]\n",
    "\n",
    "\n",
    "# find the peak wf to find the depth\n",
    "szm = muaWf.shape\n",
    "# DEPTH of the unit\n",
    "# Get the mua activity that is in index 0 of the clusWF\n",
    "\n",
    "allBasem = np.zeros((szm[1],szm[2]))\n",
    "PkDepthUnit = np.zeros((szm[0], 1))\n",
    "minMatrixm = np.zeros((szm[0], 1))\n",
    "\n",
    "for spm in range(szm[0]):\n",
    "    baselinem = np.mean(muaWf[spm][0:5],axis=0)-500 # offset -500 for potential positive baseline\n",
    "\n",
    "    for bm in range(szm[2]):\n",
    "        allBasem[:,bm] = baselinem[bm]*np.ones((szm[1]))\n",
    "\n",
    "    spikeWavm = muaWf[spm,:,:]-500\n",
    "    wfm = spikeWavm - allBasem\n",
    "\n",
    "    minMatrixm[spm] = np.min(wfm)\n",
    "\n",
    "    argMm = np.where(wfm==minMatrixm[spm])\n",
    "    # get the depth of the unit\n",
    "    uout = np.unique(argMm[1])\n",
    "    argMm = []\n",
    "    argMm = uout[0]\n",
    "    PkDepthUnit[spm] = (argMm+1)*chanSpace # +1 because of Python indexation"
   ]
  },
  {
   "cell_type": "code",
   "execution_count": null,
   "metadata": {},
   "outputs": [],
   "source": [
    "x = 0 # depth of the tetrode\n",
    "\n",
    "mapp = np.squeeze(infos['chanMap'])\n",
    "\n",
    "if ProbeType == 'A32Edge_1Shank':\n",
    "    Ntet = 16\n",
    "elif ProbeType == 'A64_1Shank':\n",
    "    Ntet = 32\n",
    "else:\n",
    "    messagebox.showinfo(\"Information\", \"You have no indication about the used probe. Please check the census file.\")\n",
    "\n",
    "ArgallLayers = {i: [] for i in range(Ntet)}\n",
    "\n",
    "factorTet = chanSpace * len(mapp)/Ntet\n",
    "\n",
    "for lay in range(Ntet):\n",
    "    # H5 electrode\n",
    "    if np.sum(mapp[0:4]==[33, 38, 44, 40])==4:\n",
    "        ArgallLayers[lay] = np.where((PkDepthUnit <= x+factorTet) & (PkDepthUnit > x))[0]\n",
    "    else:\n",
    "        ArgallLayers[lay] = np.where((PkDepthUnit <= x+factorTet) & (PkDepthUnit > x))[0]\n",
    "    x += factorTet"
   ]
  },
  {
   "cell_type": "markdown",
   "metadata": {},
   "source": [
    "## <span style=\"border: 2px solid #1c75c8; padding: 3px; background-color: #c5ddf6; color: black\"><strong>Associating tetrodes with depth</strong></span>"
   ]
  },
  {
   "cell_type": "code",
   "execution_count": null,
   "metadata": {},
   "outputs": [],
   "source": [
    "m_class_tet = np.zeros((len(m_class),2))\n",
    "\n",
    "\n",
    "# First column\n",
    "for tet in ArgallLayers:\n",
    "    for unit in ArgallLayers[tet]:\n",
    "        pos = np.where(m_class[:,0]-1 == unit)[0]\n",
    "        m_class_tet[pos,0] = tet\n",
    "        \n",
    "# Second column \n",
    "m_class_tet[:,1] = m_class[:,1]"
   ]
  },
  {
   "cell_type": "markdown",
   "metadata": {},
   "source": [
    "## <span style=\"border: 2px solid #1c75c8; padding: 3px; background-color: #c5ddf6; color: black\"><strong>Spiking times of tetrodes</strong></span>"
   ]
  },
  {
   "cell_type": "code",
   "execution_count": null,
   "metadata": {},
   "outputs": [],
   "source": [
    "AllSpikeTimesMUA = np.empty((Ntet,Ntrial),dtype=object)\n",
    "\n",
    "\n",
    "for tet in range(Ntet):\n",
    "    spikingTimeTet = m_class_tet[np.where(m_class_tet[:,0] == tet)[0],1]/1000\n",
    "\n",
    "    for trial in range(Ntrial):\n",
    "        upperTime = (peaks[trial]+shiftIndex)/f + timeAft + limit/f\n",
    "        lowerTime = (peaks[trial]+shiftIndex)/f - timeBef + limit/f\n",
    "        rectifierTime = - lowerTime - timeBef\n",
    "        \n",
    "        boolean = (spikingTimeTet > lowerTime) & (spikingTimeTet < upperTime)\n",
    "        AllSpikeTimesMUA[tet][trial] = spikingTimeTet[boolean] + rectifierTime"
   ]
  },
  {
   "cell_type": "code",
   "execution_count": null,
   "metadata": {},
   "outputs": [],
   "source": [
    "SpikeTimesMUA = {\n",
    "    'CW': [[] for _ in range(Ntet)],\n",
    "    'CCW': [[] for _ in range(Ntet)],\n",
    "    'NotResponding': [[] for _ in range(Ntet)]\n",
    "}\n",
    "\n",
    "\n",
    "for tet in range(len(AllSpikeTimesMUA)):\n",
    "    for trial in range(Ntrial):\n",
    "        if RotationWise[trial] == 'CW':\n",
    "            direction = 'CW'\n",
    "        elif RotationWise[trial] == 'CCW':\n",
    "            direction = 'CCW'\n",
    "        else:\n",
    "            direction = 'NotResponding'\n",
    "        \n",
    "        SpikeTimesMUA[direction][tet].append([AllSpikeTimesMUA[tet][trial]])\n",
    "\n",
    "        \n",
    "for condition in SpikeTimesMUA:\n",
    "    for tet in range(len(SpikeTimesMUA[condition])):\n",
    "        SpikeTimesMUA[condition][tet] = np.array([SpikeTimesMUA[condition][tet][trial][0] for trial in range(len(SpikeTimesMUA[condition][tet]))], dtype=object)"
   ]
  },
  {
   "cell_type": "markdown",
   "metadata": {},
   "source": [
    "## <span style=\"border: 2px solid #1c75c8; padding: 3px; background-color: #c5ddf6; color: black\"><strong>Automatic detection of 0</strong></span>"
   ]
  },
  {
   "cell_type": "code",
   "execution_count": null,
   "metadata": {},
   "outputs": [],
   "source": [
    "if any([data.size==0 for data in SpikeTimesMUA['CW']]):\n",
    "    for tet in range(Ntet):\n",
    "        if (SpikeTimesMUA['CW'][tet].size == 0) and (SpikeTimesMUA['CW'][tet+1].size != 0):\n",
    "            LP_ref = tet+1\n",
    "            break\n",
    "else:\n",
    "    LP_ref = 0\n",
    "\n",
    "if any([data.size==0 for data in SpikeTimesMUA['CW']]):\n",
    "    for tet in range(Ntet):\n",
    "        if (SpikeTimesMUA['CCW'][tet].size == 0) and (SpikeTimesMUA['CCW'][tet+1].size != 0):\n",
    "            if LP_ref != tet+1:\n",
    "                raise Exception(\"Do detection manually bro.\")\n",
    "            break\n",
    "\n",
    "print(f\"Automatic detection of the LP is the tetrode #{LP_ref} (Python indexation)\")"
   ]
  },
  {
   "cell_type": "code",
   "execution_count": null,
   "metadata": {},
   "outputs": [],
   "source": [
    "DepthTetrode = np.zeros(Ntet)\n",
    "AllDepth = np.zeros(Nclust)\n",
    "\n",
    "for tet in range(Ntet):\n",
    "    DepthTetrode[tet] = (tet-LP_ref)*factorTet\n",
    "\n",
    "for unit in range(Nclust):\n",
    "    AllDepth[unit] = PkDepthUnit[unit][0] - LP_ref*factorTet"
   ]
  },
  {
   "cell_type": "markdown",
   "metadata": {},
   "source": [
    "## <span style=\"border: 2px solid #1c75c8; padding: 3px; background-color: #c5ddf6; color: black\"><strong>Saving Figures</strong></span>"
   ]
  },
  {
   "cell_type": "code",
   "execution_count": null,
   "metadata": {},
   "outputs": [],
   "source": [
    "MUA_saving_folder = os.path.join(saving_folder, 'MUA')\n",
    "os.makedirs(MUA_saving_folder, exist_ok=True)\n",
    "\n",
    "apercu = []\n",
    "\n",
    "for tet in tqdm(range(Ntet), total=Ntet, desc=f\"Raster plots for MUA\", leave=False):\n",
    "        plots(\n",
    "                \"plotRaster(SpikeTimesMUA, 'CW', tet, color='c', xlabel=False, plotvelocity=True, velocitycolor='red', velocityalpha=0.1, Plots=True, psth=True, psthcolor='blue', shadedcolor='blue', smooth=False, title='CW')\",\n",
    "                \"plotRaster(SpikeTimesMUA, 'CCW', tet, color='c', xlabel=False, plotvelocity=True, velocitycolor='red', velocityalpha=0.1, Plots=True, ylabel=False, psth=True, psthcolor='blue', shadedcolor='blue', smooth=False, title='CCW')\",\n",
    "                suptitle=f\"MUA Rotation tetrode#{tet} {exp_id}\\n(Automatic detection of 0 for tet#{LP_ref})\",\n",
    "                save = Saving_boolean,\n",
    "                filename = os.path.join(MUA_saving_folder,f\"MUA_rotation_{exp_id}_tet#{tet}.png\"),\n",
    "                ncols=2,\n",
    "                size=(15,5),\n",
    "                show=False\n",
    "        )\n",
    "        apercu.append(os.path.join(MUA_saving_folder,f\"MUA_rotation_{exp_id}_tet#{tet}.png\"))\n",
    "\n",
    "plt.figure()\n",
    "\n",
    "ncolonne = 5\n",
    "nligne = len(apercu)//ncolonne + 1\n",
    "\n",
    "if Saving_boolean:\n",
    "        for i in range(ncolonne*nligne):\n",
    "                if i < len(apercu):\n",
    "                        img = plt.imread(apercu[i])\n",
    "                        plt.subplot(nligne, ncolonne, i+1)\n",
    "                        plt.imshow(img)\n",
    "                        plt.axis('off')\n",
    "                else:\n",
    "                        plt.subplot(nligne, ncolonne, i+1)\n",
    "                        plt.axis('off')\n",
    "\n",
    "plt.show()"
   ]
  },
  {
   "cell_type": "markdown",
   "metadata": {},
   "source": [
    "# <span style=\"border: 2px solid #1c75c8; padding: 3px; background-color: #c5ddf6; color: black\"><strong>SUA Analysis</strong></span>"
   ]
  },
  {
   "cell_type": "markdown",
   "metadata": {},
   "source": [
    "## <span style=\"border: 2px solid #1c75c8; padding: 3px; background-color: #c5ddf6; color: black\"><strong>All Spiking Times</strong></span>"
   ]
  },
  {
   "cell_type": "code",
   "execution_count": null,
   "metadata": {},
   "outputs": [],
   "source": [
    "## Spike times organized by cluster\n",
    "AllSpikeTimes = np.empty((Nclust, Ntrial), dtype=object)\n",
    "\n",
    "\n",
    "for unit in range(Nclust):\n",
    "    spikingTimeClus = temp_time_clust[unit]\n",
    "\n",
    "    for trial in range(Ntrial):\n",
    "        upperTime = (peaks[trial]+shiftIndex)/f + timeAft + limit/f\n",
    "        lowerTime = (peaks[trial]+shiftIndex)/f - timeBef + limit/f\n",
    "        rectifierTime = - lowerTime - timeBef\n",
    "\n",
    "        bornes = np.logical_and(lowerTime < spikingTimeClus, spikingTimeClus < upperTime)\n",
    "\n",
    "        AllSpikeTimes[unit][trial] = spikingTimeClus[bornes] + rectifierTime"
   ]
  },
  {
   "cell_type": "markdown",
   "metadata": {},
   "source": [
    "## <span style=\"border: 2px solid #1c75c8; padding: 3px; background-color: #c5ddf6; color: black\"><strong>Spiking times according to condition</strong></span>"
   ]
  },
  {
   "cell_type": "code",
   "execution_count": null,
   "metadata": {},
   "outputs": [],
   "source": [
    "SpikeTimes = {\n",
    "    'CW': [[] for _ in range(Nclust)],\n",
    "    'CCW': [[] for _ in range(Nclust)],\n",
    "    'NotResponding': [[] for _ in range(Nclust)]\n",
    "}\n",
    "\n",
    "\n",
    "for neuron in range(len(AllSpikeTimes)):\n",
    "    for trial in range(Ntrial):\n",
    "        if RotationWise[trial] == 'CW':\n",
    "            condition = 'CW'\n",
    "        elif RotationWise[trial] == 'CCW':\n",
    "            condition = 'CCW'\n",
    "        else:\n",
    "            condition = 'NotResponding'\n",
    "        \n",
    "        SpikeTimes[condition][neuron].append([AllSpikeTimes[neuron][trial]])\n",
    "\n",
    "\n",
    "for condition in SpikeTimes:\n",
    "    for unit in range(len(SpikeTimes[condition])):\n",
    "        SpikeTimes[condition][unit] = np.array([SpikeTimes[condition][unit][trial][0] for trial in range(len(SpikeTimes[condition][unit]))], dtype=object)"
   ]
  },
  {
   "cell_type": "markdown",
   "metadata": {},
   "source": [
    "## <span style=\"border: 2px solid #1c75c8; padding: 3px; background-color: #c5ddf6; color: black\"><strong>Raster plots</strong></span>"
   ]
  },
  {
   "cell_type": "code",
   "execution_count": null,
   "metadata": {},
   "outputs": [],
   "source": [
    "Raster_saving_folder = os.path.join(saving_folder, 'Raster')\n",
    "os.makedirs(Raster_saving_folder, exist_ok=True)\n",
    "\n",
    "\n",
    "for condition in ['CW', 'CCW', 'NotResponding']:\n",
    "    number = len(SpikeTimes[condition])\n",
    "    element = f\"Rotation {condition}\"\n",
    "    plots(\n",
    "        *[f\"plotRaster(SpikeTimes, '{condition}', {unit}, Plots=True, xlabel=False, ylabel=False, title='{unit}', color='blue', psth=True, psthcolor='red', shadedcolor='red')\" for unit in range(number)],\n",
    "        suptitle=f\"{element} {exp_id}\",\n",
    "        save=Saving_boolean,\n",
    "        filename=os.path.join(Raster_saving_folder, f\"Raster_{exp_id}_{condition}.png\"),\n",
    "        size=(15,10),\n",
    "        show=True\n",
    "    )"
   ]
  },
  {
   "cell_type": "code",
   "execution_count": null,
   "metadata": {},
   "outputs": [],
   "source": [
    "All_raster_saving_folder = os.path.join(saving_folder, 'Raster', 'All')\n",
    "for direction in ['CW', 'CCW', 'NotResponding']:\n",
    "    os.makedirs(os.path.join(All_raster_saving_folder, direction), exist_ok=True)\n",
    "\n",
    "for condition in ['CW', 'CCW', 'NotResponding']:\n",
    "    element = f\"Rotation {condition}\"\n",
    "    for unit in tqdm(range(len(SpikeTimes[condition])), total=len(SpikeTimes[condition]), desc=f\"Raster plots for {condition} rotation\", leave=False):\n",
    "        plotRaster(SpikeTimes, condition, unit,\n",
    "                   title=f\"Unit {unit} - {condition} rotation - {exp_id}\",\n",
    "                   color='blue',\n",
    "                   psth=True, psthcolor='red', shadedcolor='red',\n",
    "                   save=Saving_boolean,\n",
    "                   filename=os.path.join(All_raster_saving_folder, condition, f\"Raster_{exp_id}_{condition}_unit{unit}.png\"),\n",
    "                   show=False)"
   ]
  },
  {
   "cell_type": "markdown",
   "metadata": {},
   "source": [
    "## <span style=\"border: 2px solid #1c75c8; padding: 3px; background-color: #c5ddf6; color: black\"><strong>PSTH Heatmap</strong></span>"
   ]
  },
  {
   "cell_type": "code",
   "execution_count": null,
   "metadata": {},
   "outputs": [],
   "source": [
    "# Zmaxiscore = [[] for _ in range(len(SpikeTimes['first']['CW']))]\n",
    "\n",
    "# for unit in range(len(SpikeTimes['first']['CW'])):\n",
    "#     StudiedSpikeTimes = SpikeTimes['first']['CW'][unit]\n",
    "\n",
    "#     color='k'\n",
    "#     shadedcolor='k'\n",
    "#     ylabel=True\n",
    "#     xlabel=True\n",
    "\n",
    "#     local_trial_number = len(StudiedSpikeTimes)\n",
    "\n",
    "#     binResolution=0.03\n",
    "\n",
    "#     spike_number_per_trial = [[] for _ in range(local_trial_number)]\n",
    "#     edges = []\n",
    "#     unitary_firing_rate = [[] for _ in range(local_trial_number)]\n",
    "\n",
    "#     for trial in range(local_trial_number):\n",
    "#         spike_number_per_trial[trial], edges = np.histogram(StudiedSpikeTimes[trial], bins=np.arange(-timeBef, timeAft + binResolution, binResolution))\n",
    "\n",
    "#     frequency_per_trial = [[spike_number_per_trial[trial][bin]/binResolution for bin in range(len(edges)-1)] for trial in range(local_trial_number)]\n",
    "#     mean_frequency = [np.mean([frequency_per_trial[trial][bin] for trial in range(local_trial_number)]) for bin in range(len(edges)-1)]\n",
    "\n",
    "#     Zscore = (mean_frequency - np.mean(mean_frequency)) / np.std(mean_frequency)\n",
    "#     Zunitary = (frequency_per_trial - np.mean(mean_frequency)) / np.std(mean_frequency)\n",
    "#     SEM = np.std(Zunitary)/np.sqrt(len(Zunitary))\n",
    "\n",
    "#     # # plt.figure(figsize=(15,6))\n",
    "#     # plt.plot(edges[:-1], Zscore, color=color)\n",
    "#     # plt.fill_between(edges[:-1], Zscore-SEM, Zscore+SEM, alpha=0.1, color=shadedcolor)\n",
    "#     # plt.xlim(-timeBef,timeAft)\n",
    "#     # if ylabel:\n",
    "#     #     plt.ylabel('PSTH')\n",
    "#     # if xlabel:\n",
    "#     #     plt.xlabel('Time (s)')\n",
    "#     # plt.show()\n",
    "\n",
    "#     Zmaxiscore[unit] = Zscore\n",
    "\n",
    "\n",
    "\n",
    "# # del Zmaxiscore[22]\n",
    "\n",
    "\n",
    "# # # Créer des données aléatoires pour le heatmap (une matrice 10x10)\n",
    "# # data = np.random.rand(10, 100)\n",
    "\n",
    "# # Afficher le heatmap\n",
    "# plt.figure(figsize=(15, 5))\n",
    "# plt.imshow(Zmaxiscore, cmap='coolwarm', interpolation='nearest', vmin=-2,vmax=2)\n",
    "# plt.colorbar()  # Ajouter une barre de couleur pour référence\n",
    "# # plt.xticks(duration)\n",
    "# plt.show()"
   ]
  },
  {
   "cell_type": "markdown",
   "metadata": {},
   "source": [
    "## <span style=\"border: 2px solid #1c75c8; padding: 3px; background-color: #c5ddf6; color: black\"><strong>Statistics</strong></span>"
   ]
  },
  {
   "cell_type": "markdown",
   "metadata": {},
   "source": [
    "### <span style=\"border: 2px solid #1c75c8; padding: 3px; background-color: #c5ddf6; color: black\"><strong>Spike counting</strong></span>"
   ]
  },
  {
   "cell_type": "code",
   "execution_count": null,
   "metadata": {},
   "outputs": [],
   "source": [
    "numberBef, numberDur, diffBefDur, sumBefDur = ({\n",
    "    'CW': [[] for _ in range(Nclust)],\n",
    "    'CCW': [[] for _ in range(Nclust)]\n",
    "} for _ in range(4))\n",
    "\n",
    "vMI = {\n",
    "    'CW': [[] for _ in range(Nclust)],\n",
    "    'CCW': [[] for _ in range(Nclust)]\n",
    "}\n",
    "\n",
    "dirMI, good_baseline = ([[] for _ in range(Nclust)] for _ in range(2))\n",
    "\n",
    "foo = np.where(MeanRotation['CW'] > rotationSpeed/2)[0]\n",
    "windowDur = [foo[0], foo[-1]]\n",
    "windowBef = [1*f, 1*f+len(foo)]\n",
    "\n",
    "for condition in ['CW', 'CCW']:\n",
    "    for unit in range(Nclust):\n",
    "        for trial in range(len(SpikeTimes[condition][unit])):\n",
    "            fooSpike = SpikeTimes[condition][unit][trial]\n",
    "            numberBef[condition][unit].append(np.sum((fooSpike < duration[windowBef[1]]) & (fooSpike > duration[windowBef[0]])))\n",
    "            numberDur[condition][unit].append(np.sum((fooSpike < duration[windowDur[1]]) & (fooSpike > duration[windowDur[0]])))\n",
    "            diffBefDur[condition][unit].append(numberDur[condition][unit][-1] - np.mean(numberBef[condition][unit][-1]))\n",
    "            sumBefDur[condition][unit].append(numberDur[condition][unit][-1] + np.mean(numberBef[condition][unit][-1]))\n",
    "\n",
    "        vMI[condition][unit] = np.mean(diffBefDur[condition][unit]) / np.mean(sumBefDur[condition][unit])\n",
    "            \n",
    "\n",
    "for unit in range(Nclust):\n",
    "    x = len(foo)/f\n",
    "    SpikeCount, edges = np.histogram(np.concatenate([trial for trial in np.concatenate([SpikeTimes[condition][unit] for condition in ['CW', 'CCW']])]), bins=np.arange(-timeBef, timeAft + x, x))\n",
    "    good_baseline[unit] = any([SpikeCount[i]/x>0.5 for i in range(len(SpikeCount))])\n",
    "    [print(unit) if SpikeCount[i]/x<0.5 else None for i in range(len(SpikeCount))]\n",
    "\n",
    "\n",
    "meanCW = np.mean(numberDur['CW'], axis=1)\n",
    "meanCCW = np.mean(numberDur['CCW'], axis=1)\n",
    "dirMI = (meanCW - meanCCW) / (meanCW + meanCCW)"
   ]
  },
  {
   "cell_type": "markdown",
   "metadata": {},
   "source": [
    "### <span style=\"border: 2px solid #1c75c8; padding: 3px; background-color: #c5ddf6; color: black\"><strong>Paired Wilcoxon Test</strong></span>"
   ]
  },
  {
   "cell_type": "code",
   "execution_count": null,
   "metadata": {},
   "outputs": [],
   "source": [
    "statistics_vMI, p_values_vMI = ({\n",
    "    'CW': [],\n",
    "    'CCW': []\n",
    "} for _ in range(2))\n",
    "\n",
    "statistics_dirMI, p_values_dirMI = ([] for _ in range(2))\n",
    "\n",
    "\n",
    "for condition in ['CW', 'CCW']:\n",
    "        for unit in range(Nclust):\n",
    "            try:\n",
    "                results_vMI = wilcoxon(numberBef[condition][unit], numberDur[condition][unit])\n",
    "                statistics_vMI[condition].append(results_vMI[0])\n",
    "                p_values_vMI[condition].append(results_vMI[1])\n",
    "            except ValueError:\n",
    "                statistics_vMI[condition].append(0)\n",
    "                p_values_vMI[condition].append(1)\n",
    "\n",
    "\n",
    "for unit in range(Nclust):\n",
    "    try:\n",
    "        results_dirMI = wilcoxon(numberDur['CW'][unit], numberDur['CCW'][unit])\n",
    "        statistics_dirMI.append(results_dirMI[0])\n",
    "        p_values_dirMI.append(results_dirMI[1])\n",
    "    except ValueError:\n",
    "        statistics_dirMI.append(0)\n",
    "        p_values_dirMI.append(1)\n",
    "\n",
    "p_values_dirMI = np.array(p_values_dirMI)\n",
    "p_values_vMI['CW'] = np.array(p_values_vMI['CW'])\n",
    "p_values_vMI['CCW'] = np.array(p_values_vMI['CCW'])\n",
    "statistics_vMI['CW'] = np.array(statistics_vMI['CW'])\n",
    "statistics_vMI['CCW'] = np.array(statistics_vMI['CCW'])"
   ]
  },
  {
   "cell_type": "markdown",
   "metadata": {},
   "source": [
    "### <span style=\"border: 2px solid #1c75c8; padding: 3px; background-color: #c5ddf6; color: black\"><strong>Determination of significant units by condition</strong></span>"
   ]
  },
  {
   "cell_type": "code",
   "execution_count": null,
   "metadata": {},
   "outputs": [],
   "source": [
    "p_value_threshold = 0.05\n",
    "\n",
    "significance_vMI = {\n",
    "        'CW': [],\n",
    "        'CCW': []\n",
    "    }\n",
    "\n",
    "significance_dirMI = [[] for _ in range(Nclust)]\n",
    "\n",
    "\n",
    "\n",
    "for condition in ['CW', 'CCW']:\n",
    "    significance_vMI[condition] = (np.arange(0,Nclust))[p_values_vMI[condition]<p_value_threshold]\n",
    "\n",
    "significance_dirMI = (np.arange(0,Nclust))[p_values_dirMI<p_value_threshold]"
   ]
  },
  {
   "cell_type": "markdown",
   "metadata": {},
   "source": [
    "### <span style=\"border: 2px solid #1c75c8; padding: 3px; background-color: #c5ddf6; color: black\"><strong>Visual Overview Of Spike Numbers Before & During</strong></span>"
   ]
  },
  {
   "cell_type": "markdown",
   "metadata": {},
   "source": [
    "### <span style=\"border: 2px solid #1c75c8; padding: 3px; background-color: #c5ddf6; color: black\"><strong>Resuming Modulations & Preferences</strong></span>"
   ]
  },
  {
   "cell_type": "code",
   "execution_count": null,
   "metadata": {},
   "outputs": [],
   "source": [
    "modulation = {\n",
    "    'selectivity': [[] for _ in range(Nclust)],\n",
    "    'type': [[] for _ in range(Nclust)],\n",
    "}\n",
    "\n",
    "\n",
    "\n",
    "for unit in range(Nclust):\n",
    "    both = (unit in significance_vMI['CW']) and (unit in significance_vMI['CCW'])\n",
    "    CW = unit in significance_vMI['CW']\n",
    "    CCW = unit in significance_vMI['CCW']\n",
    "\n",
    "\n",
    "\n",
    "    if not (both or CW or CCW):\n",
    "        modulation['selectivity'][unit] = 'unmodulated'\n",
    "        modulation['type'][unit] = '0'\n",
    "    else:\n",
    "        fooCW = np.mean(diffBefDur['CW'][unit])\n",
    "        fooCCW = np.mean(diffBefDur['CCW'][unit])\n",
    "\n",
    "        if both:\n",
    "            modulation['selectivity'][unit] = 'both'\n",
    "            if (fooCW >= 0) and (fooCCW >= 0):\n",
    "                modulation['type'][unit] = '++'\n",
    "            elif (fooCW < 0) and (fooCCW < 0):\n",
    "                modulation['type'][unit] = '--'\n",
    "            elif (fooCW < 0) and (fooCCW >= 0):\n",
    "                modulation['type'][unit] = '-+'\n",
    "            elif (fooCW >= 0) and (fooCCW < 0):\n",
    "                modulation['type'][unit] = '+-'\n",
    "        elif CW:\n",
    "            modulation['selectivity'][unit] = 'CW'\n",
    "            modulation['type'][unit] = '+' if fooCW >= 0 else '-'\n",
    "        elif CCW:\n",
    "            modulation['selectivity'][unit] = 'CCW'\n",
    "            modulation['type'][unit] = '+' if fooCCW >= 0 else '-'\n",
    "\n",
    "\n",
    "# Convert lists -> NumPy\n",
    "for condition in modulation:\n",
    "    modulation[condition] = np.array(modulation[condition])"
   ]
  },
  {
   "cell_type": "code",
   "execution_count": null,
   "metadata": {},
   "outputs": [],
   "source": [
    "preference = [[] for _ in range(Nclust)]\n",
    "\n",
    "\n",
    "for unit in range(Nclust):\n",
    "    if unit in significance_dirMI:\n",
    "        preference[unit] = 'CW' if dirMI[unit]>0 else 'CCW'\n",
    "    else:\n",
    "        preference[unit] = None\n",
    "\n",
    "# Convert list -> NumPy\n",
    "preference = np.array(preference)"
   ]
  },
  {
   "cell_type": "code",
   "execution_count": null,
   "metadata": {},
   "outputs": [],
   "source": [
    "foo = ['CW+', 'CCW+', 'CW-', 'CCW-', 'both++', 'both--', 'both+-', 'both-+', 'unmodulated0']\n",
    "\n",
    "Modulation_saving_folder = os.path.join(saving_folder, 'Modulation')\n",
    "for modulated in foo:\n",
    "    os.makedirs(os.path.join(Modulation_saving_folder, modulated), exist_ok=True)\n",
    "\n",
    "\n",
    "for modulationWay in tqdm(foo, total=len(foo), desc=f'Rotation modulation figures loading', leave=False):\n",
    "    selectivity_plus_type = [modulation['selectivity'][i] + modulation['type'][i] for i in range(Nclust)]\n",
    "    position = np.where(modulationWay == np.array(selectivity_plus_type))[0]\n",
    "    for i in position:\n",
    "        plt.ioff()\n",
    "        figmodulationway = plt.figure(figsize=(15,5))\n",
    "        plt.subplot(3,2,1)\n",
    "        plt.plot(duration, MeanRotation['CW'], color='blue')\n",
    "        plt.ylim(-rotationSpeed, rotationSpeed)\n",
    "        plt.margins(0)\n",
    "        plt.axis('off')\n",
    "        plt.subplot(3,2,2)\n",
    "        plt.plot(duration, MeanRotation['CCW'], color='red')\n",
    "        plt.ylim(-rotationSpeed, rotationSpeed)\n",
    "        plt.margins(0)\n",
    "        plt.axis('off')\n",
    "        plt.subplot(3,2, (3, 5))\n",
    "        plotRaster(SpikeTimes, 'CW', i, color='c', Plots=True, psth=True, psthcolor='b', shadedcolor='b')\n",
    "        plt.subplot(3,2, (4, 6))\n",
    "        plotRaster(SpikeTimes, 'CCW', i, color='#FF69B4', Plots=True, ylabel=False, psth=True, psthcolor='red', shadedcolor='red')\n",
    "        #plt.subplot(221)\n",
    "        #plotRaster(SpikeTimes, 'CW', i, color='blue', show=False, xlabel=False, title='CW')\n",
    "        #plt.subplot(222)\n",
    "        #plotRaster(SpikeTimes, 'CCW', i, color='red', show=False, xlabel=False, title='CCW')\n",
    "        #plt.subplot(223)\n",
    "        #plotPSTH(SpikeTimes, 'CW', i, color='blue', shadedcolor='blue', show=False, plotvelocity=True, velocitycolor='blue', velocityalpha=0.5)\n",
    "        #plt.subplot(224)\n",
    "        #plotPSTH(SpikeTimes, 'CCW', i, color='red', shadedcolor='red', show=False, plotvelocity=True, velocitycolor='red', velocityalpha=0.5)\n",
    "        plt.suptitle(f\"Unit {i} {modulationWay} modulated -- {exp_id}\")\n",
    "        if Saving_boolean:\n",
    "            plt.savefig(os.path.join(Modulation_saving_folder, modulationWay, f\"Modulation_{modulationWay}_{exp_id}_unit#{i}.png\"))\n",
    "        plt.ion()\n",
    "        plt.figure(figmodulationway)\n",
    "        plt.close(figmodulationway)"
   ]
  },
  {
   "cell_type": "markdown",
   "metadata": {},
   "source": [
    "### <span style=\"border: 2px solid #1c75c8; padding: 3px; background-color: #c5ddf6; color: black\"><strong>Showing Numerical Results</strong></span>"
   ]
  },
  {
   "cell_type": "code",
   "execution_count": null,
   "metadata": {},
   "outputs": [],
   "source": [
    "print(f\"Units CW-modulated : {significance_vMI['CW']}\\n\")\n",
    "\n",
    "print(f\"Units CCW-modulated : {significance_vMI['CCW']}\")"
   ]
  },
  {
   "cell_type": "markdown",
   "metadata": {},
   "source": [
    "### <span style=\"border: 2px solid #1c75c8; padding: 3px; background-color: #c5ddf6; color: black\"><strong>Distributions</strong></span>"
   ]
  },
  {
   "cell_type": "code",
   "execution_count": null,
   "metadata": {},
   "outputs": [],
   "source": [
    "#%matplotlib qt\n",
    "#%matplotlib inline\n",
    "if os.path.exists(os.path.join(os.path.dirname(saving_folder), f\"{exp_id}_phototagging_variables.npz\")):\n",
    "    %run phototagging_rotation.ipynb\n",
    "    #exec(open(r'c:\\Users\\ayazici\\BOUVIER\\test.ipynb').read())"
   ]
  },
  {
   "cell_type": "markdown",
   "metadata": {},
   "source": [
    "# <span style=\"border: 2px solid #1c75c8; padding: 3px; background-color: #c5ddf6; color: black\"><strong>Saving Variables</strong></span>"
   ]
  },
  {
   "cell_type": "code",
   "execution_count": null,
   "metadata": {},
   "outputs": [],
   "source": [
    "# if Saving_boolean:\n",
    "#     rotation_data = {\n",
    "#         'exp_id': exp_id,\n",
    "#         'timeBef': timeBef,\n",
    "#         'timeAft': timeAft,\n",
    "#         # 'refValue': refValue,\n",
    "#         'din': din,\n",
    "#         # 'time': time,\n",
    "#         'chanSpace': chanSpace,\n",
    "#         'rotationSpeed': rotationSpeed,\n",
    "#         'ProbeType': ProbeType,\n",
    "#         # 'f': f,\n",
    "#         'ML_pos': ML_pos,\n",
    "#         'AP_pos': AP_pos,\n",
    "#         # 'SpikeTimesMUA': SpikeTimesMUA,\n",
    "#         'Ntrial': Ntrial,\n",
    "#         # 'protocolSeparationIndex': limit,\n",
    "#         'SpikeTimes': SpikeTimes,\n",
    "#         # 'ref': ref,\n",
    "#         'peaks': peaks,\n",
    "#         'RotationWise': RotationWise,\n",
    "#         'MeanRotation': MeanRotation,\n",
    "#         'duration': duration,\n",
    "#         'table_velocity': table_velocity,\n",
    "#         # 'shiftIndex': shiftIndex,\n",
    "#         'c_class': c_class,\n",
    "#         'Nclust': Nclust,\n",
    "#         'm_class': m_class,\n",
    "#         # 'm_class_tet': m_class_tet,\n",
    "#         'Nclust_mua': Nclust_mua,\n",
    "#         'Ntet': Ntet,\n",
    "#         'allBasem': allBasem,\n",
    "#         'PkDepthUnit': PkDepthUnit,\n",
    "#         'ArgallLayers': ArgallLayers,\n",
    "#         'DepthTetrode': DepthTetrode,\n",
    "#         'AllDepth': AllDepth,\n",
    "#         'windowBef': windowBef,\n",
    "#         'windowDur': windowDur,\n",
    "#         'numberBef': numberBef,\n",
    "#         'numberDur': numberDur,\n",
    "#         'diffBefDur': diffBefDur,\n",
    "#         'sumBefDur': sumBefDur,\n",
    "#         'statistics_vMI': statistics_vMI,\n",
    "#         'statistics_dirMI': statistics_dirMI,\n",
    "#         'p_values_vMI': p_values_vMI,\n",
    "#         'p_values_dirMI': p_values_dirMI,\n",
    "#         'significance_vMI': significance_vMI,\n",
    "#         'significance_dirMI': significance_dirMI,\n",
    "#         'modulation': modulation,\n",
    "#         'preference': preference,\n",
    "#         'vMI':vMI,\n",
    "#         'dirMI': dirMI,\n",
    "#         # 'good_baseline': good_baseline,\n",
    "#         'mapp': mapp\n",
    "#     }\n",
    "\n",
    "\n",
    "\n",
    "#     file = os.path.join(os.path.dirname(saving_folder), exp_id+\"_rotation_data.pickle\")\n",
    "        \n",
    "#     # Sauvegarde des variables dans un fichier\n",
    "#     with open(file, 'wb') as FILE_WRITTER:\n",
    "#         pickle.dump(rotation_data, FILE_WRITTER)\n",
    "#         FILE_WRITTER.close()"
   ]
  },
  {
   "cell_type": "code",
   "execution_count": null,
   "metadata": {},
   "outputs": [],
   "source": [
    "if Saving_boolean:\n",
    "    file = os.path.join(os.path.dirname(saving_folder), exp_id+\"_rotation_data.npz\")\n",
    "    np.savez(file,\n",
    "        exp_id = exp_id,\n",
    "        timeBef = timeBef,\n",
    "        timeAft = timeAft,\n",
    "        # refValue = refValue,\n",
    "        din = din,\n",
    "        # time = time,\n",
    "        chanSpace = chanSpace,\n",
    "        rotationSpeed = rotationSpeed,\n",
    "        ProbeType = ProbeType,\n",
    "        f = f,\n",
    "        ML_pos = ML_pos,\n",
    "        AP_pos = AP_pos,\n",
    "        # SpikeTimesMUA = SpikeTimesMUA,\n",
    "        Ntrial = Ntrial,\n",
    "        # protocolSeparationIndex = limit,\n",
    "        SpikeTimes = SpikeTimes,\n",
    "        # ref = ref,\n",
    "        peaks = peaks,\n",
    "        RotationWise = RotationWise,\n",
    "        MeanRotation = MeanRotation,\n",
    "        duration = duration,\n",
    "        table_velocity = table_velocity,\n",
    "        # shiftIndex = shiftIndex,\n",
    "        c_class = c_class,\n",
    "        Nclust = Nclust,\n",
    "        m_class = m_class,\n",
    "        # m_class_tet = m_class_tet,\n",
    "        Nclust_mua = Nclust_mua,\n",
    "        Ntet = Ntet,\n",
    "        allBasem = allBasem,\n",
    "        PkDepthUnit = PkDepthUnit,\n",
    "        ArgallLayers = ArgallLayers,\n",
    "        DepthTetrode = DepthTetrode,\n",
    "        AllDepth = AllDepth,\n",
    "        windowBef = windowBef,\n",
    "        windowDur = windowDur,\n",
    "        numberBef = numberBef,\n",
    "        numberDur = numberDur,\n",
    "        diffBefDur = diffBefDur,\n",
    "        sumBefDur = sumBefDur,\n",
    "        statistics_vMI = statistics_vMI,\n",
    "        statistics_dirMI = statistics_dirMI,\n",
    "        p_values_vMI = p_values_vMI,\n",
    "        p_values_dirMI = p_values_dirMI,\n",
    "        significance_vMI = significance_vMI,\n",
    "        significance_dirMI = significance_dirMI,\n",
    "        modulation = modulation,\n",
    "        preference = preference,\n",
    "        vMI =vMI,\n",
    "        dirMI = dirMI,\n",
    "        # good_baseline = good_baseline,\n",
    "        mapp = mapp\n",
    "    )"
   ]
  }
 ],
 "metadata": {
  "kernelspec": {
   "display_name": "Python 3",
   "language": "python",
   "name": "python3"
  },
  "language_info": {
   "codemirror_mode": {
    "name": "ipython",
    "version": 3
   },
   "file_extension": ".py",
   "mimetype": "text/x-python",
   "name": "python",
   "nbconvert_exporter": "python",
   "pygments_lexer": "ipython3",
   "version": "3.12.3"
  }
 },
 "nbformat": 4,
 "nbformat_minor": 2
}
