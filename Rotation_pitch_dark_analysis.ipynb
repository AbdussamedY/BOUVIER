{
 "cells": [
  {
   "cell_type": "markdown",
   "metadata": {},
   "source": [
    "# <span style=\"border: 2px solid #1c75c8; padding: 3px; background-color: #c5ddf6; color: black;\"><strong>Module importations</strong></span>"
   ]
  },
  {
   "cell_type": "code",
   "execution_count": 1,
   "metadata": {},
   "outputs": [],
   "source": [
    "from MyModule import *"
   ]
  },
  {
   "cell_type": "code",
   "execution_count": 2,
   "metadata": {},
   "outputs": [
    {
     "name": "stdout",
     "output_type": "stream",
     "text": [
      "P:\\SharedFiles\\Abdussamed\\Pulvinar_rec_dark_80degs\\to_analyze\\animal21_a53d1s1_ephys\\21a53d1s1_210604_150840\n"
     ]
    }
   ],
   "source": [
    "Saving_boolean = True\n",
    "\n",
    "\n",
    "foo = os.path.join(r'C:\\Users\\ayazici\\Documents\\Analyses\\Vestibular_experiments', \"path.json\")\n",
    "\n",
    "if os.path.exists(foo):\n",
    "    selected_path = jd.load(foo)\n",
    "else:\n",
    "    def selection_change():\n",
    "        global selected_path\n",
    "        selected_path = selected_option.get()\n",
    "        print(selected_path)\n",
    "\n",
    "    root = tk.Tk()\n",
    "    root.title(\"Select one animal for rotation in pitch dark analysis\")\n",
    "\n",
    "    selected_option = tk.StringVar()\n",
    "\n",
    "    animal_list = [\n",
    "        r'P:\\SharedFiles\\Abdussamed\\Pulvinar_rec_dark_80degs\\to_analyze\\animal20_a40d1s1_ephys\\20a40d1s1_200426_142125',\n",
    "        r'P:\\SharedFiles\\Abdussamed\\Pulvinar_rec_dark_80degs\\to_analyze\\animal20_a41d1s1_ephys_BAD\\20a41d1s1_200426_171205',\n",
    "        r'P:\\SharedFiles\\Abdussamed\\Pulvinar_rec_dark_80degs\\to_analyze\\animal20_a49d1s1_ephys\\20a49d1s1_200528_093956',\n",
    "        r'P:\\SharedFiles\\Abdussamed\\Pulvinar_rec_dark_80degs\\to_analyze\\animal20_a50d1s1_ephys\\20a50d1s1_200530_095333',\n",
    "        r'P:\\SharedFiles\\Abdussamed\\Pulvinar_rec_dark_80degs\\to_analyze\\animal21_a15d1s1_ephys\\21a15d1s1_210326_163524',\n",
    "        r'P:\\SharedFiles\\Abdussamed\\Pulvinar_rec_dark_80degs\\to_analyze\\animal21_a17d1s1_ephys\\21a17d1s1_210330_130118',\n",
    "        r'P:\\SharedFiles\\Abdussamed\\Pulvinar_rec_dark_80degs\\to_analyze\\animal21_a18d1s1_ephys\\21a18d1s1_210401_111241',\n",
    "        r'P:\\SharedFiles\\Abdussamed\\Pulvinar_rec_dark_80degs\\to_analyze\\animal21_a19d1s1_ephys\\21a19d1s1_210403_130057',\n",
    "        r'P:\\SharedFiles\\Abdussamed\\Pulvinar_rec_dark_80degs\\to_analyze\\animal21_a21d1s1_ephys\\21a21d1s1_210408_155731',\n",
    "        r'P:\\SharedFiles\\Abdussamed\\Pulvinar_rec_dark_80degs\\to_analyze\\animal21_a45d1s2_ephys_BAD\\21a45d1s2_210526_120819',\n",
    "        r'P:\\SharedFiles\\Abdussamed\\Pulvinar_rec_dark_80degs\\to_analyze\\animal21_a51d1s1_ephys\\21a51d1s1_210602_110516',\n",
    "        r'P:\\SharedFiles\\Abdussamed\\Pulvinar_rec_dark_80degs\\to_analyze\\animal21_a53d1s1_ephys\\21a53d1s1_210604_150840'\n",
    "        ]\n",
    "\n",
    "    for i, animal in enumerate(animal_list):\n",
    "        radio_button = tk.Radiobutton(root, text=animal, variable=selected_option, value=animal, command=selection_change)\n",
    "        radio_button.pack(anchor='w')\n",
    "\n",
    "    root.mainloop()"
   ]
  },
  {
   "cell_type": "code",
   "execution_count": 3,
   "metadata": {},
   "outputs": [],
   "source": [
    "## qt for popup window (savable as pdf, svg...), inline for inline plot, notebook for interactive plot, widget for interactive plot\n",
    "#%matplotlib widget \n",
    "#plt.ioff()\n",
    "## plt.rcdefaults()"
   ]
  },
  {
   "cell_type": "markdown",
   "metadata": {},
   "source": [
    "# <span style=\"border: 2px solid #1c75c8; padding: 3px; background-color: #c5ddf6; color: black\"><strong>FUNCTIONS</strong></span>"
   ]
  },
  {
   "cell_type": "markdown",
   "metadata": {},
   "source": [
    "## <span style=\"border: 2px solid #1c75c8; padding: 3px; background-color: #c5ddf6; color: black\"><strong>plots(row_number, col_number, width, height, *args, suptitle=None,**kwargs)</strong></span>"
   ]
  },
  {
   "cell_type": "code",
   "execution_count": 4,
   "metadata": {},
   "outputs": [],
   "source": [
    "def plots(*plot_commands, ncols=None, suptitle=None, supxlabel=None, supylabel=None, size=(9, 5), show=True, save=False, filename=None):\n",
    "    num_plots = len(plot_commands)\n",
    "    if ncols is None:\n",
    "        ncols = int(num_plots ** 0.5) + 1  # Calcul automatique du nombre de colonnes\n",
    "\n",
    "    nrows = (num_plots + ncols - 1) // ncols\n",
    "\n",
    "    fig = plt.figure(figsize=size)\n",
    "    # Création des sous-figures\n",
    "    for i, command in enumerate(plot_commands, start=1):\n",
    "        plt.subplot(nrows, ncols, i)\n",
    "        exec(command)\n",
    "\n",
    "    \n",
    "    if supxlabel:\n",
    "        fig.supxlabel(supxlabel)\n",
    "    if supylabel:\n",
    "        fig.supylabel(supylabel)\n",
    "    if suptitle:\n",
    "        plt.suptitle(suptitle)\n",
    "    plt.tight_layout()\n",
    "    if save:\n",
    "        os.makedirs(os.path.dirname(filename), exist_ok=True)\n",
    "        plt.savefig(filename)\n",
    "    if show:\n",
    "        plt.show()\n",
    "    else:\n",
    "        plt.close()"
   ]
  },
  {
   "cell_type": "markdown",
   "metadata": {},
   "source": [
    "## <span style=\"border: 2px solid #1c75c8; padding: 3px; background-color: #c5ddf6; color: black\"><strong>plotVelocity(velocity)</strong></span>"
   ]
  },
  {
   "cell_type": "code",
   "execution_count": 5,
   "metadata": {},
   "outputs": [],
   "source": [
    "def plotVelocity(velocityObject, direction, duration, rotationSpeed, xlim=None, color='c', xlabel=True, ylabel=True, save=False, filename='velocity.png', show=True):\n",
    "    velocity = velocityObject[direction]\n",
    "    durationFoo = duration\n",
    "    xmin, xmax = durationFoo[0], durationFoo[-1]\n",
    "    \n",
    "    plt.plot(durationFoo, velocity, color=color, linewidth='1')\n",
    "    plt.ylim(-rotationSpeed, rotationSpeed)\n",
    "    if xlim:\n",
    "        plt.xlim(xlim)\n",
    "    else:\n",
    "        plt.xlim(xmin, xmax)\n",
    "    if ylabel:\n",
    "        plt.ylabel(r'Mean Velocity $(^\\circ/s)$')\n",
    "    if xlabel:\n",
    "        plt.xlabel(r'Time $(s)$')\n",
    "    plt.yticks([-rotationSpeed, 0, rotationSpeed])\n",
    "\n",
    "    if save:\n",
    "        plt.savefig(filename, bbox_inches='tight')\n",
    "        plt.close()\n",
    "    if show:\n",
    "        plt.show()"
   ]
  },
  {
   "cell_type": "markdown",
   "metadata": {},
   "source": [
    "## <span style=\"border: 2px solid #1c75c8; padding: 3px; background-color: #c5ddf6; color: black\"><strong>plotPSTH(StudiedSpikeTimes)</strong></span>"
   ]
  },
  {
   "cell_type": "code",
   "execution_count": 6,
   "metadata": {},
   "outputs": [],
   "source": [
    "def getPSTHparameters(StudiedSpikeTimes, timeObject, binResolution):\n",
    "    local_trial_number = len(StudiedSpikeTimes)\n",
    "\n",
    "    spike_number_per_trial = [[] for _ in range(local_trial_number)]\n",
    "    edges = []\n",
    "\n",
    "    for trial in range(local_trial_number):\n",
    "        spike_number_per_trial[trial], edges = np.histogram(StudiedSpikeTimes[trial], bins=np.arange(timeObject[0], round(timeObject[-1])+binResolution, binResolution))\n",
    "\n",
    "\n",
    "    frequency_per_trial = [[spike_number_per_trial[trial][bin]/binResolution for bin in range(len(edges)-1)] for trial in range(local_trial_number)]\n",
    "    mean_frequency = [np.mean([frequency_per_trial[trial][bin] for trial in range(local_trial_number)]) for bin in range(len(edges)-1)]\n",
    "\n",
    "    Zscore = (mean_frequency - np.mean(mean_frequency)) / np.std(mean_frequency) if np.std(mean_frequency) != 0 else np.zeros(len(mean_frequency))\n",
    "    Zscore[-1]=Zscore[-2]\n",
    "    Zunitary = (frequency_per_trial - np.mean(mean_frequency)) / np.std(mean_frequency) if np.std(mean_frequency) != 0 else np.zeros(len(frequency_per_trial))\n",
    "    SEM = np.std(Zunitary)/np.sqrt(len(Zunitary)) if np.std(mean_frequency) != 0 else np.zeros(len(mean_frequency))\n",
    "\n",
    "    return edges, Zscore, SEM"
   ]
  },
  {
   "cell_type": "code",
   "execution_count": 7,
   "metadata": {},
   "outputs": [],
   "source": [
    "def plotPSTH(SpikeTimesObject, condition, unit,color='k',shadedcolor='c',binResolution = 0.03,xlabel=True,ylabel=True, title='', plotvelocity=False, velocitycolor='c', velocityalpha=0.13, xlim=None, save=False, filename='PSTH.png', show=True, smooth=True):\n",
    "    if type(unit)==list:\n",
    "        if type(condition)==list:\n",
    "            StudiedSpikeTimes =  np.concatenate([np.concatenate([SpikeTimesObject[y][i] for i in unit]) for y in condition])\n",
    "        else:\n",
    "            StudiedSpikeTimes = np.concatenate([SpikeTimesObject[condition][i] for i in unit])\n",
    "    else:\n",
    "        if type(condition)==list:\n",
    "            StudiedSpikeTimes = np.concatenate([SpikeTimesObject[y][unit] for y in condition])\n",
    "        else:\n",
    "            StudiedSpikeTimes = SpikeTimesObject[condition][unit]\n",
    "    \n",
    "    timeDuration = duration\n",
    "\n",
    "    edges, Zscore, SEM = getPSTHparameters(StudiedSpikeTimes, timeDuration, binResolution)\n",
    "\n",
    "    if smooth:\n",
    "        Zscore = savgol_filter(Zscore, 9, 3)\n",
    "\n",
    "    # plt.figure(figsize=(15,6))\n",
    "    plt.plot(edges[:-1], Zscore, color=color)\n",
    "    plt.fill_between(edges[:-1], Zscore-SEM, Zscore+SEM, alpha=0.1, color=shadedcolor)\n",
    "\n",
    "\n",
    "\n",
    "    if plotvelocity:\n",
    "        normalization = 1/rotationSpeed*max(abs(Zscore))\n",
    "        rotation = MeanRotation[condition]\n",
    "        \n",
    "        if min(rotation) < -rotationSpeed/2:\n",
    "            rotation = rotation * normalization\n",
    "            haxis = np.zeros(len(duration))\n",
    "        else:\n",
    "            rotation = rotation * normalization\n",
    "            haxis = np.zeros(len(duration))\n",
    "        plt.plot(duration, rotation, color=velocitycolor, alpha=velocityalpha)\n",
    "        plt.fill_between(duration, rotation, haxis, color=velocitycolor, alpha=velocityalpha*0.8)\n",
    "\n",
    "\n",
    "\n",
    "    if xlim:\n",
    "        plt.xlim(xlim)\n",
    "    else:\n",
    "        plt.margins(x=0)\n",
    "    if ylabel:\n",
    "        plt.ylabel('Z-Score FR')\n",
    "    if xlabel:\n",
    "        plt.xlabel('Time (s)')\n",
    "\n",
    "    plt.title(title)\n",
    "\n",
    "    if save:\n",
    "        plt.savefig(filename, bbox_inches='tight')\n",
    "        plt.close()\n",
    "    if show:\n",
    "        plt.show()"
   ]
  },
  {
   "cell_type": "markdown",
   "metadata": {},
   "source": [
    "## <span style=\"border: 2px solid #1c75c8; padding: 3px; background-color: #c5ddf6; color: black\"><strong>plotRaster(spikeTimesObject)</strong></span>"
   ]
  },
  {
   "cell_type": "code",
   "execution_count": 8,
   "metadata": {},
   "outputs": [],
   "source": [
    "def plotRaster(SpikeTimesObject, condition, unit, color='black', xlabel='Time (s)', ylabel='# Trial', extra=None, title='', xlim=None, plotvelocity=False, velocitycolor='k', velocityalpha=0.13, save=False, filename='Raster.png', show=True, psth=False, binResolution=0.03, shadedcolor='red', psthcolor='red', smooth=True):\n",
    "    if type(unit)==list:\n",
    "        if type(condition)==list:\n",
    "            StudiedSpikeTimes =  np.concatenate([np.concatenate([SpikeTimesObject[y][i] for i in unit]) for y in condition])\n",
    "        else:\n",
    "            StudiedSpikeTimes = np.concatenate([SpikeTimesObject[condition][i] for i in unit])\n",
    "    else:\n",
    "        if type(condition)==list:\n",
    "            StudiedSpikeTimes = np.concatenate([SpikeTimesObject[directiony][unit] for directiony in condition])\n",
    "        else:\n",
    "            StudiedSpikeTimes = SpikeTimesObject[condition][unit]\n",
    "\n",
    "    timeDuration = duration\n",
    "\n",
    "    \n",
    "    \n",
    "\n",
    "    linelengths = 1\n",
    "\n",
    "    plt.eventplot(StudiedSpikeTimes, linelengths=linelengths, colors=color)\n",
    "\n",
    "    if extra is not None:\n",
    "        extra()\n",
    "    \n",
    "    ### annulate the offset due to python indexation\n",
    "    def custom_formatter(x, pos):\n",
    "        return f\"{int(x) + 1}\"\n",
    "    plt.gca().yaxis.set_major_formatter(plt.FuncFormatter(custom_formatter))\n",
    "\n",
    "    if plotvelocity:\n",
    "        normalization = len(StudiedSpikeTimes)/rotationSpeed\n",
    "        rotation = MeanRotation[condition]\n",
    "        \n",
    "        if condition == 'CCW':\n",
    "            rotation = rotation * normalization - min(rotation * normalization) - linelengths/2\n",
    "            haxis = len(StudiedSpikeTimes)*np.ones(len(duration))\n",
    "        elif condition == 'CW':\n",
    "            rotation = rotation * normalization - linelengths/2\n",
    "            haxis = np.zeros(len(duration)) - linelengths/2\n",
    "        else:\n",
    "            rotation = rotation\n",
    "            haxis = np.zeros(len(duration))\n",
    "        plt.plot(duration, rotation, color=velocitycolor, alpha=velocityalpha)\n",
    "        plt.fill_between(duration, rotation, haxis, color=velocitycolor, alpha=velocityalpha*0.8)\n",
    "    \n",
    "\n",
    "    if xlim:\n",
    "        plt.xlim(xlim)\n",
    "    else:\n",
    "        plt.margins(x=0)\n",
    "    plt.ylim(0-linelengths/2,len(StudiedSpikeTimes)-1+linelengths/2)\n",
    "\n",
    "    if ylabel:\n",
    "        plt.ylabel(ylabel)\n",
    "    if xlabel:\n",
    "        plt.xlabel(xlabel)\n",
    "    plt.title(title)\n",
    "\n",
    "    if psth:\n",
    "        edges, Zscore, SEM = getPSTHparameters(StudiedSpikeTimes, timeDuration, binResolution)\n",
    "        if smooth:\n",
    "            Zscore = savgol_filter(Zscore, 9, 3)\n",
    "        plt.twinx()\n",
    "        plt.plot(edges[:-1], Zscore, color=psthcolor)\n",
    "        plt.fill_between(edges[:-1], Zscore-SEM, Zscore+SEM, alpha=0.1, color=shadedcolor)\n",
    "        if ylabel:\n",
    "            plt.ylabel('Z-Score FR')\n",
    "        if xlabel:\n",
    "            plt.xlabel('Time (s)')\n",
    "\n",
    "    if save:\n",
    "        plt.savefig(filename, bbox_inches='tight')\n",
    "        plt.close()\n",
    "    if show:\n",
    "        plt.show()"
   ]
  },
  {
   "cell_type": "markdown",
   "metadata": {},
   "source": [
    "## <span style=\"border: 2px solid #1c75c8; padding: 3px; background-color: #c5ddf6; color: black\"><strong>figure1(unit)</strong></span>"
   ]
  },
  {
   "cell_type": "code",
   "execution_count": 9,
   "metadata": {},
   "outputs": [],
   "source": [
    "def figure1(unit,duration, rotationSpeed, timeBef, timeAft, firstcolor='red',secondcolor='blue', save=False, filename='figure 1.png'):\n",
    "      plots(\n",
    "            f\"plotVelocity(MeanRotation, 'CW',duration, rotationSpeed,color='{firstcolor}', xlabel=False, show=False)\",\n",
    "            f\"plotVelocity(MeanRotation, 'CCW',duration, rotationSpeed,color='{secondcolor}',ylabel=False,xlabel=False, show=False)\",\n",
    "            f\"plotRaster(SpikeTimes, 'CW', {unit}, color='{firstcolor}', xlabel=False, show=False)\",\n",
    "            f\"plotRaster(SpikeTimes, 'CCW', {unit}, color='{secondcolor}',xlabel=False,ylabel=False, show=False)\",\n",
    "            f\"plotPSTH(SpikeTimes, 'CW', {unit}, color='{firstcolor}', shadedcolor='{firstcolor}', show=False)\",\n",
    "            f\"plotPSTH(SpikeTimes, 'CCW', {unit},color='{secondcolor}', shadedcolor='{secondcolor}',ylabel=False, show=False)\",\n",
    "            suptitle=f\"Figure 1: Unit {unit}\",\n",
    "            save=save,\n",
    "            filename=filename,\n",
    "            ncols=2\n",
    "      )"
   ]
  },
  {
   "cell_type": "markdown",
   "metadata": {},
   "source": [
    "## <span style=\"border: 2px solid #1c75c8; padding: 3px; background-color: #c5ddf6; color: black\"><strong>seeModulation(condition, modulated)</strong></span>"
   ]
  },
  {
   "cell_type": "code",
   "execution_count": 10,
   "metadata": {},
   "outputs": [],
   "source": [
    "def seeModulation(condition,modulated, color='k', velocitycolor='k', velocityalpha=0.13, save=False, filename='Modulation', show = True):\n",
    "      \n",
    "      position = np.where([(modulation[condition][neuron]['selectivity']==modulated.split()[0]) and (modulation[condition][neuron]['type']==modulated.split()[1]) for neuron in range(Nclust)])[0]\n",
    "      print(f'The {modulated} modulated neurons are {position}')\n",
    "\n",
    "      by = modulated.split()[0]\n",
    "      how = modulated.split()[1]\n",
    "\n",
    "      for unit in np.where([modulation[condition][neuron]['selectivity']==by and modulation[condition][neuron]['type']==how for neuron in range(Nclust)])[0]:\n",
    "            plots(\n",
    "                  f\"plotRaster(SpikeTimes, condition, 'CW', {unit}, color='{color}', xlabel=False, ylabel=False, plotvelocity=True, velocitycolor='{velocitycolor}', velocityalpha={velocityalpha}, show=False)\",\n",
    "                  f\"plotRaster(SpikeTimes, condition, 'CCW', {unit}, color='{color}', xlabel=False, ylabel=False, plotvelocity=True, velocitycolor='{velocitycolor}', velocityalpha={velocityalpha}, show=False)\",\n",
    "                  suptitle=f'Unit {unit} {modulated} modulated',\n",
    "                  supxlabel='Time (s)',\n",
    "                  supylabel='# Trial',\n",
    "                  save=save,\n",
    "                  filename=filename,\n",
    "                  show=show,\n",
    "                  ncols=2\n",
    "            )"
   ]
  },
  {
   "cell_type": "markdown",
   "metadata": {},
   "source": [
    "## <span style=\"border: 2px solid #1c75c8; padding: 3px; background-color: #c5ddf6; color: black\"><strong>split_path(path)</strong></span>"
   ]
  },
  {
   "cell_type": "code",
   "execution_count": 11,
   "metadata": {},
   "outputs": [],
   "source": [
    "def split_path(path):\n",
    "    drive, path_without_drive = os.path.splitdrive(path)\n",
    "    path_segments = []\n",
    "    while True:\n",
    "        head, tail = os.path.split(path_without_drive)\n",
    "        if tail:\n",
    "            path_segments.insert(0, tail)\n",
    "            path_without_drive = head\n",
    "        else:\n",
    "            if head:\n",
    "                path_segments.insert(0, head)\n",
    "            break\n",
    "    path_segments.insert(0, drive)\n",
    "    return path_segments"
   ]
  },
  {
   "cell_type": "markdown",
   "metadata": {},
   "source": [
    "## <span style=\"border: 2px solid #1c75c8; padding: 3px; background-color: #c5ddf6; color: black\"><strong>Find Peaks</strong></span>"
   ]
  },
  {
   "cell_type": "code",
   "execution_count": 12,
   "metadata": {},
   "outputs": [],
   "source": [
    "def find_peaks(studiedRef, f):\n",
    "    centered_peaks, _ = scipy.signal.find_peaks(studiedRef, plateau_size=(0.3*f,5*f))\n",
    "\n",
    "    AllPeaks, _ = scipy.signal.find_peaks(np.diff(studiedRef))\n",
    "\n",
    "    peaks = []\n",
    "    for center_pic in centered_peaks:\n",
    "        peaks.append(AllPeaks[(AllPeaks > center_pic - 3 * f) & (AllPeaks < center_pic)][0])\n",
    "\n",
    "    return peaks"
   ]
  },
  {
   "cell_type": "markdown",
   "metadata": {},
   "source": [
    "# <span style=\"border: 2px solid #1c75c8; padding: 3px; background-color: #c5ddf6; color: black\"><strong>Initiation</strong></span>"
   ]
  },
  {
   "cell_type": "markdown",
   "metadata": {},
   "source": [
    "## <span style=\"border: 2px solid #1c75c8; padding: 3px; background-color: #c5ddf6; color: black\"><strong>Paths</strong></span>"
   ]
  },
  {
   "cell_type": "code",
   "execution_count": 13,
   "metadata": {},
   "outputs": [],
   "source": [
    "parent_folder = os.path.dirname(selected_path)\n",
    "\n",
    "exp_id = \"_\".join([element for element in split_path(selected_path) if 'animal' in element][0].split('_')[0:2])\n",
    "\n",
    "saving_folder = fr'C:\\Users\\ayazici\\Documents\\Analyses\\{exp_id}\\rotation'"
   ]
  },
  {
   "cell_type": "markdown",
   "metadata": {},
   "source": [
    "## <span style=\"border: 2px solid #1c75c8; padding: 3px; background-color: #c5ddf6; color: black\"><strong>Determination of Parameters</strong></span>"
   ]
  },
  {
   "cell_type": "code",
   "execution_count": 14,
   "metadata": {},
   "outputs": [],
   "source": [
    "timeBef   = 2\n",
    "timeAft   = 8\n",
    "\n",
    "refValue          = 'din04'\n",
    "chanSpace         = 20                 #um\n",
    "rotationSpeed     = 80                 #deg/s\n",
    "ProbeType         = '32_optoElectrode'"
   ]
  },
  {
   "cell_type": "markdown",
   "metadata": {},
   "source": [
    "## <span style=\"border: 2px solid #1c75c8; padding: 3px; background-color: #c5ddf6; color: black\"><strong>Data Importation</strong></span>"
   ]
  },
  {
   "cell_type": "markdown",
   "metadata": {},
   "source": [
    "### For MUA"
   ]
  },
  {
   "cell_type": "code",
   "execution_count": 15,
   "metadata": {},
   "outputs": [],
   "source": [
    "times_polytrodeAll = scipy.io.loadmat(os.path.join(selected_path, 'times_polytrodeAll.mat'))\n",
    "m_class = times_polytrodeAll['mua_class']\n",
    "'''\n",
    "m_class[:,0] : indice of the cluster for each index\n",
    "m_class[:,1] : time of the spike in ms\n",
    "m_class[:,1]/1000 : time of the spike in s\n",
    "'''\n",
    "\n",
    "muaWf = times_polytrodeAll['clusWFmua']"
   ]
  },
  {
   "cell_type": "markdown",
   "metadata": {},
   "source": [
    "### For SUA"
   ]
  },
  {
   "cell_type": "code",
   "execution_count": 16,
   "metadata": {},
   "outputs": [],
   "source": [
    "c_class = times_polytrodeAll['cluster_class']  # units and associated time spiking\n",
    "\n",
    "temp_idx = c_class[:,0]    # units\n",
    "\n",
    "# find the units and remove the MUA\n",
    "units = temp_idx!=0\n",
    "temp_clus = c_class[units,0]\n",
    "\n",
    "Nclust = len(np.unique(temp_clus))\n",
    "\n",
    "# if not studied_unit:\n",
    "#     studied_unit = list(range(1,Nclust+1))\n",
    "\n",
    "temp_time = c_class[units,1]/1000  # temps de spike en seconde\n",
    "\n",
    "temp_time_clust = []\n",
    "\n",
    "for unit in range(Nclust):\n",
    "    temps_spikes_sec = c_class[np.where(c_class[:,0]==unit)][:,1] / 1000\n",
    "    temp_time_clust.append(temps_spikes_sec)"
   ]
  },
  {
   "cell_type": "markdown",
   "metadata": {},
   "source": [
    "### General"
   ]
  },
  {
   "cell_type": "code",
   "execution_count": 17,
   "metadata": {},
   "outputs": [],
   "source": [
    "clusterParam = h5py.File(os.path.join(selected_path,'rez.mat'),'r')['rez']\n",
    "infos = clusterParam['ops']\n",
    "f = int(infos['fs'][0][0])\n",
    "\n",
    "os.chdir(parent_folder)\n",
    "\n",
    "table_velocity = np.squeeze(h5py.File(os.path.join(parent_folder, f\"{exp_id}_ADC00.mat\"), 'r')['data'])\n",
    "\n",
    "try:\n",
    "    stereotaxic = h5py.File(os.path.join(parent_folder, f\"VelocityData_{exp_id}.mat\"), 'r')\n",
    "except:\n",
    "    stereotaxic = scipy.io.loadmat(os.path.join(parent_folder, f\"VelocityData_{exp_id}.mat\"))\n",
    "ML_pos = np.squeeze(stereotaxic['All_ML'])[0]\n",
    "AP_pos = np.squeeze(stereotaxic['All_AP'])[0]"
   ]
  },
  {
   "cell_type": "code",
   "execution_count": 18,
   "metadata": {},
   "outputs": [],
   "source": [
    "#Load all the digital Input on the workspace\n",
    "\n",
    "#DIN01 => photodiiode 1 is trig CAM\n",
    "#DIN02 => LED\n",
    "#DIN03 => trig ttl frame camera\n",
    "#DIN04 => photodiiode 2 is the VS and start turntable\n",
    "\n",
    "din = {\n",
    "    '01':[],\n",
    "    '02':[],\n",
    "    '03':[],\n",
    "    '04':[]\n",
    "}\n",
    "\n",
    "for dinkey in din.keys():\n",
    "    filename = exp_id + '_DIN'+ str(dinkey) + '.mat'\n",
    "    #with h5py.File(filename, 'r') as file:\n",
    "    #    din[str(dinkey)] = file['data'][:]\n",
    "    din[str(dinkey)] = np.squeeze(h5py.File(filename, 'r')['data'])\n",
    "\n",
    "\n",
    "if refValue == 'din01':\n",
    "    ref = din['01']\n",
    "elif refValue == 'din02':\n",
    "    ref = din['02']\n",
    "elif refValue == 'din03':\n",
    "    ref = din['03']\n",
    "elif refValue == 'din04':\n",
    "    ref = din['04']\n",
    "else:\n",
    "    print('Take a look to the indicated ref din')\n",
    "\n",
    "\n",
    "time = np.arange(len(din['01'])) / f"
   ]
  },
  {
   "cell_type": "markdown",
   "metadata": {},
   "source": [
    "## <span style=\"border: 2px solid #1c75c8; padding: 3px; background-color: #c5ddf6; color: black\"><strong>Trials beginning</strong></span>"
   ]
  },
  {
   "cell_type": "code",
   "execution_count": 19,
   "metadata": {},
   "outputs": [],
   "source": [
    "def find_separation():\n",
    "    largest_interval = 0\n",
    "    foo, _ = scipy.signal.find_peaks(np.diff(ref))\n",
    "    for i in range(1, len(foo)):\n",
    "        interval = foo[i] - foo[i-1]\n",
    "        if interval > largest_interval:\n",
    "            largest_interval = interval\n",
    "            mean_index = int(((foo[i] + foo[i-1]) / 2)/f)*f\n",
    "    return mean_index\n",
    "\n",
    "limit = find_separation()"
   ]
  },
  {
   "cell_type": "code",
   "execution_count": 20,
   "metadata": {},
   "outputs": [],
   "source": [
    "time = time[limit:]\n",
    "table_velocity = table_velocity[limit:]\n",
    "ref = ref[limit:]"
   ]
  },
  {
   "cell_type": "code",
   "execution_count": 21,
   "metadata": {},
   "outputs": [],
   "source": [
    "peaks = find_peaks(ref, f)"
   ]
  },
  {
   "cell_type": "code",
   "execution_count": 22,
   "metadata": {},
   "outputs": [
    {
     "name": "stdout",
     "output_type": "stream",
     "text": [
      "Number of trials : 136\n"
     ]
    }
   ],
   "source": [
    "Ntrial = len(peaks)\n",
    "\n",
    "print(\"Number of trials :\", Ntrial)"
   ]
  },
  {
   "cell_type": "markdown",
   "metadata": {},
   "source": [
    "# <span style=\"border: 2px solid #1c75c8; padding: 3px; background-color: #c5ddf6; color: black\"><strong>Rotation Objects</strong></span>"
   ]
  },
  {
   "cell_type": "code",
   "execution_count": 23,
   "metadata": {},
   "outputs": [],
   "source": [
    "duration = []\n",
    "RotationWise = []\n",
    "MeanRotation = {'CW':[], 'CCW':[], 'NotResponding':[]}\n",
    "\n",
    "def center_reduce(data):\n",
    "    foo = savgol_filter(np.mean(data, axis=0), 50, 1)\n",
    "    return foo/max(abs(foo))*rotationSpeed if max(abs(foo))>rotationSpeed/2 else foo/max(abs(foo))\n",
    "\n",
    "def find_starting(data, direction):\n",
    "    if direction == 'CW':\n",
    "        seuil = np.mean(data[:2*f])+6*np.std(data[:baselineLenght*f])\n",
    "        shiftIndex = np.where(data > seuil)[0][0]\n",
    "    else:\n",
    "        seuil = np.mean(data[:2*f])-6*np.std(data[:baselineLenght*f])\n",
    "        shiftIndex = np.where(data < seuil)[0][0]\n",
    "    return shiftIndex\n",
    "\n",
    "\n",
    "rotationfooCW, rotationfooCCW, rotationfooNone = ([] for _ in range(3))\n",
    "\n",
    "for peak in peaks:\n",
    "    extra = 3\n",
    "    baselineLenght = 3\n",
    "    timeBefExtra = timeBef + extra ; timeAftExtra = timeAft + extra\n",
    "\n",
    "    table_turn_trial = table_velocity[peak - timeBefExtra*f: peak + timeAftExtra*f]\n",
    "    baseline = np.mean(table_turn_trial[:baselineLenght*f])\n",
    "    table_turn_trial = table_turn_trial - baseline\n",
    "    std = np.std(table_turn_trial[:baselineLenght*f]) ; baseline = np.mean(table_turn_trial[:baselineLenght*f])\n",
    "\n",
    "    if np.mean(table_turn_trial[timeBefExtra*f:(timeBefExtra+4)*f])>baseline+4*std:\n",
    "        RotationWise.append('CW') \n",
    "        rotationfooCW.append(table_turn_trial)\n",
    "    elif np.mean(table_turn_trial[timeBefExtra*f:(timeBefExtra+4)*f])<-baseline-4*std:\n",
    "        RotationWise.append('CCW')\n",
    "        rotationfooCCW.append(table_turn_trial)\n",
    "    else:\n",
    "        RotationWise.append('NotResponding')\n",
    "        rotationfooNone.append(table_turn_trial)\n",
    "\n",
    "MeanRotation['CW'], MeanRotation['CCW'], MeanRotation['NotResponding'] = center_reduce(rotationfooCW), center_reduce(rotationfooCCW), center_reduce(rotationfooNone)\n",
    "\n",
    "startCW = find_starting(MeanRotation['CW'], 'CW')\n",
    "startCCW = find_starting(MeanRotation['CCW'], 'CCW')\n",
    "start = int(np.mean([startCW, startCCW]))\n",
    "shiftIndex = start - timeBef*f - extra*f\n",
    "duration = np.arange(-timeBef, timeAft, 1/f)\n",
    "    \n",
    "\n",
    "for direction in ['CW', 'CCW', 'NotResponding']:\n",
    "    MeanRotation[direction] = MeanRotation[direction][extra*f+shiftIndex:-extra*f+shiftIndex]"
   ]
  },
  {
   "cell_type": "markdown",
   "metadata": {},
   "source": [
    "## <span style=\"border: 2px solid #1c75c8; padding: 3px; background-color: #c5ddf6; color: black\"><strong>Velocity plots</strong></span>"
   ]
  },
  {
   "cell_type": "code",
   "execution_count": 24,
   "metadata": {},
   "outputs": [
    {
     "data": {
      "image/png": "[encoded data removed]",
      "text/plain": [
       "<Figure size 640x480 with 1 Axes>"
      ]
     },
     "metadata": {},
     "output_type": "display_data"
    }
   ],
   "source": [
    "plt.plot(duration, MeanRotation['CW'], label='CW')\n",
    "plt.show()"
   ]
  },
  {
   "cell_type": "markdown",
   "metadata": {},
   "source": [
    "## <span style=\"border: 2px solid #1c75c8; padding: 3px; background-color: #c5ddf6; color: black\"><strong>Shift between 0 and rotation</strong></span>"
   ]
  },
  {
   "cell_type": "code",
   "execution_count": 25,
   "metadata": {},
   "outputs": [
    {
     "name": "stdout",
     "output_type": "stream",
     "text": [
      "31931, 771.0643666666666\n"
     ]
    }
   ],
   "source": [
    "print(f\"{shiftIndex}, {time[shiftIndex]}\")"
   ]
  },
  {
   "cell_type": "markdown",
   "metadata": {},
   "source": [
    "## <span style=\"border: 2px solid #1c75c8; padding: 3px; background-color: #c5ddf6; color: black\"><strong>Plots Mean Rotations</strong></span>"
   ]
  },
  {
   "cell_type": "code",
   "execution_count": 26,
   "metadata": {},
   "outputs": [
    {
     "data": {
      "image/png": "[encoded data removed]",
      "text/plain": [
       "<Figure size 900x500 with 3 Axes>"
      ]
     },
     "metadata": {},
     "output_type": "display_data"
    }
   ],
   "source": [
    "plots(\n",
    "    \"plotVelocity(MeanRotation, 'CW', duration, rotationSpeed, color='orange', xlabel=False, ylabel=False, show=False)\",\n",
    "    \"plotVelocity(MeanRotation, 'CCW', duration, rotationSpeed, color='purple', xlabel=False, ylabel=False, show=False)\",\n",
    "    \"plotVelocity(MeanRotation, 'NotResponding', duration, rotationSpeed, color='yellow', xlabel=False, ylabel=False, show=False)\",\n",
    "    supxlabel='Time (s)',\n",
    "    supylabel='Mean Velocity (°/s)',\n",
    "    ncols=1\n",
    ")"
   ]
  },
  {
   "cell_type": "markdown",
   "metadata": {},
   "source": [
    "# <span style=\"border: 2px solid #1c75c8; padding: 3px; background-color: #c5ddf6; color: black\"><strong>MUA Analysis</strong></span>"
   ]
  },
  {
   "cell_type": "markdown",
   "metadata": {},
   "source": [
    "## <span style=\"border: 2px solid #1c75c8; padding: 3px; background-color: #c5ddf6; color: black\"><strong>Depths determination</strong></span>"
   ]
  },
  {
   "cell_type": "code",
   "execution_count": 27,
   "metadata": {},
   "outputs": [],
   "source": [
    "# get the number of units\n",
    "Nclust_mua = len(np.unique(m_class[:,0]))\n",
    "ind_mua = m_class[:,0]\n",
    "\n",
    "\n",
    "# find the peak wf to find the depth\n",
    "szm = muaWf.shape\n",
    "# DEPTH of the unit\n",
    "# Get the mua activity that is in index 0 of the clusWF\n",
    "\n",
    "allBasem = np.zeros((szm[1],szm[2]))\n",
    "PkDepthUnit = np.zeros((szm[0], 1))\n",
    "minMatrixm = np.zeros((szm[0], 1))\n",
    "\n",
    "for spm in range(szm[0]):\n",
    "    baselinem = np.mean(muaWf[spm][0:5],axis=0)-500 # offset -500 for potential positive baseline\n",
    "\n",
    "    for bm in range(szm[2]):\n",
    "        allBasem[:,bm] = baselinem[bm]*np.ones((szm[1]))\n",
    "\n",
    "    spikeWavm = muaWf[spm,:,:]-500\n",
    "    wfm = spikeWavm - allBasem\n",
    "\n",
    "    minMatrixm[spm] = np.min(wfm)\n",
    "\n",
    "    argMm = np.where(wfm==minMatrixm[spm])\n",
    "    # get the depth of the unit\n",
    "    uout = np.unique(argMm[1])\n",
    "    argMm = []\n",
    "    argMm = uout[0]\n",
    "    PkDepthUnit[spm] = (argMm+1)*chanSpace # +1 because of Python indexation"
   ]
  },
  {
   "cell_type": "code",
   "execution_count": 28,
   "metadata": {},
   "outputs": [],
   "source": [
    "x = 0 # depth of the tetrode\n",
    "\n",
    "mapp = np.squeeze(infos['chanMap'])\n",
    "\n",
    "if len(mapp)==32:\n",
    "    Ntet = 16\n",
    "elif len(mapp)==64:\n",
    "    Ntet = 32\n",
    "    chanSpace = chanSpace/2\n",
    "else:\n",
    "    print('WEIRD NUMBER OF TETRODES')\n",
    "\n",
    "ArgallLayers = {i: [] for i in range(Ntet)}\n",
    "\n",
    "factorTet = chanSpace * len(mapp)/Ntet\n",
    "\n",
    "for lay in range(Ntet):\n",
    "    # H5 electrode\n",
    "    if np.sum(mapp[0:4]==[33, 38, 44, 40])==4:\n",
    "        ArgallLayers[lay] = np.where((PkDepthUnit <= x+factorTet) & (PkDepthUnit > x))[0]\n",
    "    else:\n",
    "        ArgallLayers[lay] = np.where((PkDepthUnit <= x+factorTet) & (PkDepthUnit > x))[0]\n",
    "    x += factorTet"
   ]
  },
  {
   "cell_type": "markdown",
   "metadata": {},
   "source": [
    "## <span style=\"border: 2px solid #1c75c8; padding: 3px; background-color: #c5ddf6; color: black\"><strong>Associating tetrodes with depth</strong></span>"
   ]
  },
  {
   "cell_type": "code",
   "execution_count": 29,
   "metadata": {},
   "outputs": [],
   "source": [
    "m_class_tet = np.zeros((len(m_class),2))\n",
    "\n",
    "\n",
    "# First column\n",
    "for tet in ArgallLayers:\n",
    "    for unit in ArgallLayers[tet]:\n",
    "        pos = np.where(m_class[:,0]-1 == unit)[0]\n",
    "        m_class_tet[pos,0] = tet\n",
    "        \n",
    "# Second column \n",
    "m_class_tet[:,1] = m_class[:,1]"
   ]
  },
  {
   "cell_type": "markdown",
   "metadata": {},
   "source": [
    "## <span style=\"border: 2px solid #1c75c8; padding: 3px; background-color: #c5ddf6; color: black\"><strong>Spiking times of tetrodes</strong></span>"
   ]
  },
  {
   "cell_type": "code",
   "execution_count": 30,
   "metadata": {},
   "outputs": [],
   "source": [
    "AllSpikeTimesMUA = np.empty((Ntet,Ntrial),dtype=object)\n",
    "\n",
    "\n",
    "for tet in range(Ntet):\n",
    "    spikingTimeTet = m_class_tet[np.where(m_class_tet[:,0] == tet)[0],1]/1000\n",
    "\n",
    "    \n",
    "    \n",
    "\n",
    "    for trial in range(Ntrial):\n",
    "        upperTime = (peaks[trial]+shiftIndex)/f + timeAft + limit/f\n",
    "        lowerTime = (peaks[trial]+shiftIndex)/f - timeBef + limit/f\n",
    "        rectifierTime = - lowerTime - timeBef\n",
    "        \n",
    "        boolean = (spikingTimeTet > lowerTime) & (spikingTimeTet < upperTime)\n",
    "        AllSpikeTimesMUA[tet][trial] = spikingTimeTet[boolean] + rectifierTime"
   ]
  },
  {
   "cell_type": "code",
   "execution_count": 31,
   "metadata": {},
   "outputs": [],
   "source": [
    "SpikeTimesMUA = {\n",
    "    'CW': [[] for _ in range(Ntet)],\n",
    "    'CCW': [[] for _ in range(Ntet)],\n",
    "    'NotResponding': [[] for _ in range(Ntet)]\n",
    "}\n",
    "\n",
    "\n",
    "for tet in range(len(AllSpikeTimesMUA)):\n",
    "    for trial in range(Ntrial):\n",
    "        if RotationWise[trial] == 'CW':\n",
    "            direction = 'CW'\n",
    "        elif RotationWise[trial] == 'CCW':\n",
    "            direction = 'CCW'\n",
    "        else:\n",
    "            direction = 'NotResponding'\n",
    "        \n",
    "        SpikeTimesMUA[direction][tet].append([AllSpikeTimesMUA[tet][trial]])\n",
    "\n",
    "        \n",
    "for condition in SpikeTimesMUA:\n",
    "    for tet in range(len(SpikeTimesMUA[condition])):\n",
    "        SpikeTimesMUA[condition][tet] = np.array([SpikeTimesMUA[condition][tet][trial][0] for trial in range(len(SpikeTimesMUA[condition][tet]))], dtype=object)"
   ]
  },
  {
   "cell_type": "markdown",
   "metadata": {},
   "source": [
    "## <span style=\"border: 2px solid #1c75c8; padding: 3px; background-color: #c5ddf6; color: black\"><strong>Automatic detection of 0</strong></span>"
   ]
  },
  {
   "cell_type": "code",
   "execution_count": 32,
   "metadata": {},
   "outputs": [
    {
     "name": "stdout",
     "output_type": "stream",
     "text": [
      "Automatic detection of the LP is the tetrode #1 (Python indexation)\n"
     ]
    }
   ],
   "source": [
    "for tet in range(Ntet):\n",
    "    if (SpikeTimesMUA['CW'][tet].size == 0) and (SpikeTimesMUA['CW'][tet+1].size != 0):\n",
    "        LP_ref = tet+1\n",
    "        break\n",
    "\n",
    "for tet in range(Ntet):\n",
    "    if (SpikeTimesMUA['CCW'][tet].size == 0) and (SpikeTimesMUA['CCW'][tet+1].size != 0):\n",
    "        if LP_ref != tet+1:\n",
    "            raise Exception(\"Do detection manually bro.\")\n",
    "        break\n",
    "\n",
    "print(f\"Automatic detection of the LP is the tetrode #{LP_ref} (Python indexation)\")"
   ]
  },
  {
   "cell_type": "code",
   "execution_count": 33,
   "metadata": {},
   "outputs": [],
   "source": [
    "DepthTetrode = np.zeros(Ntet)\n",
    "AllDepth = np.zeros(Nclust)\n",
    "\n",
    "for tet in range(Ntet):\n",
    "    DepthTetrode[tet] = (tet-LP_ref)*factorTet\n",
    "\n",
    "for unit in range(Nclust):\n",
    "    AllDepth[unit] = PkDepthUnit[unit][0] - LP_ref*factorTet"
   ]
  },
  {
   "cell_type": "markdown",
   "metadata": {},
   "source": [
    "## <span style=\"border: 2px solid #1c75c8; padding: 3px; background-color: #c5ddf6; color: black\"><strong>Saving Figures</strong></span>"
   ]
  },
  {
   "cell_type": "code",
   "execution_count": 34,
   "metadata": {},
   "outputs": [],
   "source": [
    "MUA_saving_folder = os.path.join(saving_folder, 'MUA')\n",
    "os.makedirs(MUA_saving_folder, exist_ok=True)\n",
    "\n",
    "for tet in range(Ntet):\n",
    "        plots(\n",
    "                \"plotRaster(SpikeTimesMUA, 'CW', tet, color='c', xlabel=False, plotvelocity=True, velocitycolor='red', velocityalpha=0.1, show=False, psth=True, psthcolor='blue', shadedcolor='blue', smooth=False, title='CW')\",\n",
    "                \"plotRaster(SpikeTimesMUA, 'CCW', tet, color='c', xlabel=False, plotvelocity=True, velocitycolor='red', velocityalpha=0.1, show=False, ylabel=False, psth=True, psthcolor='blue', shadedcolor='blue', smooth=False, title='CCW')\",\n",
    "                suptitle=f\"MUA Rotation tetrode#{tet} {exp_id}\\n(Automatic detection of 0 for tet#{LP_ref})\",\n",
    "                save = Saving_boolean,\n",
    "                filename = os.path.join(MUA_saving_folder,f\"MUA_rotation_{exp_id}_tet#{tet}.png\"),\n",
    "                ncols=2,\n",
    "                size=(15,5),\n",
    "                show=False\n",
    "        )"
   ]
  },
  {
   "cell_type": "markdown",
   "metadata": {},
   "source": [
    "# <span style=\"border: 2px solid #1c75c8; padding: 3px; background-color: #c5ddf6; color: black\"><strong>SUA Analysis</strong></span>"
   ]
  },
  {
   "cell_type": "markdown",
   "metadata": {},
   "source": [
    "## <span style=\"border: 2px solid #1c75c8; padding: 3px; background-color: #c5ddf6; color: black\"><strong>All Spiking Times</strong></span>"
   ]
  },
  {
   "cell_type": "code",
   "execution_count": 35,
   "metadata": {},
   "outputs": [],
   "source": [
    "## Spike times organized by cluster\n",
    "AllSpikeTimes = np.empty((Nclust, Ntrial), dtype=object)\n",
    "\n",
    "\n",
    "for unit in range(Nclust):\n",
    "    spikingTimeClus = temp_time_clust[unit]\n",
    "\n",
    "    for trial in range(Ntrial):\n",
    "        upperTime = (peaks[trial]+shiftIndex)/f + timeAft + limit/f\n",
    "        lowerTime = (peaks[trial]+shiftIndex)/f - timeBef + limit/f\n",
    "        rectifierTime = - lowerTime - timeBef\n",
    "\n",
    "        bornes = np.logical_and(lowerTime < spikingTimeClus, spikingTimeClus < upperTime)\n",
    "\n",
    "        AllSpikeTimes[unit][trial] = spikingTimeClus[bornes] + rectifierTime"
   ]
  },
  {
   "cell_type": "markdown",
   "metadata": {},
   "source": [
    "## <span style=\"border: 2px solid #1c75c8; padding: 3px; background-color: #c5ddf6; color: black\"><strong>Spiking times according to condition</strong></span>"
   ]
  },
  {
   "cell_type": "code",
   "execution_count": 36,
   "metadata": {},
   "outputs": [],
   "source": [
    "SpikeTimes = {\n",
    "    'CW': [[] for _ in range(Nclust)],\n",
    "    'CCW': [[] for _ in range(Nclust)],\n",
    "    'NotResponding': [[] for _ in range(Nclust)]\n",
    "}\n",
    "\n",
    "\n",
    "for neuron in range(len(AllSpikeTimes)):\n",
    "    for trial in range(Ntrial):\n",
    "        if RotationWise[trial] == 'CW':\n",
    "            condition = 'CW'\n",
    "        elif RotationWise[trial] == 'CCW':\n",
    "            condition = 'CCW'\n",
    "        else:\n",
    "            condition = 'NotResponding'\n",
    "        \n",
    "        SpikeTimes[condition][neuron].append([AllSpikeTimes[neuron][trial]])\n",
    "\n",
    "\n",
    "for condition in SpikeTimes:\n",
    "    for unit in range(len(SpikeTimes[condition])):\n",
    "        SpikeTimes[condition][unit] = np.array([SpikeTimes[condition][unit][trial][0] for trial in range(len(SpikeTimes[condition][unit]))], dtype=object)"
   ]
  },
  {
   "cell_type": "markdown",
   "metadata": {},
   "source": [
    "## <span style=\"border: 2px solid #1c75c8; padding: 3px; background-color: #c5ddf6; color: black\"><strong>Raster plots</strong></span>"
   ]
  },
  {
   "cell_type": "code",
   "execution_count": 37,
   "metadata": {},
   "outputs": [],
   "source": [
    "Raster_saving_folder = os.path.join(saving_folder, 'Raster')\n",
    "os.makedirs(Raster_saving_folder, exist_ok=True)\n",
    "\n",
    "\n",
    "for condition in ['CW', 'CCW', 'NotResponding']:\n",
    "    number = len(SpikeTimes[condition])\n",
    "    element = f\"Rotation {condition}\"\n",
    "    plots(\n",
    "        *[f\"plotRaster(SpikeTimes, '{condition}', {unit}, show=False, xlabel=False, ylabel=False, title='{unit}', color='blue', psth=True, psthcolor='red', shadedcolor='red')\" for unit in range(number)],\n",
    "        suptitle=f\"{element} {exp_id}\",\n",
    "        save=Saving_boolean,\n",
    "        filename=os.path.join(Raster_saving_folder, f\"Raster_{exp_id}_{condition}.png\"),\n",
    "        size=(15,10),\n",
    "        show=False\n",
    "    )"
   ]
  },
  {
   "cell_type": "code",
   "execution_count": 38,
   "metadata": {},
   "outputs": [],
   "source": [
    "All_raster_saving_folder = os.path.join(saving_folder, 'Raster', 'All')\n",
    "for direction in ['CW', 'CCW', 'NotResponding']:\n",
    "    os.makedirs(os.path.join(All_raster_saving_folder, direction), exist_ok=True)\n",
    "\n",
    "for condition in ['CW', 'CCW', 'NotResponding']:\n",
    "    element = f\"Rotation {condition}\"\n",
    "    for unit in range(len(SpikeTimes[condition])):\n",
    "        plotRaster(SpikeTimes, condition, unit,\n",
    "                   title=f\"Unit {unit} - {condition} rotation - {exp_id}\",\n",
    "                   color='blue',\n",
    "                   psth=True, psthcolor='red', shadedcolor='red',\n",
    "                   save=Saving_boolean,\n",
    "                   filename=os.path.join(All_raster_saving_folder, condition, f\"Raster_{exp_id}_{condition}_unit{unit}.png\"),\n",
    "                   show=False)"
   ]
  },
  {
   "cell_type": "markdown",
   "metadata": {},
   "source": [
    "## <span style=\"border: 2px solid #1c75c8; padding: 3px; background-color: #c5ddf6; color: black\"><strong>PSTH Heatmap</strong></span>"
   ]
  },
  {
   "cell_type": "code",
   "execution_count": 39,
   "metadata": {},
   "outputs": [],
   "source": [
    "# Zmaxiscore = [[] for _ in range(len(SpikeTimes['first']['CW']))]\n",
    "\n",
    "# for unit in range(len(SpikeTimes['first']['CW'])):\n",
    "#     StudiedSpikeTimes = SpikeTimes['first']['CW'][unit]\n",
    "\n",
    "#     color='k'\n",
    "#     shadedcolor='k'\n",
    "#     ylabel=True\n",
    "#     xlabel=True\n",
    "\n",
    "#     local_trial_number = len(StudiedSpikeTimes)\n",
    "\n",
    "#     binResolution=0.03\n",
    "\n",
    "#     spike_number_per_trial = [[] for _ in range(local_trial_number)]\n",
    "#     edges = []\n",
    "#     unitary_firing_rate = [[] for _ in range(local_trial_number)]\n",
    "\n",
    "#     for trial in range(local_trial_number):\n",
    "#         spike_number_per_trial[trial], edges = np.histogram(StudiedSpikeTimes[trial], bins=np.arange(-timeBef, timeAft + binResolution, binResolution))\n",
    "\n",
    "#     frequency_per_trial = [[spike_number_per_trial[trial][bin]/binResolution for bin in range(len(edges)-1)] for trial in range(local_trial_number)]\n",
    "#     mean_frequency = [np.mean([frequency_per_trial[trial][bin] for trial in range(local_trial_number)]) for bin in range(len(edges)-1)]\n",
    "\n",
    "#     Zscore = (mean_frequency - np.mean(mean_frequency)) / np.std(mean_frequency)\n",
    "#     Zunitary = (frequency_per_trial - np.mean(mean_frequency)) / np.std(mean_frequency)\n",
    "#     SEM = np.std(Zunitary)/np.sqrt(len(Zunitary))\n",
    "\n",
    "#     # # plt.figure(figsize=(15,6))\n",
    "#     # plt.plot(edges[:-1], Zscore, color=color)\n",
    "#     # plt.fill_between(edges[:-1], Zscore-SEM, Zscore+SEM, alpha=0.1, color=shadedcolor)\n",
    "#     # plt.xlim(-timeBef,timeAft)\n",
    "#     # if ylabel:\n",
    "#     #     plt.ylabel('PSTH')\n",
    "#     # if xlabel:\n",
    "#     #     plt.xlabel('Time (s)')\n",
    "#     # plt.show()\n",
    "\n",
    "#     Zmaxiscore[unit] = Zscore\n",
    "\n",
    "\n",
    "\n",
    "# # del Zmaxiscore[22]\n",
    "\n",
    "\n",
    "# # # Créer des données aléatoires pour le heatmap (une matrice 10x10)\n",
    "# # data = np.random.rand(10, 100)\n",
    "\n",
    "# # Afficher le heatmap\n",
    "# plt.figure(figsize=(15, 5))\n",
    "# plt.imshow(Zmaxiscore, cmap='coolwarm', interpolation='nearest', vmin=-2,vmax=2)\n",
    "# plt.colorbar()  # Ajouter une barre de couleur pour référence\n",
    "# # plt.xticks(duration)\n",
    "# plt.show()"
   ]
  },
  {
   "cell_type": "markdown",
   "metadata": {},
   "source": [
    "## <span style=\"border: 2px solid #1c75c8; padding: 3px; background-color: #c5ddf6; color: black\"><strong>Statistics</strong></span>"
   ]
  },
  {
   "cell_type": "markdown",
   "metadata": {},
   "source": [
    "### <span style=\"border: 2px solid #1c75c8; padding: 3px; background-color: #c5ddf6; color: black\"><strong>Spike counting</strong></span>"
   ]
  },
  {
   "cell_type": "code",
   "execution_count": 40,
   "metadata": {},
   "outputs": [],
   "source": [
    "numberBef, numberDur, diffBefDur, sumBefDur = ({\n",
    "    'CW': [[] for _ in range(Nclust)],\n",
    "    'CCW': [[] for _ in range(Nclust)]\n",
    "} for _ in range(4))\n",
    "\n",
    "vMI = {\n",
    "    'CW': [[] for _ in range(Nclust)],\n",
    "    'CCW': [[] for _ in range(Nclust)]\n",
    "}\n",
    "\n",
    "dirMI = [[] for _ in range(Nclust)]\n",
    "\n",
    "\n",
    "foo = np.where(MeanRotation['CW'] > rotationSpeed/2)[0]\n",
    "windowDur = [foo[0], foo[-1]]\n",
    "windowBef = [1*f, 1*f+len(foo)]\n",
    "\n",
    "for condition in ['CW', 'CCW']:\n",
    "    for unit in range(Nclust):\n",
    "        for trial in range(len(SpikeTimes[condition][unit])):\n",
    "            fooSpike = SpikeTimes[condition][unit][trial]\n",
    "            numberBef[condition][unit].append(np.sum((fooSpike < duration[windowBef[1]]) & (fooSpike > duration[windowBef[0]])))\n",
    "            numberDur[condition][unit].append(np.sum((fooSpike < duration[windowDur[1]]) & (fooSpike > duration[windowDur[0]])))\n",
    "            diffBefDur[condition][unit].append(numberDur[condition][unit][-1] - np.mean(numberBef[condition][unit][-1]))\n",
    "            sumBefDur[condition][unit].append(numberDur[condition][unit][-1] + np.mean(numberBef[condition][unit][-1]))\n",
    "        vMI[condition][unit] = np.mean(diffBefDur[condition][unit]) / np.mean(sumBefDur[condition][unit])\n",
    "\n",
    "meanCW = np.mean(numberDur['CW'], axis=1)\n",
    "meanCCW = np.mean(numberDur['CCW'], axis=1)\n",
    "dirMI = (meanCW - meanCCW) / (meanCW + meanCCW)"
   ]
  },
  {
   "cell_type": "markdown",
   "metadata": {},
   "source": [
    "### <span style=\"border: 2px solid #1c75c8; padding: 3px; background-color: #c5ddf6; color: black\"><strong>Paired Wilcoxon Test</strong></span>"
   ]
  },
  {
   "cell_type": "code",
   "execution_count": 41,
   "metadata": {},
   "outputs": [
    {
     "name": "stderr",
     "output_type": "stream",
     "text": [
      "c:\\Users\\gbouvier\\AppData\\Local\\Programs\\Python\\Python312\\Lib\\site-packages\\scipy\\stats\\_axis_nan_policy.py:531: UserWarning: Exact p-value calculation does not work if there are zeros. Switching to normal approximation.\n",
      "  res = hypotest_fun_out(*samples, **kwds)\n"
     ]
    }
   ],
   "source": [
    "statistics_vMI, p_values_vMI = ({\n",
    "    'CW': [[] for _ in range(Nclust)],\n",
    "    'CCW': [[] for _ in range(Nclust)]\n",
    "} for _ in range(2))\n",
    "\n",
    "statistics_dirMI, p_values_dirMI = ([[] for _ in range(Nclust)] for _ in range(2))\n",
    "\n",
    "\n",
    "for condition in ['CW', 'CCW']:\n",
    "        for unit in range(Nclust):\n",
    "            try:\n",
    "                results_vMI = wilcoxon(numberBef[condition][unit], numberDur[condition][unit])\n",
    "                statistics_vMI[condition][unit].append(results_vMI[0])\n",
    "                p_values_vMI[condition][unit].append(results_vMI[1])\n",
    "            except ValueError:\n",
    "                statistics_vMI[condition][unit].append(0)\n",
    "                p_values_vMI[condition][unit].append(1)\n",
    "\n",
    "\n",
    "for unit in range(Nclust):\n",
    "    try:\n",
    "        results_dirMI = wilcoxon(numberDur['CW'][unit], numberDur['CCW'][unit])\n",
    "        statistics_dirMI[unit].append(results_dirMI[0])\n",
    "        p_values_dirMI[unit].append(results_dirMI[1])\n",
    "    except ValueError:\n",
    "        statistics_dirMI[unit].append(0)\n",
    "        p_values_dirMI[unit].append(1)"
   ]
  },
  {
   "cell_type": "markdown",
   "metadata": {},
   "source": [
    "### <span style=\"border: 2px solid #1c75c8; padding: 3px; background-color: #c5ddf6; color: black\"><strong>Determination of significant units by condition</strong></span>"
   ]
  },
  {
   "cell_type": "code",
   "execution_count": 42,
   "metadata": {},
   "outputs": [],
   "source": [
    "p_value_threshold = 0.05\n",
    "\n",
    "significance_vMI = {\n",
    "        'CW': [],\n",
    "        'CCW': []\n",
    "    }\n",
    "\n",
    "significance_dirMI = [[] for _ in range(Nclust)]\n",
    "\n",
    "\n",
    "\n",
    "for condition in ['CW', 'CCW']:\n",
    "    significance_vMI[condition] = np.where([p_values_vMI[condition][neuron][0]<p_value_threshold for neuron in range(Nclust)])[0]\n",
    "\n",
    "significance_dirMI = np.where([p_values_dirMI[neuron][0]<p_value_threshold for neuron in range(Nclust)])[0]"
   ]
  },
  {
   "cell_type": "markdown",
   "metadata": {},
   "source": [
    "### <span style=\"border: 2px solid #1c75c8; padding: 3px; background-color: #c5ddf6; color: black\"><strong>Visual Overview Of Spike Numbers Before & During</strong></span>"
   ]
  },
  {
   "cell_type": "markdown",
   "metadata": {},
   "source": [
    "### <span style=\"border: 2px solid #1c75c8; padding: 3px; background-color: #c5ddf6; color: black\"><strong>Resuming Modulations & Preferences</strong></span>"
   ]
  },
  {
   "cell_type": "code",
   "execution_count": 43,
   "metadata": {},
   "outputs": [],
   "source": [
    "modulation = {\n",
    "    'selectivity': [[] for _ in range(Nclust)],\n",
    "    'type': [[] for _ in range(Nclust)],\n",
    "}\n",
    "\n",
    "\n",
    "\n",
    "for unit in range(Nclust):\n",
    "    both = (unit in significance_vMI['CW']) and (unit in significance_vMI['CCW'])\n",
    "    CW = unit in significance_vMI['CW']\n",
    "    CCW = unit in significance_vMI['CCW']\n",
    "\n",
    "\n",
    "\n",
    "    if not (both or CW or CCW):\n",
    "        modulation['selectivity'][unit] = 'unmodulated'\n",
    "        modulation['type'][unit] = '0'\n",
    "    else:\n",
    "        fooCW = np.mean(diffBefDur['CW'][unit])\n",
    "        fooCCW = np.mean(diffBefDur['CCW'][unit])\n",
    "\n",
    "        if both:\n",
    "            modulation['selectivity'][unit] = 'both'\n",
    "            if (fooCW >= 0) and (fooCCW >= 0):\n",
    "                modulation['type'][unit] = '++'\n",
    "            elif (fooCW < 0) and (fooCCW < 0):\n",
    "                modulation[condition][unit]['type'] = '--'\n",
    "            elif (fooCW < 0) and (fooCCW >= 0):\n",
    "                modulation['type'][unit] = '-+'\n",
    "            elif (fooCW >= 0) and (fooCCW < 0):\n",
    "                modulation['type'][unit] = '+-'\n",
    "        elif CW:\n",
    "            modulation['selectivity'][unit] = 'CW'\n",
    "            modulation['type'][unit] = '+' if fooCW >= 0 else '-'\n",
    "        elif CCW:\n",
    "            modulation['selectivity'][unit] = 'CCW'\n",
    "            modulation['type'][unit] = '+' if fooCCW >= 0 else '-'\n",
    "\n",
    "\n",
    "# Convert lists -> NumPy\n",
    "for condition in modulation:\n",
    "    modulation[condition] = np.array(modulation[condition])"
   ]
  },
  {
   "cell_type": "code",
   "execution_count": 44,
   "metadata": {},
   "outputs": [],
   "source": [
    "preference = [[] for _ in range(Nclust)]\n",
    "\n",
    "\n",
    "for unit in range(Nclust):\n",
    "    if unit in significance_dirMI:\n",
    "        preference[unit] = 'CW' if dirMI[unit]>0 else 'CCW'\n",
    "    else:\n",
    "        preference[unit] = None"
   ]
  },
  {
   "cell_type": "code",
   "execution_count": 45,
   "metadata": {},
   "outputs": [],
   "source": [
    "Modulation_saving_folder = os.path.join(saving_folder, 'Modulation')\n",
    "for modulated in ['CW+', 'CCW+', 'CW-', 'CCW-', 'both++', 'both--', 'both+-', 'both-+', 'unmodulated0']:\n",
    "    os.makedirs(os.path.join(Modulation_saving_folder, modulated), exist_ok=True)\n",
    "\n",
    "\n",
    "for modulationWay in ['CW+', 'CCW+', 'CW-', 'CCW-', 'both++', 'both--', 'both+-', 'both-+', 'unmodulated0']:\n",
    "    selectivity_plus_type = [modulation['selectivity'][i] + modulation['type'][i] for i in range(Nclust)]\n",
    "    position = np.where(modulationWay == np.array(selectivity_plus_type))[0]\n",
    "    for i in position:\n",
    "        plt.figure(figsize=(15,5))\n",
    "        plt.subplot(3,2,1)\n",
    "        plt.plot(duration, MeanRotation['CW'], color='blue')\n",
    "        plt.ylim(-rotationSpeed, rotationSpeed)\n",
    "        plt.margins(0)\n",
    "        plt.axis('off')\n",
    "        plt.subplot(3,2,2)\n",
    "        plt.plot(duration, MeanRotation['CCW'], color='red')\n",
    "        plt.ylim(-rotationSpeed, rotationSpeed)\n",
    "        plt.margins(0)\n",
    "        plt.axis('off')\n",
    "        plt.subplot(3,2, (3, 5))\n",
    "        plotRaster(SpikeTimes, 'CW', i, color='c', show=False, psth=True, psthcolor='b', shadedcolor='b')\n",
    "        plt.subplot(3,2, (4, 6))\n",
    "        plotRaster(SpikeTimes, 'CCW', i, color='#FF69B4', show=False, ylabel=False, psth=True, psthcolor='red', shadedcolor='red')\n",
    "        #plt.subplot(221)\n",
    "        #plotRaster(SpikeTimes, 'CW', i, color='blue', show=False, xlabel=False, title='CW')\n",
    "        #plt.subplot(222)\n",
    "        #plotRaster(SpikeTimes, 'CCW', i, color='red', show=False, xlabel=False, title='CCW')\n",
    "        #plt.subplot(223)\n",
    "        #plotPSTH(SpikeTimes, 'CW', i, color='blue', shadedcolor='blue', show=False, plotvelocity=True, velocitycolor='blue', velocityalpha=0.5)\n",
    "        #plt.subplot(224)\n",
    "        #plotPSTH(SpikeTimes, 'CCW', i, color='red', shadedcolor='red', show=False, plotvelocity=True, velocitycolor='red', velocityalpha=0.5)\n",
    "        plt.suptitle(f\"Unit {i} {modulationWay} modulated -- {exp_id}\")\n",
    "        if Saving_boolean:\n",
    "            plt.savefig(os.path.join(Modulation_saving_folder, modulationWay, f\"Modulation_{modulationWay}_{exp_id}_unit#{i}.png\"))\n",
    "        plt.close()"
   ]
  },
  {
   "cell_type": "markdown",
   "metadata": {},
   "source": [
    "### <span style=\"border: 2px solid #1c75c8; padding: 3px; background-color: #c5ddf6; color: black\"><strong>Showing Numerical Results</strong></span>"
   ]
  },
  {
   "cell_type": "code",
   "execution_count": 46,
   "metadata": {},
   "outputs": [
    {
     "name": "stdout",
     "output_type": "stream",
     "text": [
      "Unit significantly CW-modulated : [ 0  1  2  3  5  7  8  9 11 12 13 14 15 16 17 18 19 20 24 25 26 27 28 29\n",
      " 31 32 33 34 35 36 38 40 44 47]\n",
      "\n",
      "Unit significantly CCW-modulated : [ 0  1  3  5  7  8  9 13 14 15 16 17 18 19 20 21 22 27 28 29 31 32 34 35\n",
      " 36 38 40 41 43 44 47]\n"
     ]
    }
   ],
   "source": [
    "print(f\"Unit significantly CW-modulated : {significance_vMI['CW']}\\n\")\n",
    "\n",
    "print(f\"Unit significantly CCW-modulated : {significance_vMI['CCW']}\")"
   ]
  },
  {
   "cell_type": "markdown",
   "metadata": {},
   "source": [
    "### <span style=\"border: 2px solid #1c75c8; padding: 3px; background-color: #c5ddf6; color: black\"><strong>Distributions</strong></span>"
   ]
  },
  {
   "cell_type": "code",
   "execution_count": 85,
   "metadata": {},
   "outputs": [],
   "source": [
    "#%matplotlib qt\n",
    "#%matplotlib inline\n",
    "if os.path.exists(r'c:\\Users\\ayazici\\Documents\\Analyses\\animal21_a53d1s1\\phototagging\\animal21_a53d1s1_phototagging_variables.pickle'):\n",
    "    %run c:\\Users\\ayazici\\BOUVIER\\phototagging_rotation.ipynb\n",
    "    #exec(open(r'c:\\Users\\ayazici\\BOUVIER\\test.ipynb').read())"
   ]
  },
  {
   "cell_type": "markdown",
   "metadata": {},
   "source": [
    "# <span style=\"border: 2px solid #1c75c8; padding: 3px; background-color: #c5ddf6; color: black\"><strong>Saving Variables</strong></span>"
   ]
  },
  {
   "cell_type": "code",
   "execution_count": 49,
   "metadata": {},
   "outputs": [],
   "source": [
    "if Saving_boolean:\n",
    "    rotation_data = {\n",
    "        'informative_data': {\n",
    "            'exp_id': exp_id,\n",
    "            'timeBef': timeBef,\n",
    "            'timeAft': timeAft,\n",
    "            'refValue': refValue,\n",
    "            'din': din,\n",
    "            'time': time,\n",
    "            'chanSpace': chanSpace,\n",
    "            'rotationSpeed': rotationSpeed,\n",
    "            'ProbeType': ProbeType,\n",
    "            # 'f': f,\n",
    "            'ML_pos': ML_pos,\n",
    "            'AP_pos': AP_pos\n",
    "            },\n",
    "        'Spiking_times': {\n",
    "            'SpikeTimesMUA': SpikeTimesMUA,\n",
    "            'Ntrial': Ntrial,\n",
    "            'protocolSeparationIndex': limit,\n",
    "            'SpikeTimes': SpikeTimes,\n",
    "        },\n",
    "        'Rotation_data': {\n",
    "            'ref': ref,\n",
    "            'peaks': peaks,\n",
    "            'RotationWise': RotationWise,\n",
    "            'MeanRotation': MeanRotation,\n",
    "            'duration': duration,\n",
    "            'table_velocity': table_velocity,\n",
    "            'shiftIndex': shiftIndex,\n",
    "        },\n",
    "        'SUA_data': {\n",
    "            'c_class': c_class,\n",
    "            'Nclust': Nclust\n",
    "        },\n",
    "        'MUA_data': {\n",
    "            'm_class': m_class,\n",
    "            'm_class_tet': m_class_tet,\n",
    "            'Nclust_mua': Nclust_mua,\n",
    "            'Ntet': Ntet,\n",
    "            'allBasem': allBasem,\n",
    "            'PkDepthUnit': PkDepthUnit,\n",
    "            'mapp': mapp,\n",
    "            'ArgallLayers': ArgallLayers,\n",
    "            'DepthTetrode': DepthTetrode,\n",
    "            'AllDepth': AllDepth\n",
    "        },\n",
    "        'Statistics_data': {\n",
    "            'windowBef': windowBef,\n",
    "            'windowDur': windowDur,\n",
    "            'numberBef': numberBef,\n",
    "            'numberDur': numberDur,\n",
    "            'diffBefDur': diffBefDur,\n",
    "            'sumBefDur': sumBefDur,\n",
    "            'statistics_vMI': statistics_vMI,\n",
    "            'statistics_dirMI': statistics_dirMI,\n",
    "            'p_values_vMI': p_values_vMI,\n",
    "            'p_values_dirMI': p_values_dirMI,\n",
    "            'significance_vMI': significance_vMI,\n",
    "            'significance_dirMI': significance_dirMI,\n",
    "            'modulation': modulation,\n",
    "            'preference': preference,\n",
    "            'vMI':vMI,\n",
    "            'dirMI': dirMI\n",
    "        }\n",
    "    }\n",
    "\n",
    "\n",
    "\n",
    "    file = os.path.join(saving_folder, exp_id+\"_rotation_data.pickle\")\n",
    "        \n",
    "    # Sauvegarde des variables dans un fichier\n",
    "    with open(file, 'wb') as FILE_WRITTER:\n",
    "        pickle.dump(rotation_data, FILE_WRITTER)\n",
    "        FILE_WRITTER.close()"
   ]
  }
 ],
 "metadata": {
  "kernelspec": {
   "display_name": "Python 3",
   "language": "python",
   "name": "python3"
  },
  "language_info": {
   "codemirror_mode": {
    "name": "ipython",
    "version": 3
   },
   "file_extension": ".py",
   "mimetype": "text/x-python",
   "name": "python",
   "nbconvert_exporter": "python",
   "pygments_lexer": "ipython3",
   "version": "3.12.2"
  }
 },
 "nbformat": 4,
 "nbformat_minor": 2
}
