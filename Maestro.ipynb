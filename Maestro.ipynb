{
 "cells": [
  {
   "cell_type": "code",
   "execution_count": 4,
   "metadata": {},
   "outputs": [],
   "source": [
    "import os\n",
    "from nbconvert.preprocessors import ExecutePreprocessor\n",
    "from nbconvert import NotebookExporter\n",
    "import nbformat\n",
    "import jdata as jd\n",
    "\n",
    "i = 1\n",
    "\n",
    "for selected_path in [r'P:\\SharedFiles\\Abdussamed\\Pulvinar_rec_dark_80degs\\animal21_a51d1s1_ephys\\21a51d1s1_210602_110516',#\n",
    "                      r'']:\n",
    "\n",
    "\n",
    "    executed_notebook = os.path.join(r'C:\\Users\\gbouvier\\BOUVIER', 'Analyze.ipynb')\n",
    "    result_notebook = os.path.join(r'C:\\Users\\ayazici\\Documents\\Analyses', f\"Analyze_{i}.ipynb\")\n",
    "\n",
    "    jd.save(selected_path, os.path.join(r'C:\\Users\\ayazici\\Documents\\Analyses', 'path.json'))\n",
    "\n",
    "\n",
    "    # Charger le notebook à exécuter\n",
    "    with open(executed_notebook, 'r', encoding='utf-8') as f:\n",
    "        notebook = nbformat.read(f, as_version=4)\n",
    "\n",
    "    # Créer un préprocesseur pour exécuter le notebook\n",
    "    preprocessor = ExecutePreprocessor(timeout=None)\n",
    "\n",
    "    # Exécuter le notebook\n",
    "    preprocessor.preprocess(notebook)\n",
    "\n",
    "    # Exporter le notebook exécuté\n",
    "    exporter = NotebookExporter()\n",
    "    body, resources = exporter.from_notebook_node(notebook)\n",
    "\n",
    "    # Écrire le notebook exécuté dans un fichier\n",
    "    with open(result_notebook, 'w', encoding='utf-8') as f:\n",
    "        f.write(body)\n",
    "\n",
    "    i+=1\n"
   ]
  }
 ],
 "metadata": {
  "kernelspec": {
   "display_name": "Python 3",
   "language": "python",
   "name": "python3"
  },
  "language_info": {
   "codemirror_mode": {
    "name": "ipython",
    "version": 3
   },
   "file_extension": ".py",
   "mimetype": "text/x-python",
   "name": "python",
   "nbconvert_exporter": "python",
   "pygments_lexer": "ipython3",
   "version": "3.12.2"
  }
 },
 "nbformat": 4,
 "nbformat_minor": 2
}
