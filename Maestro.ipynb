{
 "cells": [
  {
   "cell_type": "code",
   "execution_count": 6,
   "metadata": {},
   "outputs": [
    {
     "name": "stdout",
     "output_type": "stream",
     "text": [
      "Dossier ajouté : P:/SharedFiles/Abdussamed/Pulvinar_rec_dark_80degs/animal21_a53d1s1_ephys/21a53d1s1_210604_150840\n",
      "Dossier ajouté : P:/SharedFiles/Abdussamed/Pulvinar_rec_dark_80degs/animal21_a51d1s1_ephys/21a51d1s1_210602_110516\n",
      "Dossier ajouté : P:/SharedFiles/Abdussamed/Pulvinar_rec_dark_80degs/animal21_a21d1s1_ephys/21a21d1s1_210408_155731\n",
      "Dossier ajouté : P:/SharedFiles/Abdussamed/Pulvinar_rec_dark_80degs/animal21_a19d1s1_ephys/21a19d1s1_210403_130057\n",
      "Dossier ajouté : P:/SharedFiles/Abdussamed/Pulvinar_rec_dark_80degs/animal21_a18d1s1_ephys/21a18d1s1_210401_111241\n",
      "Dossier ajouté : P:/SharedFiles/Abdussamed/Pulvinar_rec_dark_80degs/animal21_a17d1s1_ephys/21a17d1s1_210330_130118\n",
      "Dossier ajouté : P:/SharedFiles/Abdussamed/Pulvinar_rec_dark_80degs/animal21_a15d1s1_ephys/21a15d1s1_210326_163524\n",
      "Sélection confirmée : ['P:/SharedFiles/Abdussamed/Pulvinar_rec_dark_80degs/animal21_a53d1s1_ephys/21a53d1s1_210604_150840', 'P:/SharedFiles/Abdussamed/Pulvinar_rec_dark_80degs/animal21_a51d1s1_ephys/21a51d1s1_210602_110516', 'P:/SharedFiles/Abdussamed/Pulvinar_rec_dark_80degs/animal21_a21d1s1_ephys/21a21d1s1_210408_155731', 'P:/SharedFiles/Abdussamed/Pulvinar_rec_dark_80degs/animal21_a19d1s1_ephys/21a19d1s1_210403_130057', 'P:/SharedFiles/Abdussamed/Pulvinar_rec_dark_80degs/animal21_a18d1s1_ephys/21a18d1s1_210401_111241', 'P:/SharedFiles/Abdussamed/Pulvinar_rec_dark_80degs/animal21_a17d1s1_ephys/21a17d1s1_210330_130118', 'P:/SharedFiles/Abdussamed/Pulvinar_rec_dark_80degs/animal21_a15d1s1_ephys/21a15d1s1_210326_163524']\n",
      "Dossiers sélectionnés : ['P:/SharedFiles/Abdussamed/Pulvinar_rec_dark_80degs/animal21_a53d1s1_ephys/21a53d1s1_210604_150840', 'P:/SharedFiles/Abdussamed/Pulvinar_rec_dark_80degs/animal21_a51d1s1_ephys/21a51d1s1_210602_110516', 'P:/SharedFiles/Abdussamed/Pulvinar_rec_dark_80degs/animal21_a21d1s1_ephys/21a21d1s1_210408_155731', 'P:/SharedFiles/Abdussamed/Pulvinar_rec_dark_80degs/animal21_a19d1s1_ephys/21a19d1s1_210403_130057', 'P:/SharedFiles/Abdussamed/Pulvinar_rec_dark_80degs/animal21_a18d1s1_ephys/21a18d1s1_210401_111241', 'P:/SharedFiles/Abdussamed/Pulvinar_rec_dark_80degs/animal21_a17d1s1_ephys/21a17d1s1_210330_130118', 'P:/SharedFiles/Abdussamed/Pulvinar_rec_dark_80degs/animal21_a15d1s1_ephys/21a15d1s1_210326_163524']\n"
     ]
    }
   ],
   "source": [
    "import tkinter as tk\n",
    "from tkinter import filedialog\n",
    "\n",
    "class SelectFoldersDialog:\n",
    "    def __init__(self, master):\n",
    "        self.master = master\n",
    "        self.selected_folders = []\n",
    "\n",
    "        self.label = tk.Label(master, text=\"Sélectionnez les dossiers :\")\n",
    "        self.label.pack()\n",
    "\n",
    "        self.add_button = tk.Button(master, text=\"Ajouter un dossier\", command=self.add_folder)\n",
    "        self.add_button.pack()\n",
    "\n",
    "        self.confirm_button = tk.Button(master, text=\"Confirmer la sélection\", command=self.confirm_selection)\n",
    "        self.confirm_button.pack()\n",
    "\n",
    "    def add_folder(self):\n",
    "        folder = filedialog.askdirectory()\n",
    "        if folder:\n",
    "            self.selected_folders.append(folder)\n",
    "            print(\"Dossier ajouté :\", folder)\n",
    "\n",
    "    def confirm_selection(self):\n",
    "        if self.selected_folders:\n",
    "            print(\"Sélection confirmée :\", self.selected_folders)\n",
    "            self.master.destroy()\n",
    "        else:\n",
    "            print(\"Aucun dossier sélectionné. Veuillez ajouter au moins un dossier.\")\n",
    "\n",
    "            # Si aucun dossier n'est sélectionné, vous pouvez choisir de quitter l'application ici\n",
    "            # self.master.destroy()\n",
    "\n",
    "def open_select_folders_dialog():\n",
    "    root = tk.Tk()\n",
    "    dialog = SelectFoldersDialog(root)\n",
    "    root.mainloop()\n",
    "\n",
    "    return dialog.selected_folders  # Retourner les dossiers sélectionnés\n",
    "\n",
    "# Exemple d'utilisation : ouvrir une fenêtre de dialogue pour sélectionner les dossiers\n",
    "selected_folders = open_select_folders_dialog()\n",
    "\n",
    "# Utiliser les dossiers sélectionnés ailleurs dans votre programme\n",
    "print(\"Dossiers sélectionnés :\", selected_folders)"
   ]
  },
  {
   "cell_type": "code",
   "execution_count": 13,
   "metadata": {},
   "outputs": [
    {
     "name": "stderr",
     "output_type": "stream",
     "text": [
      "Analyzing folders:  14%|█▍        | 1/7 [07:50<47:04, 470.67s/folder]"
     ]
    },
    {
     "name": "stdout",
     "output_type": "stream",
     "text": [
      "Analysis done\n"
     ]
    }
   ],
   "source": [
    "import os\n",
    "from nbconvert.preprocessors import ExecutePreprocessor\n",
    "from nbconvert import NotebookExporter\n",
    "import nbformat\n",
    "import jdata as jd\n",
    "from tqdm import tqdm  # Importer tqdm pour la barre de progression\n",
    "\n",
    "# Nombre total de dossiers à analyser\n",
    "total_folders = len(selected_folders)\n",
    "\n",
    "# Utiliser tqdm pour afficher une barre de progression\n",
    "for i, selected_path in enumerate(tqdm(selected_folders, desc=\"Analyzing folders\", unit=\"folder\")):\n",
    "    executed_notebook = os.path.join(r'C:\\Users\\gbouvier\\BOUVIER', 'Analyze.ipynb')\n",
    "    result_notebook = os.path.join(r'C:\\Users\\ayazici\\Documents\\Analyses', f\"Analyze_{i+1}.ipynb\")  \n",
    "\n",
    "    jd.save(selected_path, os.path.join(r'C:\\Users\\ayazici\\Documents\\Analyses', 'path.json'))\n",
    "\n",
    "    # Charger le notebook à exécuter\n",
    "    with open(executed_notebook, 'r', encoding='utf-8') as f:\n",
    "        notebook = nbformat.read(f, as_version=4)\n",
    "\n",
    "    # Créer un préprocesseur pour exécuter le notebook\n",
    "    preprocessor = ExecutePreprocessor(timeout=None)\n",
    "\n",
    "    # Exécuter le notebook\n",
    "    preprocessor.preprocess(notebook)\n",
    "\n",
    "    # Exporter le notebook exécuté\n",
    "    exporter = NotebookExporter()\n",
    "    body, resources = exporter.from_notebook_node(notebook)\n",
    "\n",
    "    # Écrire le notebook exécuté dans un fichier\n",
    "    with open(result_notebook, 'w', encoding='utf-8') as f:\n",
    "        f.write(body)\n",
    "\n",
    "    print(f\"Analysis done\")\n",
    "\n"
   ]
  }
 ],
 "metadata": {
  "kernelspec": {
   "display_name": "Python 3",
   "language": "python",
   "name": "python3"
  },
  "language_info": {
   "codemirror_mode": {
    "name": "ipython",
    "version": 3
   },
   "file_extension": ".py",
   "mimetype": "text/x-python",
   "name": "python",
   "nbconvert_exporter": "python",
   "pygments_lexer": "ipython3",
   "version": "3.12.2"
  }
 },
 "nbformat": 4,
 "nbformat_minor": 2
}
