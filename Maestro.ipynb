{
 "cells": [
  {
   "cell_type": "code",
   "execution_count": 19,
   "metadata": {},
   "outputs": [],
   "source": [
    "analyse_path = r'C:\\Users\\ayazici\\Documents\\Analyses'"
   ]
  },
  {
   "cell_type": "code",
   "execution_count": 37,
   "metadata": {},
   "outputs": [],
   "source": [
    "import scipy.io\n",
    "import os\n",
    "import h5py\n",
    "import numpy as np\n",
    "from scipy.signal import find_peaks, savgol_filter\n",
    "import matplotlib.pyplot as plt\n",
    "# from scipy.stats import sem\n",
    "from scipy.stats import wilcoxon\n",
    "import pandas as pd\n",
    "import json\n",
    "import jdata as jd"
   ]
  },
  {
   "cell_type": "code",
   "execution_count": 11,
   "metadata": {},
   "outputs": [
    {
     "name": "stdout",
     "output_type": "stream",
     "text": [
      "Dossier ajouté : P:/SharedFiles/Abdussamed/Pulvinar_rec_dark_80degs/animal21_a53d1s1_ephys/21a53d1s1_210604_150840\n",
      "Dossier ajouté : P:/SharedFiles/Abdussamed/Pulvinar_rec_dark_80degs/animal21_a51d1s1_ephys/21a51d1s1_210602_110516\n",
      "Dossier ajouté : P:/SharedFiles/Abdussamed/Pulvinar_rec_dark_80degs/animal21_a21d1s1_ephys/21a21d1s1_210408_155731\n",
      "Dossier ajouté : P:/SharedFiles/Abdussamed/Pulvinar_rec_dark_80degs/animal21_a19d1s1_ephys/21a19d1s1_210403_130057\n",
      "Dossier ajouté : P:/SharedFiles/Abdussamed/Pulvinar_rec_dark_80degs/animal21_a18d1s1_ephys/21a18d1s1_210401_111241\n",
      "Dossier ajouté : P:/SharedFiles/Abdussamed/Pulvinar_rec_dark_80degs/animal21_a17d1s1_ephys/21a17d1s1_210330_130118\n",
      "Dossier ajouté : P:/SharedFiles/Abdussamed/Pulvinar_rec_dark_80degs/animal21_a15d1s1_ephys/21a15d1s1_210326_163524\n",
      "Sélection confirmée : ['P:/SharedFiles/Abdussamed/Pulvinar_rec_dark_80degs/animal21_a53d1s1_ephys/21a53d1s1_210604_150840', 'P:/SharedFiles/Abdussamed/Pulvinar_rec_dark_80degs/animal21_a51d1s1_ephys/21a51d1s1_210602_110516', 'P:/SharedFiles/Abdussamed/Pulvinar_rec_dark_80degs/animal21_a21d1s1_ephys/21a21d1s1_210408_155731', 'P:/SharedFiles/Abdussamed/Pulvinar_rec_dark_80degs/animal21_a19d1s1_ephys/21a19d1s1_210403_130057', 'P:/SharedFiles/Abdussamed/Pulvinar_rec_dark_80degs/animal21_a18d1s1_ephys/21a18d1s1_210401_111241', 'P:/SharedFiles/Abdussamed/Pulvinar_rec_dark_80degs/animal21_a17d1s1_ephys/21a17d1s1_210330_130118', 'P:/SharedFiles/Abdussamed/Pulvinar_rec_dark_80degs/animal21_a15d1s1_ephys/21a15d1s1_210326_163524']\n"
     ]
    }
   ],
   "source": [
    "import tkinter as tk\n",
    "from tkinter import filedialog\n",
    "\n",
    "class SelectFoldersDialog:\n",
    "    def __init__(self, master):\n",
    "        self.master = master\n",
    "        self.selected_folders = []\n",
    "\n",
    "        self.label = tk.Label(master, text=\"Sélectionnez les dossiers :\")\n",
    "        self.label.pack()\n",
    "\n",
    "        self.add_button = tk.Button(master, text=\"Ajouter un dossier\", command=self.add_folder)\n",
    "        self.add_button.pack()\n",
    "\n",
    "        self.confirm_button = tk.Button(master, text=\"Confirmer la sélection\", command=self.confirm_selection)\n",
    "        self.confirm_button.pack()\n",
    "\n",
    "    def add_folder(self):\n",
    "        folder = filedialog.askdirectory()\n",
    "        if folder:\n",
    "            self.selected_folders.append(folder)\n",
    "            print(\"Dossier ajouté :\", folder)\n",
    "\n",
    "    def confirm_selection(self):\n",
    "        if self.selected_folders:\n",
    "            print(\"Sélection confirmée :\", self.selected_folders)\n",
    "            self.master.destroy()\n",
    "        else:\n",
    "            print(\"Aucun dossier sélectionné. Veuillez ajouter au moins un dossier.\")\n",
    "\n",
    "            # Si aucun dossier n'est sélectionné, vous pouvez choisir de quitter l'application ici\n",
    "            # self.master.destroy()\n",
    "\n",
    "def open_select_folders_dialog():\n",
    "    root = tk.Tk()\n",
    "    dialog = SelectFoldersDialog(root)\n",
    "    root.mainloop()\n",
    "\n",
    "    return dialog.selected_folders  # Retourner les dossiers sélectionnés\n",
    "\n",
    "# Exemple d'utilisation : ouvrir une fenêtre de dialogue pour sélectionner les dossiers\n",
    "selected_folders = np.unique(open_select_folders_dialog())"
   ]
  },
  {
   "cell_type": "code",
   "execution_count": 69,
   "metadata": {},
   "outputs": [
    {
     "name": "stderr",
     "output_type": "stream",
     "text": [
      "Analyzing folders: 100%|██████████| 7/7 [48:23<00:00, 414.79s/folder]\n"
     ]
    }
   ],
   "source": [
    "from nbconvert.preprocessors import ExecutePreprocessor\n",
    "from nbconvert import NotebookExporter\n",
    "import nbformat\n",
    "from tqdm import tqdm  # Importer tqdm pour la barre de progression\n",
    "\n",
    "# Nombre total de dossiers à analyser\n",
    "total_folders = len(selected_folders)\n",
    "\n",
    "# Utiliser tqdm pour afficher une barre de progression\n",
    "for i, selected_path in enumerate(tqdm(selected_folders, desc=\"Analyzing folders\", unit=\"folder\")):\n",
    "    executed_notebook = os.path.join(r'C:\\Users\\gbouvier\\BOUVIER', 'Analyze.ipynb')\n",
    "    result_notebook = os.path.join(analyse_path, f\"Analyze_{i+1}.ipynb\")  \n",
    "\n",
    "    jd.save(selected_path, os.path.join(analyse_path, 'path.json'))\n",
    "\n",
    "    # Charger le notebook à exécuter\n",
    "    with open(executed_notebook, 'r', encoding='utf-8') as f:\n",
    "        notebook = nbformat.read(f, as_version=4)\n",
    "\n",
    "    # Créer un préprocesseur pour exécuter le notebook\n",
    "    preprocessor = ExecutePreprocessor(timeout=None)\n",
    "\n",
    "    # Exécuter le notebook\n",
    "    preprocessor.preprocess(notebook)\n",
    "\n",
    "    # Exporter le notebook exécuté\n",
    "    exporter = NotebookExporter()\n",
    "    body, resources = exporter.from_notebook_node(notebook)\n",
    "\n",
    "    # Écrire le notebook exécuté dans un fichier\n",
    "    with open(result_notebook, 'w', encoding='utf-8') as f:\n",
    "        f.write(body)\n",
    "\n"
   ]
  },
  {
   "cell_type": "code",
   "execution_count": 70,
   "metadata": {},
   "outputs": [
    {
     "name": "stderr",
     "output_type": "stream",
     "text": [
      "Data loading: 100%|██████████| 7/7 [17:34<00:00, 150.60s/folder]\n"
     ]
    }
   ],
   "source": [
    "AllData = {}\n",
    "\n",
    "data_folder = os.path.join(analyse_path, 'Data')\n",
    "\n",
    "for i, file in enumerate(tqdm(sorted(os.listdir(data_folder)), desc=\"Data loading\", unit=\"folder\")):\n",
    "    AllData[file.split('_')[1]] = jd.load(os.path.join(data_folder, file))"
   ]
  },
  {
   "cell_type": "code",
   "execution_count": 71,
   "metadata": {},
   "outputs": [],
   "source": [
    "save = True\n",
    "\n",
    "s=15\n",
    "\n",
    "for pos_title, posOrientation in zip(['Mediolateral', 'Anteroposterior'], ['ML_pos', 'AP_pos']):\n",
    "    for condition in ['first', 'second']:\n",
    "        for direction in ['CW','CCW']:\n",
    "            for animal in AllData:\n",
    "                pos = AllData[animal]['informative_data'][posOrientation]\n",
    "                Nclust = AllData[animal]['SUA_data']['Nclust']\n",
    "                AllDepth = AllData[animal]['MUA_data']['AllDepth']\n",
    "                vMI = AllData[animal]['Statistics_data']['vMI']\n",
    "\n",
    "                plt.scatter(pos*np.ones(Nclust), AllDepth, c=vMI[condition][direction], cmap='coolwarm', s=s)\n",
    "\n",
    "            plt.gca().invert_yaxis()\n",
    "\n",
    "            plt.colorbar(label=f\"{direction} modulation index\")\n",
    "\n",
    "            plt.xlabel(f\"{pos_title} position (mm)\")\n",
    "            plt.ylabel(\"Depth (µm)\")\n",
    "            plt.title(f\"{direction} modulation of units, {condition} condition\")\n",
    "\n",
    "            if save:\n",
    "                direction_modulation_folder = os.path.join(analyse_path, 'Direction_modulation')\n",
    "                os.makedirs(direction_modulation_folder, exist_ok=True)\n",
    "                plt.savefig(os.path.join(direction_modulation_folder , f\"{direction}_modulation_{condition}_{pos_title}.png\"))\n",
    "                plt.close()\n",
    "            else:\n",
    "                plt.show()"
   ]
  },
  {
   "cell_type": "code",
   "execution_count": 72,
   "metadata": {},
   "outputs": [],
   "source": [
    "save = True\n",
    "\n",
    "s=15\n",
    "\n",
    "for pos_title, posOrientation in zip(['Mediolateral', 'Anteroposterior'], ['ML_pos', 'AP_pos']):\n",
    "    for condition in ['first', 'second']:\n",
    "        for animal in AllData:\n",
    "            pos = AllData[animal]['informative_data'][posOrientation]\n",
    "            Nclust = AllData[animal]['SUA_data']['Nclust']\n",
    "            AllDepth = AllData[animal]['MUA_data']['AllDepth']\n",
    "            dirMI = AllData[animal]['Statistics_data']['dirMI']\n",
    "\n",
    "            plt.scatter(pos*np.ones(Nclust), AllDepth, c=dirMI[condition], cmap='coolwarm', s=s)\n",
    "\n",
    "        plt.gca().invert_yaxis()\n",
    "\n",
    "        plt.colorbar(label=f\"Direction Modulation Index\\n(CW - CCW) / (CW + CCW)\")\n",
    "\n",
    "        plt.xlabel(\"Mediolateral position (mm)\")\n",
    "        plt.ylabel(\"Depth (µm)\")\n",
    "        plt.title(f\"CW vs CCW preference\")\n",
    "\n",
    "        if save:\n",
    "            direction_preference_folder = os.path.join(analyse_path, 'Direction_preference')\n",
    "            os.makedirs(direction_preference_folder, exist_ok=True)\n",
    "            plt.savefig(os.path.join(direction_preference_folder , f\"Direction_preference_{condition}_{pos_title}.png\"))\n",
    "            plt.close()\n",
    "        else:\n",
    "            plt.show()"
   ]
  }
 ],
 "metadata": {
  "kernelspec": {
   "display_name": "Python 3",
   "language": "python",
   "name": "python3"
  },
  "language_info": {
   "codemirror_mode": {
    "name": "ipython",
    "version": 3
   },
   "file_extension": ".py",
   "mimetype": "text/x-python",
   "name": "python",
   "nbconvert_exporter": "python",
   "pygments_lexer": "ipython3",
   "version": "3.12.2"
  }
 },
 "nbformat": 4,
 "nbformat_minor": 2
}
