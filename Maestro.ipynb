{
 "cells": [
  {
   "cell_type": "code",
   "execution_count": 59,
   "metadata": {},
   "outputs": [],
   "source": [
    "import scipy.io\n",
    "import os\n",
    "import h5py\n",
    "import numpy as np\n",
    "from scipy.signal import find_peaks, savgol_filter\n",
    "import matplotlib.pyplot as plt\n",
    "# from scipy.stats import sem\n",
    "from scipy.stats import wilcoxon\n",
    "import pandas as pd\n",
    "import json\n",
    "import jdata as jd\n",
    "import re\n",
    "import pickle\n",
    "\n",
    "from nbconvert.preprocessors import ExecutePreprocessor\n",
    "from nbconvert import NotebookExporter\n",
    "import nbformat\n",
    "from tqdm import tqdm  # Importer tqdm pour la barre de progression\n",
    "\n",
    "import shutil"
   ]
  },
  {
   "cell_type": "code",
   "execution_count": 8,
   "metadata": {},
   "outputs": [
    {
     "data": {
      "text/plain": [
       "<contextlib.ExitStack at 0x2384ce57590>"
      ]
     },
     "execution_count": 8,
     "metadata": {},
     "output_type": "execute_result"
    }
   ],
   "source": [
    "# qt for popup window (savable as pdf, svg...), inline for inline plot, notebook for interactive plot, widget for interactive plot\n",
    "%matplotlib widget \n",
    "plt.ioff()"
   ]
  },
  {
   "cell_type": "markdown",
   "metadata": {},
   "source": [
    "# Functions"
   ]
  },
  {
   "cell_type": "code",
   "execution_count": 9,
   "metadata": {},
   "outputs": [],
   "source": [
    "# import tkinter as tk\n",
    "# from tkinter import filedialog\n",
    "\n",
    "# def open_select_folders_dialog():\n",
    "#     class SelectFoldersDialog:\n",
    "#         def __init__(self, master):\n",
    "#             self.master = master\n",
    "#             self.selected_folders = []\n",
    "\n",
    "#             self.label = tk.Label(master, text=\"Sélectionnez les dossiers :\")\n",
    "#             self.label.pack()\n",
    "\n",
    "#             self.add_button = tk.Button(master, text=\"Ajouter un dossier\", command=self.add_folder)\n",
    "#             self.add_button.pack()\n",
    "\n",
    "#             self.confirm_button = tk.Button(master, text=\"Confirmer la sélection\", command=self.confirm_selection)\n",
    "#             self.confirm_button.pack()\n",
    "\n",
    "#         def add_folder(self):\n",
    "#             folder = filedialog.askdirectory()\n",
    "#             if folder:\n",
    "#                 self.selected_folders.append(folder)\n",
    "#                 print(\"Dossier ajouté :\", folder)\n",
    "\n",
    "#         def confirm_selection(self):\n",
    "#             if self.selected_folders:\n",
    "#                 print(\"Sélection confirmée :\", self.selected_folders)\n",
    "#                 self.master.destroy()\n",
    "#             else:\n",
    "#                 print(\"Aucun dossier sélectionné. Veuillez ajouter au moins un dossier.\")\n",
    "\n",
    "#                 # Si aucun dossier n'est sélectionné, vous pouvez choisir de quitter l'application ici\n",
    "#                 # self.master.destroy()\n",
    "\n",
    "#     def open_select_folders_dialog():\n",
    "#         root = tk.Tk()\n",
    "#         dialog = SelectFoldersDialog(root)\n",
    "#         root.mainloop()\n",
    "\n",
    "#         return dialog.selected_folders  # Retourner les dossiers sélectionnés\n",
    "\n",
    "#     return np.unique(open_select_folders_dialog())"
   ]
  },
  {
   "cell_type": "code",
   "execution_count": 30,
   "metadata": {},
   "outputs": [],
   "source": [
    "import tkinter as tk\n",
    "from tkinter import filedialog\n",
    "\n",
    "def browse(type,extra,multiple=False):\n",
    "    if type == 'file':\n",
    "        if multiple:\n",
    "            browsed = filedialog.askopenfilenames(title='Select your files '+extra)\n",
    "        else:\n",
    "            browsed = filedialog.askopenfilename(title='Select a file '+extra)\n",
    "    elif type == 'folder':\n",
    "        if multiple:\n",
    "            dirselect = filedialog.Directory(title='Select your folders '+extra)\n",
    "            browsed = []\n",
    "            while True:\n",
    "                d = dirselect.show()\n",
    "                if not d: break\n",
    "                browsed.append(d)\n",
    "        else:\n",
    "            browsed = filedialog.askdirectory(title='Select a folder '+extra)\n",
    "    \n",
    "    return browsed"
   ]
  },
  {
   "cell_type": "code",
   "execution_count": 42,
   "metadata": {},
   "outputs": [],
   "source": [
    "def maestro_function(selected_folders, analyse_path, analysis_script):\n",
    "    # Nombre total de dossiers à analyser\n",
    "    total_folders = len(selected_folders)\n",
    "\n",
    "    # tqdm pour afficher une barre de progression\n",
    "    for i, selected_path in enumerate(tqdm(selected_folders, desc=\"Analyzing folders\", unit=\"folder\")):\n",
    "\n",
    "        exp_id = \"_\".join([element for element in split_path(selected_path) if 'animal' in element][0].split('_')[0:2])\n",
    "\n",
    "        executed_notebook = analysis_script\n",
    "        result_notebook = os.path.join(analyse_path, f\"Analysis_{exp_id}.ipynb\")  \n",
    "\n",
    "        jd.save(selected_path, os.path.join(analyse_path, 'path.json'))\n",
    "\n",
    "        # Charger le notebook à exécuter\n",
    "        with open(executed_notebook, 'r', encoding='utf-8') as f:\n",
    "            notebook = nbformat.read(f, as_version=4)\n",
    "\n",
    "        # Créer un préprocesseur pour exécuter le notebook\n",
    "        preprocessor = ExecutePreprocessor(timeout=None)\n",
    "\n",
    "        # Exécuter le notebook\n",
    "        preprocessor.preprocess(notebook)\n",
    "\n",
    "        # Exporter le notebook exécuté\n",
    "        exporter = NotebookExporter()\n",
    "        body, resources = exporter.from_notebook_node(notebook)\n",
    "\n",
    "        # Écrire le notebook exécuté dans un fichier\n",
    "        with open(result_notebook, 'w', encoding='utf-8') as f:\n",
    "            f.write(body)\n",
    "\n",
    "        os.makedirs(os.path.join(analyse_path, 'Path'), exist_ok=True)\n",
    "        shutil.move(os.path.join(analyse_path, 'path.json'), os.path.join(analyse_path, 'Path', f\"{exp_id}.json\"))"
   ]
  },
  {
   "cell_type": "code",
   "execution_count": 12,
   "metadata": {},
   "outputs": [],
   "source": [
    "def vMI_function(AllData, save = False,s=35,alpha=0.6):\n",
    "    for pos_title, posOrientation in zip(['Mediolateral', 'Anteroposterior'], ['ML_pos', 'AP_pos']):\n",
    "        for condition in ['first', 'second']:\n",
    "            for direction in ['CW','CCW']:\n",
    "                for animal in AllData:\n",
    "                    pos = AllData[animal]['informative_data'][posOrientation]\n",
    "                    Nclust = AllData[animal]['SUA_data']['Nclust']\n",
    "                    AllDepth = AllData[animal]['MUA_data']['AllDepth']\n",
    "                    vMI = AllData[animal]['Statistics_data']['vMI']\n",
    "\n",
    "                    plt.scatter(pos*np.ones(Nclust), AllDepth, c=vMI[condition][direction], cmap='coolwarm', s=s, alpha=alpha)\n",
    "\n",
    "                plt.gca().invert_yaxis()\n",
    "                if posOrientation == 'ML_pos':\n",
    "                    plt.gca().invert_xaxis()\n",
    "\n",
    "                plt.colorbar(label=f\"{direction} modulation index\")\n",
    "\n",
    "                plt.xlabel(f\"{pos_title} position (mm)\")\n",
    "                plt.ylabel(\"Depth (µm)\")\n",
    "                plt.title(f\"{direction} modulation of units, {condition} condition\")\n",
    "\n",
    "                if save:\n",
    "                    direction_modulation_folder = os.path.join(analyse_path, 'Direction_modulation')\n",
    "                    os.makedirs(direction_modulation_folder, exist_ok=True)\n",
    "                    plt.savefig(os.path.join(direction_modulation_folder , f\"{direction}_modulation_{condition}_{pos_title}.png\"))\n",
    "                    plt.close()\n",
    "                else:\n",
    "                    plt.show()"
   ]
  },
  {
   "cell_type": "code",
   "execution_count": 51,
   "metadata": {},
   "outputs": [],
   "source": [
    "def dirMI_function(AllData, save = False,s=35,alpha=0.6):\n",
    "    for pos_title, posOrientation in zip(['Mediolateral', 'Anteroposterior'], ['ML_pos', 'AP_pos']):\n",
    "        for condition in ['first', 'second']:\n",
    "            for animal in AllData:\n",
    "                pos = AllData[animal]['informative_data'][posOrientation]\n",
    "                Nclust = AllData[animal]['SUA_data']['Nclust']\n",
    "                AllDepth = AllData[animal]['MUA_data']['AllDepth']\n",
    "                dirMI = AllData[animal]['Statistics_data']['dirMI']\n",
    "\n",
    "                plt.scatter(pos*np.ones(Nclust), AllDepth, c=dirMI[condition], cmap='coolwarm', s=s, alpha=alpha)\n",
    "\n",
    "            plt.gca().invert_yaxis()\n",
    "            if posOrientation == 'ML_pos':\n",
    "                plt.gca().invert_xaxis()\n",
    "\n",
    "            plt.colorbar(label=f\"Direction Modulation Index\\n(CW - CCW) / (CW + CCW)\")\n",
    "\n",
    "            plt.xlabel(f\"{pos_title} position (mm)\")\n",
    "            plt.ylabel(\"Depth (µm)\")\n",
    "            plt.title(f\"CW vs CCW preference\")\n",
    "\n",
    "            if save:\n",
    "                direction_preference_folder = os.path.join(analyse_path, 'Direction_preference')\n",
    "                os.makedirs(direction_preference_folder, exist_ok=True)\n",
    "                plt.savefig(os.path.join(direction_preference_folder , f\"Direction_preference_{condition}_{pos_title}.png\"))\n",
    "                plt.close()\n",
    "            else:\n",
    "                plt.show()"
   ]
  },
  {
   "cell_type": "code",
   "execution_count": 14,
   "metadata": {},
   "outputs": [],
   "source": [
    "def split_path(path):\n",
    "    drive, path_without_drive = os.path.splitdrive(path)\n",
    "    path_segments = []\n",
    "    while True:\n",
    "        head, tail = os.path.split(path_without_drive)\n",
    "        if tail:\n",
    "            path_segments.insert(0, tail)\n",
    "            path_without_drive = head\n",
    "        else:\n",
    "            if head:\n",
    "                path_segments.insert(0, head)\n",
    "            break\n",
    "    path_segments.insert(0, drive)\n",
    "    return path_segments"
   ]
  },
  {
   "cell_type": "code",
   "execution_count": 15,
   "metadata": {},
   "outputs": [],
   "source": [
    "# def select_files():\n",
    "#     root = tk.Tk()\n",
    "#     root.withdraw()  # Hide the main window\n",
    "\n",
    "#     files = filedialog.askopenfilenames(\n",
    "#         title=\"Sélectionner des fichiers\",\n",
    "#         filetypes=[(\"Tous les fichiers\", \"*.*\")]  # Types de fichiers autorisés\n",
    "#     )\n",
    "\n",
    "#     root.destroy()  # Destroy the root window\n",
    "\n",
    "#     return files"
   ]
  },
  {
   "cell_type": "code",
   "execution_count": 73,
   "metadata": {},
   "outputs": [],
   "source": [
    "def load(all):\n",
    "    AllData = {}\n",
    "\n",
    "    data_folder = os.path.join(analyse_path, 'Data')\n",
    "    \n",
    "\n",
    "\n",
    "    if all:\n",
    "        files_to_load = sorted(os.listdir(data_folder))\n",
    "        \n",
    "        for i, file in enumerate(tqdm(files_to_load, desc=\"Data loading\", unit=\"folder\")):\n",
    "            # AllData[file.split('_')[1]] = jd.load(os.path.join(data_folder, file))\n",
    "            with open(os.path.join(data_folder, file), 'rb') as FILE_READER:\n",
    "                AllData[file.split('_')[1]] = pickle.load(FILE_READER)\n",
    "    else:\n",
    "        files_to_load = browse('file',multiple=True, extra='to load')\n",
    "\n",
    "        for i, file in enumerate(tqdm(files_to_load, desc=\"Data loading\", unit=\"folder\")):\n",
    "            # AllData[file.split('_')[1]] = jd.load(file)\n",
    "            with open(file, 'rb') as FILE_READER:\n",
    "                AllData[file.split('_')[1]] = pickle.load(FILE_READER)\n",
    "\n",
    "    return AllData"
   ]
  },
  {
   "cell_type": "markdown",
   "metadata": {},
   "source": [
    "# Initiation"
   ]
  },
  {
   "cell_type": "code",
   "execution_count": 31,
   "metadata": {},
   "outputs": [
    {
     "name": "stdout",
     "output_type": "stream",
     "text": [
      "Analysis script: C:/Users/gbouvier/BOUVIER/Analysis_dark_vestibular.ipynb\n",
      "Selected folders: ['P:/SharedFiles/Abdussamed/Pulvinar_rec_dark_80degs/animal21_a53d1s1_ephys/21a53d1s1_210604_150840', 'P:/SharedFiles/Abdussamed/Pulvinar_rec_dark_80degs/animal21_a51d1s1_ephys/21a51d1s1_210602_110516', 'P:/SharedFiles/Abdussamed/Pulvinar_rec_dark_80degs/animal21_a21d1s1_ephys/21a21d1s1_210408_155731', 'P:/SharedFiles/Abdussamed/Pulvinar_rec_dark_80degs/animal21_a19d1s1_ephys/21a19d1s1_210403_130057', 'P:/SharedFiles/Abdussamed/Pulvinar_rec_dark_80degs/animal21_a18d1s1_ephys/21a18d1s1_210401_111241', 'P:/SharedFiles/Abdussamed/Pulvinar_rec_dark_80degs/animal21_a17d1s1_ephys/21a17d1s1_210330_130118', 'P:/SharedFiles/Abdussamed/Pulvinar_rec_dark_80degs/animal21_a17d1s1_ephys/21a17d1s1_210330_130118', 'P:/SharedFiles/Abdussamed/Pulvinar_rec_dark_80degs/animal21_a15d1s1_ephys/21a15d1s1_210326_163524']\n",
      "Analysis path: C:/Users/ayazici/Documents/Analyses/Vestibular_experiments\n"
     ]
    }
   ],
   "source": [
    "analysis_script = browse('file', extra = 'for analysis') # 'Analysis_dark_vestibular.ipynb'\n",
    "selected_folders = browse('folder', multiple=True, extra = 'to analyze')\n",
    "analyse_path = browse('folder', extra = 'to save resulting data') # r'C:\\Users\\ayazici\\Documents\\Analyses\\Vestibular_experiments'\n",
    "\n",
    "print('Analysis script:', analysis_script)\n",
    "print('Selected folders:', selected_folders)\n",
    "print('Analysis path:', analyse_path)"
   ]
  },
  {
   "cell_type": "markdown",
   "metadata": {},
   "source": [
    "# Analysis"
   ]
  },
  {
   "cell_type": "code",
   "execution_count": 64,
   "metadata": {},
   "outputs": [
    {
     "name": "stderr",
     "output_type": "stream",
     "text": [
      "Analyzing folders: 100%|██████████| 8/8 [08:16<00:00, 62.03s/folder]\n"
     ]
    }
   ],
   "source": [
    "maestro_function(selected_folders, analyse_path, analysis_script)"
   ]
  },
  {
   "cell_type": "code",
   "execution_count": 74,
   "metadata": {},
   "outputs": [
    {
     "name": "stderr",
     "output_type": "stream",
     "text": [
      "Data loading: 100%|██████████| 7/7 [00:25<00:00,  3.69s/folder]\n"
     ]
    }
   ],
   "source": [
    "AllData = load(all=True)"
   ]
  },
  {
   "cell_type": "code",
   "execution_count": 76,
   "metadata": {},
   "outputs": [],
   "source": [
    "vMI_function(AllData, save=True, s=45, alpha=0.4)"
   ]
  },
  {
   "cell_type": "code",
   "execution_count": 77,
   "metadata": {},
   "outputs": [],
   "source": [
    "dirMI_function(AllData, save=True, s=45, alpha=0.4)"
   ]
  }
 ],
 "metadata": {
  "kernelspec": {
   "display_name": "Python 3",
   "language": "python",
   "name": "python3"
  },
  "language_info": {
   "codemirror_mode": {
    "name": "ipython",
    "version": 3
   },
   "file_extension": ".py",
   "mimetype": "text/x-python",
   "name": "python",
   "nbconvert_exporter": "python",
   "pygments_lexer": "ipython3",
   "version": "3.12.2"
  }
 },
 "nbformat": 4,
 "nbformat_minor": 2
}
