{
 "cells": [
  {
   "cell_type": "code",
   "execution_count": 1,
   "metadata": {},
   "outputs": [],
   "source": [
    "import scipy.io\n",
    "import os\n",
    "import h5py\n",
    "import numpy as np\n",
    "from scipy.signal import find_peaks, savgol_filter\n",
    "import matplotlib.pyplot as plt\n",
    "# from scipy.stats import sem\n",
    "from scipy.stats import wilcoxon\n",
    "import pandas as pd\n",
    "import json\n",
    "import jdata as jd"
   ]
  },
  {
   "cell_type": "code",
   "execution_count": null,
   "metadata": {},
   "outputs": [],
   "source": [
    "# qt for popup window (savable as pdf, svg...), inline for inline plot, notebook for interactive plot, widget for interactive plot\n",
    "%matplotlib widget \n",
    "plt.ioff()"
   ]
  },
  {
   "cell_type": "code",
   "execution_count": null,
   "metadata": {},
   "outputs": [],
   "source": [
    "AllData = jd.load(os.path.join(selected_path2, exp_id+\"_data.json\"))"
   ]
  },
  {
   "cell_type": "code",
   "execution_count": null,
   "metadata": {},
   "outputs": [],
   "source": [
    "newdata.keys()"
   ]
  },
  {
   "cell_type": "code",
   "execution_count": null,
   "metadata": {},
   "outputs": [],
   "source": [
    "condition = 'second'\n",
    "direction = 'CW'\n",
    "s = 25\n",
    "\n",
    "\n",
    "\n",
    "\n",
    "\n",
    "plt.scatter(ML_pos*np.ones(Nclust), AllDepth, c=vMI[condition][direction], cmap='coolwarm', s=s)\n",
    "\n",
    "\n",
    "\n",
    "\n",
    "\n",
    "plt.gca().invert_yaxis()\n",
    "\n",
    "plt.colorbar(label=f\"{direction} modulation index\")\n",
    "\n",
    "plt.xlabel(\"Mediolateral position (mm)\")\n",
    "plt.ylabel(\"Depth (µm)\")\n",
    "plt.title(f\"{direction} modulation of units\")\n",
    "\n",
    "plt.show()"
   ]
  }
 ],
 "metadata": {
  "kernelspec": {
   "display_name": "Python 3",
   "language": "python",
   "name": "python3"
  },
  "language_info": {
   "codemirror_mode": {
    "name": "ipython",
    "version": 3
   },
   "file_extension": ".py",
   "mimetype": "text/x-python",
   "name": "python",
   "nbconvert_exporter": "python",
   "pygments_lexer": "ipython3",
   "version": "3.12.2"
  }
 },
 "nbformat": 4,
 "nbformat_minor": 2
}
