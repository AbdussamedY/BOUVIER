{
 "cells": [
  {
   "cell_type": "code",
   "execution_count": 1,
   "metadata": {},
   "outputs": [],
   "source": [
    "from MyModule import *"
   ]
  },
  {
   "cell_type": "code",
   "execution_count": 2,
   "metadata": {},
   "outputs": [],
   "source": [
    "data = pd.read_excel(r'C:\\Users\\gbouvier\\Documents\\census.xlsx', sheet_name='Study')"
   ]
  },
  {
   "cell_type": "code",
   "execution_count": 3,
   "metadata": {},
   "outputs": [],
   "source": [
    "%matplotlib qt\n",
    "warnings.filterwarnings(\"ignore\", category=UserWarning)\n",
    "%run multi_animal_function.ipynb"
   ]
  },
  {
   "cell_type": "markdown",
   "metadata": {},
   "source": [
    "# Spike number"
   ]
  },
  {
   "cell_type": "code",
   "execution_count": 4,
   "metadata": {},
   "outputs": [
    {
     "ename": "NameError",
     "evalue": "name 'rotation_data' is not defined",
     "output_type": "error",
     "traceback": [
      "\u001b[1;31m---------------------------------------------------------------------------\u001b[0m",
      "\u001b[1;31mNameError\u001b[0m                                 Traceback (most recent call last)",
      "Cell \u001b[1;32mIn[4], line 3\u001b[0m\n\u001b[0;32m      1\u001b[0m animal \u001b[38;5;241m=\u001b[39m \u001b[38;5;124m'\u001b[39m\u001b[38;5;124manimal21_a17d1s1\u001b[39m\u001b[38;5;124m'\u001b[39m\n\u001b[1;32m----> 3\u001b[0m \u001b[38;5;28;01mfor\u001b[39;00m neuron \u001b[38;5;129;01min\u001b[39;00m \u001b[38;5;28mrange\u001b[39m(\u001b[43mrotation_data\u001b[49m[animal][\u001b[38;5;124m'\u001b[39m\u001b[38;5;124mNclust\u001b[39m\u001b[38;5;124m'\u001b[39m]):\n\u001b[0;32m      4\u001b[0m     neuron \u001b[38;5;241m+\u001b[39m\u001b[38;5;241m=\u001b[39m \u001b[38;5;241m1\u001b[39m\n\u001b[0;32m      5\u001b[0m     \u001b[38;5;28mprint\u001b[39m(\u001b[38;5;124mf\u001b[39m\u001b[38;5;124m\"\u001b[39m\u001b[38;5;124mNeuron \u001b[39m\u001b[38;5;132;01m{\u001b[39;00mneuron\u001b[38;5;132;01m}\u001b[39;00m\u001b[38;5;124m : \u001b[39m\u001b[38;5;132;01m{\u001b[39;00m\u001b[38;5;124m'\u001b[39m\u001b[38;5;132;01m{:,.0f}\u001b[39;00m\u001b[38;5;124m'\u001b[39m\u001b[38;5;241m.\u001b[39mformat(\u001b[38;5;28mlen\u001b[39m(rotation_data[animal][\u001b[38;5;124m'\u001b[39m\u001b[38;5;124mc_class\u001b[39m\u001b[38;5;124m'\u001b[39m][rotation_data[animal][\u001b[38;5;124m'\u001b[39m\u001b[38;5;124mc_class\u001b[39m\u001b[38;5;124m'\u001b[39m][:,\u001b[38;5;241m0\u001b[39m]\u001b[38;5;241m==\u001b[39mneuron,\u001b[38;5;241m1\u001b[39m]))\u001b[38;5;241m.\u001b[39mreplace(\u001b[38;5;124m'\u001b[39m\u001b[38;5;124m,\u001b[39m\u001b[38;5;124m'\u001b[39m,\u001b[38;5;250m \u001b[39m\u001b[38;5;124m'\u001b[39m\u001b[38;5;124m \u001b[39m\u001b[38;5;124m'\u001b[39m)\u001b[38;5;132;01m}\u001b[39;00m\u001b[38;5;124m\"\u001b[39m) \n",
      "\u001b[1;31mNameError\u001b[0m: name 'rotation_data' is not defined"
     ]
    }
   ],
   "source": [
    "animal = 'animal21_a17d1s1'\n",
    "\n",
    "for neuron in range(rotation_data[animal]['Nclust']):\n",
    "    neuron += 1\n",
    "    print(f\"Neuron {neuron} : {'{:,.0f}'.format(len(rotation_data[animal]['c_class'][rotation_data[animal]['c_class'][:,0]==neuron,1])).replace(',', ' ')}\") "
   ]
  },
  {
   "cell_type": "markdown",
   "metadata": {},
   "source": [
    "# Autocorr figure"
   ]
  },
  {
   "cell_type": "code",
   "execution_count": null,
   "metadata": {},
   "outputs": [],
   "source": [
    "%matplotlib qt\n",
    "\n",
    "max_lag = 1000\n",
    "\n",
    "bin_size = 0.5\n",
    "\n",
    "animal = 'animal21_a17d1s1'\n",
    "\n",
    "neuron = 20\n",
    "\n",
    "autocorr = []\n",
    "\n",
    "c_class = rotation_data[animal]['c_class']\n",
    "\n",
    "for spike in tqdm(c_class[c_class[:,0]==neuron,1]):\n",
    "    for spike2 in c_class[c_class[:,0]==neuron,1]:\n",
    "        if spike != spike2 and abs(spike - spike2) <= max_lag:\n",
    "            autocorr.append(spike - spike2)\n",
    "\n",
    "\n",
    "plt.figure()\n",
    "plt.hist(autocorr, bins=np.arange(-max_lag, max_lag, bin_size))\n",
    "plt.margins(x=0)\n",
    "plt.xlabel('Lag (ms)')\n",
    "plt.ylabel('Number of spikes')\n",
    "plt.title(f\"Autocorrelogram of neuron {neuron}, {animal}\")\n",
    "plt.show()"
   ]
  },
  {
   "cell_type": "markdown",
   "metadata": {},
   "source": [
    "# ISI figure"
   ]
  },
  {
   "cell_type": "code",
   "execution_count": null,
   "metadata": {},
   "outputs": [],
   "source": [
    "isi = np.diff(rotation_data[animal]['c_class'][rotation_data[animal]['c_class'][:,0]==neuron,1])\n",
    "\n",
    "\n",
    "plt.figure()\n",
    "plt.hist(isi, bins=8000)\n",
    "plt.margins(x=0)\n",
    "plt.ylabel('Counts')\n",
    "plt.xlabel('ISI (ms)')\n",
    "plt.title(f\"ISI of neuron {neuron}, {rotation_data[animal]['exp_id']}\")\n",
    "# plt.xlim(0,200)\n",
    "plt.show()"
   ]
  },
  {
   "cell_type": "markdown",
   "metadata": {},
   "source": [
    "# Spike Waveforms"
   ]
  },
  {
   "cell_type": "code",
   "execution_count": null,
   "metadata": {},
   "outputs": [],
   "source": [
    "# df = pd.read_excel(r'c:\\Users\\gbouvier\\Documents\\census.xlsx')\n",
    "# raw_data_path = df['raw_data_path'][df['exp_id']==animal].iloc[0]\n",
    "\n",
    "# times_polytrodeAll = scipy.io.loadmat(os.path.join(raw_data_path, 'times_polytrodeAll.mat'))\n",
    "# # suaWf = times_polytrodeAll['clusWFmua']\n",
    "# suaWf = times_polytrodeAll['clusWFs']\n",
    "\n",
    "\n",
    "# for unit in range(len(suaWf)):\n",
    "#     max_amplitude = max(np.concatenate([abs(suaWf[unit][:,trace]) for trace in range(suaWf[unit].shape[1])]))\n",
    "#     iteration = 0\n",
    "#     plt.figure(figsize=(4,8))\n",
    "\n",
    "#     for trace in range(suaWf[unit].shape[1]):\n",
    "#         if np.std(suaWf[unit][:,trace])>np.std(np.concatenate([abs(suaWf[unit][:,trace]) for trace in range(suaWf[unit].shape[1])]))/2:\n",
    "#             color='red'\n",
    "#             alpha=1\n",
    "#         else:\n",
    "#             color='black'\n",
    "#             alpha=0.4\n",
    "#         plt.plot(suaWf[unit][:,trace] - max_amplitude*trace, color=color, alpha=alpha)\n",
    "#         shift=-5\n",
    "#         plt.plot(shift,-max_amplitude*trace, 'o', color=color, alpha=alpha)\n",
    "        \n",
    "#     plt.text(suaWf.shape[1]/2, max_amplitude/1.5, 'Spike waveforms', ha='center')\n",
    "#     for trace in [1, suaWf.shape[2]]:\n",
    "#         plt.text(shift-4, -max_amplitude*(trace-1), f'Channel {trace}', ha='right', va='center')\n",
    "#     plt.text(shift-7, -max_amplitude*suaWf.shape[2]/2, r'$\\vdots$', ha='right', va='center')\n",
    "\n",
    "#     plt.plot([shift-2, shift-2, shift, shift+2, shift+2, shift-2], \n",
    "#         [max_amplitude, -max_amplitude*suaWf.shape[2], -(max_amplitude+5)*suaWf.shape[2], -max_amplitude*suaWf.shape[2],  max_amplitude, max_amplitude],\n",
    "#         color='k')\n",
    "\n",
    "#     plt.axis('off')\n",
    "#     plt.title(f'Unit {unit}, {animal}')\n",
    "#     plt.xlim(-20,54)\n",
    "#     plt.show()"
   ]
  },
  {
   "cell_type": "code",
   "execution_count": null,
   "metadata": {},
   "outputs": [],
   "source": [
    "from mpl_toolkits.axes_grid1 import make_axes_locatable\n",
    "\n",
    "\n",
    "df = pd.read_excel(r'c:\\Users\\gbouvier\\Documents\\census.xlsx')\n",
    "raw_data_path = df['raw_data_path'][df['exp_id'] == animal].iloc[0]\n",
    "\n",
    "times_polytrodeAll = scipy.io.loadmat(os.path.join(raw_data_path, 'times_polytrodeAll.mat'))\n",
    "suaWf = times_polytrodeAll['clusWFs']\n",
    "\n",
    "\n",
    "shift = -5\n",
    "for unit in range(len(suaWf)):\n",
    "    fig, ax1 = plt.subplots(figsize=(6, 8))\n",
    "\n",
    "    \n",
    "    max_amplitude = max(np.concatenate([abs(suaWf[unit][:, trace]) for trace in range(suaWf[unit].shape[1])]))\n",
    "\n",
    "    for trace in range(suaWf[unit].shape[1]):\n",
    "        if np.std(suaWf[unit][:,trace])>np.std(np.concatenate([abs(suaWf[unit][:,trace]) for trace in range(suaWf[unit].shape[1])]))/1.25:\n",
    "            color='red'\n",
    "            alpha=1\n",
    "        else:\n",
    "            color='black'\n",
    "            alpha=0.4\n",
    "        ax1.plot(suaWf[unit][:, trace] - max_amplitude * trace, color=color, alpha=alpha)\n",
    "        ax1.plot(shift, -max_amplitude * trace, 'o', color=color, alpha=alpha)\n",
    "\n",
    "    plt.text(suaWf.shape[1]/2, max_amplitude/1.5, 'Spike waveforms', ha='center')\n",
    "    for trace in [1, suaWf[unit].shape[1]]:\n",
    "        ax1.text(shift - 4, -max_amplitude * (trace - 1), f'Channel {trace}', ha='right', va='center')\n",
    "    plt.text(shift-7, -max_amplitude*suaWf.shape[2]/2, r'$\\vdots$', ha='right', va='center')\n",
    "    \n",
    "    ax1.plot([shift - 2, shift - 2, shift, shift + 2, shift + 2, shift - 2], \n",
    "             [max_amplitude, -max_amplitude * suaWf[unit].shape[1], -(max_amplitude + 5) * suaWf[unit].shape[1], \n",
    "              -max_amplitude * suaWf[unit].shape[1], max_amplitude, max_amplitude],\n",
    "             color='k')\n",
    "\n",
    "\n",
    "    ax1.axis('off')\n",
    "    ax1.set_xlim(-20, suaWf.shape[1])\n",
    "    ax1.set_ylim(-(max_amplitude + 6) * suaWf[unit].shape[1], 1.1*max_amplitude)\n",
    "\n",
    "\n",
    "    divider = make_axes_locatable(ax1)\n",
    "    ax2 = divider.append_axes(\"right\", size=\"30%\", pad=0.1, sharey=ax1)\n",
    "\n",
    "\n",
    "    amplitudes_max = np.array([max(abs(suaWf[unit][:, trace])) for trace in range(suaWf[unit].shape[1])])\n",
    "\n",
    "\n",
    "    im = ax2.imshow(\n",
    "        amplitudes_max.reshape(-1, 1),\n",
    "        cmap='OrRd',  \n",
    "        interpolation='bicubic',\n",
    "        extent=(0, 1, -max_amplitude * suaWf[unit].shape[1], 0),\n",
    "        aspect='auto',\n",
    "        alpha=0.6\n",
    "    )\n",
    "\n",
    "\n",
    "    cax = divider.append_axes(\"right\", size=\"5%\", pad=0.1)\n",
    "    plt.colorbar(im, cax=cax, label=r'Maximal amplitude ($\\mu$V)')\n",
    "    ax2.axis('off')\n",
    "\n",
    "    fig.suptitle(f'Unit {unit}, {animal}')\n",
    "    plt.show()"
   ]
  },
  {
   "cell_type": "code",
   "execution_count": null,
   "metadata": {},
   "outputs": [],
   "source": [
    "plt.figure()\n",
    "plt.plot([0,0,-1,-1.5,-1,1,1.5,1,0], [5,2,-1,-2,-1,-1,-2,-1,2])\n",
    "\n",
    "plt.show()"
   ]
  },
  {
   "cell_type": "code",
   "execution_count": null,
   "metadata": {},
   "outputs": [],
   "source": [
    "plt.close('all')"
   ]
  },
  {
   "cell_type": "markdown",
   "metadata": {},
   "source": [
    "# LFP with spikes"
   ]
  },
  {
   "cell_type": "code",
   "execution_count": null,
   "metadata": {},
   "outputs": [],
   "source": [
    "file_path = r'P:\\SCANZIANI\\ephys 2021\\2021\\RAW_DATA\\21a17\\21a17d1s1_210330_130118\\amp-A-020.dat'\n",
    "\n",
    "with open(file_path, 'rb') as file:\n",
    "    binary_data = file.read()\n",
    "\n",
    "\n",
    "data = np.frombuffer(binary_data, dtype=np.int16)\n",
    "data = data*0.195\n",
    "\n",
    "print(data.shape)"
   ]
  },
  {
   "cell_type": "code",
   "execution_count": null,
   "metadata": {},
   "outputs": [],
   "source": [
    "%matplotlib qt\n",
    "plt.figure()\n",
    "plt.plot(rotation_data['animal21_a17d1s1']['time'], data)\n",
    "plt.show()"
   ]
  },
  {
   "cell_type": "code",
   "execution_count": null,
   "metadata": {},
   "outputs": [],
   "source": [
    "import scipy.signal as signal\n",
    "\n",
    "\n",
    "for i in range(16,48):\n",
    "    file_path = rf'P:\\SCANZIANI\\ephys 2021\\2021\\RAW_DATA\\21a17\\21a17d1s1_210330_130118\\amp-A-{str(i).zfill(3)}.dat'\n",
    "\n",
    "    with open(file_path, 'rb') as file:\n",
    "        binary_data = file.read()\n",
    "\n",
    "\n",
    "    data = np.frombuffer(binary_data, dtype=np.int16)\n",
    "    data = data*0.195\n",
    "\n",
    "    fs = 1000\n",
    "    t = np.linspace(0, len(data[:1000000]), 1, endpoint=False)\n",
    "\n",
    "\n",
    "    signal_data = data[:1000000]\n",
    "\n",
    "    f, t, Sxx = signal.spectrogram(signal_data, fs, nperseg=256, noverlap=128, nfft=512)\n",
    "\n",
    "    plt.figure()\n",
    "    plt.pcolormesh(t, f, 10 * np.log10(Sxx), shading='gouraud', cmap='coolwarm')  # Transformation logarithmique pour l'échelle dB\n",
    "    plt.ylabel('Fréquence [Hz]')\n",
    "    plt.xlabel('Temps [s]')\n",
    "    plt.colorbar(label='Intensité [dB]')\n",
    "    plt.title('Spectrogramme, amp-B-'+str(i-16).zfill(3))\n",
    "    # plt.ylim(0,100)\n",
    "    plt.show()\n"
   ]
  },
  {
   "cell_type": "code",
   "execution_count": null,
   "metadata": {},
   "outputs": [],
   "source": [
    "print(np.load(r'p:\\SCANZIANI\\ephys 2021\\2021\\analysed_ephys_2021\\animal21_a17d1s1_ephys\\21a17d1s1_210330_130118\\channel_map.npy')+1)\n",
    "\n",
    "# 31 is in LP and 3 in hippocampus I think"
   ]
  },
  {
   "cell_type": "code",
   "execution_count": null,
   "metadata": {},
   "outputs": [],
   "source": []
  },
  {
   "cell_type": "code",
   "execution_count": null,
   "metadata": {},
   "outputs": [],
   "source": [
    "# for animal in rotation_data:\n",
    "#     print(animal, rotation_data[animal]['mapp'], '\\n')\n",
    "#     %matplotlib qt\n",
    "#     plt.figure(figsize=(5,10))\n",
    "#     for i in range(len(rotation_data[animal]['mapp'])):\n",
    "#         plt.text(0, -i, int(rotation_data[animal]['mapp'][i]))\n",
    "#     plt.xlim(-1,1)\n",
    "#     plt.ylim(1,-len(rotation_data[animal]['mapp'])-1)\n",
    "#     plt.axis('off')\n",
    "#     plt.title('Model H4 '+animal) if animal not in ['animal20_a40d1s1', 'animal20_a41d1s1'] else plt.title('Model H5 '+animal)\n",
    "#     plt.show()"
   ]
  }
 ],
 "metadata": {
  "kernelspec": {
   "display_name": "Python 3",
   "language": "python",
   "name": "python3"
  },
  "language_info": {
   "codemirror_mode": {
    "name": "ipython",
    "version": 3
   },
   "file_extension": ".py",
   "mimetype": "text/x-python",
   "name": "python",
   "nbconvert_exporter": "python",
   "pygments_lexer": "ipython3",
   "version": "3.11.9"
  }
 },
 "nbformat": 4,
 "nbformat_minor": 2
}
